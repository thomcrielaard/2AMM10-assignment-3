{
 "cells": [
  {
   "cell_type": "markdown",
   "id": "963690b2",
   "metadata": {
    "id": "963690b2"
   },
   "source": [
    "<a href=\"https://colab.research.google.com/github/vlamen/tue-deeplearning/blob/main/assignments/assignment_2_3/a3_skeleton.ipynb\" target=\"_parent\"><img src=\"https://colab.research.google.com/assets/colab-badge.svg\" alt=\"Open In Colab\"/></a>"
   ]
  },
  {
   "cell_type": "markdown",
   "id": "bd8459f1",
   "metadata": {
    "id": "bd8459f1"
   },
   "source": [
    "# Group Number:\n",
    "\n",
    "# Student 1:\n",
    "\n",
    "# Student 2:\n",
    "\n",
    "# Student 3:"
   ]
  },
  {
   "cell_type": "markdown",
   "id": "dde28458",
   "metadata": {
    "id": "dde28458"
   },
   "source": [
    "# Downloading Data and Preliminaries"
   ]
  },
  {
   "cell_type": "code",
   "execution_count": 1,
   "id": "7d0580a5",
   "metadata": {
    "id": "7d0580a5"
   },
   "outputs": [
    {
     "name": "stderr",
     "output_type": "stream",
     "text": [
      "C:\\Users\\Tobias\\AppData\\Local\\Programs\\Python\\Python310\\lib\\site-packages\\tqdm\\auto.py:22: TqdmWarning: IProgress not found. Please update jupyter and ipywidgets. See https://ipywidgets.readthedocs.io/en/stable/user_install.html\n",
      "  from .autonotebook import tqdm as notebook_tqdm\n"
     ]
    }
   ],
   "source": [
    "import pickle\n",
    "import matplotlib.pyplot as plt\n",
    "import matplotlib\n",
    "import numpy as np\n",
    "import torch\n",
    "from torch import nn\n",
    "\n",
    "from zipfile import ZipFile\n",
    "import requests\n",
    "import io"
   ]
  },
  {
   "cell_type": "code",
   "execution_count": 2,
   "id": "8ce00edc",
   "metadata": {
    "id": "8ce00edc"
   },
   "outputs": [],
   "source": [
    "def load_zip(url):\n",
    "    response = requests.get(url)\n",
    "    response.raise_for_status()\n",
    "    zipf = ZipFile(io.BytesIO(response.content))\n",
    "    return {name: zipf.read(name) for name in zipf.namelist()}\n",
    "\n",
    "def load_pickle(zipfile, fn):\n",
    "    return pickle.load(io.BytesIO(zipfile[fn]))"
   ]
  },
  {
   "cell_type": "code",
   "execution_count": 3,
   "id": "bb77a4be",
   "metadata": {
    "id": "bb77a4be"
   },
   "outputs": [],
   "source": [
    "data = load_zip('https://surfdrive.surf.nl/files/index.php/s/cwqGaS22KXgnXtg/download')\n",
    "\n",
    "    \n",
    "\"\"\"\n",
    "simulation_{train, valid, test} is stored as a list of simulations. \n",
    "Each simulation is a numpy array of size (t, 2): For t timesteps an x and y coordinate of our particle.\n",
    "\"\"\"\n",
    "simulation_train = load_pickle(data, 'data/train/simulation.pickle')  # 3.1 + 3.2\n",
    "simulation_valid = load_pickle(data, 'data/valid/simulation.pickle')  # 3.1 + 3.2\n",
    "simulation_test = load_pickle(data, 'data/test/simulation.pickle')  # 3.1 + 3.2\n",
    "\n",
    "\"\"\"\n",
    "charges_{train, valid, test} is stored as a list of simulation-charges. \n",
    "These charges are stored as numpy arrays of size (3,): One value for each charge.\n",
    "\"\"\"\n",
    "charges_train = load_pickle(data, 'data/train/charges.pickle')  # 3.1\n",
    "charges_valid = load_pickle(data, 'data/valid/charges.pickle')  # 3.1\n",
    "charges_test = load_pickle(data, 'data/test/charges.pickle')  # 3.1\n",
    "\n",
    "\"\"\"\n",
    "simulation_continued_{train, valid, test} is stored as a list of simulations. \n",
    "Each simulation is a numpy array of size (t, 2): For t timesteps an x and y coordinate of our particle.\n",
    "\"\"\"\n",
    "simulation_continued_train = load_pickle(data, 'data/train/simulation_continued.pickle')  # 3.2\n",
    "simulation_continued_valid = load_pickle(data, 'data/valid/simulation_continued.pickle')  # 3.2\n",
    "simulation_continued_test = load_pickle(data, 'data/test/simulation_continued.pickle')  # 3.2\n",
    "\n",
    "\"\"\"\n",
    "Note that the indices are shared throughout the different lists, e.g., for the 4th training simulation:\n",
    "simulation_train[3] contains its initial simulation\n",
    "charges_train[3] contains the charges associated with the simulation\n",
    "simulation_continued_train[3] contains the continuation of the simulation \n",
    "                --> simulation_continued_train[3][0] is the state after simulation_train[3][-1]\n",
    "\"\"\"\n",
    "pass"
   ]
  },
  {
   "cell_type": "code",
   "execution_count": 4,
   "id": "10a3438a",
   "metadata": {
    "colab": {
     "base_uri": "https://localhost:8080/"
    },
    "id": "10a3438a",
    "outputId": "6035e76d-b4f9-4422-f58e-9e931083920c"
   },
   "outputs": [
    {
     "name": "stdout",
     "output_type": "stream",
     "text": [
      "Overview of no. datapoints:\n",
      "\n",
      "Task 3.1:\n",
      "800 train, 100 validation, 100 test simulations\n",
      "800 train, 100 validation, 100 test charge pairs\n",
      "\n",
      "Task 3.2:\n",
      "Since len(simulation_continued_train) < len(simulation_train), we can only use a subset of initial simulations\n",
      "We cut simulation_train down to the first 150 samples in simulation_train_task32\n",
      "150 train, 100 validation, 100 test simulations\n",
      "150 train, 100 validation, 100 test continuations\n",
      "\n",
      "For task 3.1, use:\n",
      "simulation_train + charges_train\n",
      "simulation_valid + charges_valid\n",
      "simulation_test + charges_test\n",
      "\n",
      "For task 3.2, use:\n",
      "simulation_train_task32 + simulation_continued_train\n",
      "simulation_valid + simulation_continued_valid\n",
      "simulation_test + simulation_continued_test\n",
      "\n"
     ]
    }
   ],
   "source": [
    "print('Overview of no. datapoints:\\n')\n",
    "\n",
    "print('Task 3.1:')\n",
    "print(f'{len(simulation_train)} train, {len(simulation_valid)} validation, {len(simulation_test)} test simulations')\n",
    "print(f'{len(charges_train)} train, {len(charges_valid)} validation, {len(charges_test)} test charge pairs')\n",
    "print()\n",
    "\n",
    "print('Task 3.2:')\n",
    "print('Since len(simulation_continued_train) < len(simulation_train), we can only use a subset of initial simulations')\n",
    "print('We cut simulation_train down to the first 150 samples in simulation_train_task32')\n",
    "simulation_train_task32 = simulation_train[:150]\n",
    "print(f'{len(simulation_train_task32)} train, {len(simulation_valid)} validation, {len(simulation_test)} test simulations')\n",
    "print(f'{len(simulation_continued_train)} train, {len(simulation_continued_valid)} validation, {len(simulation_continued_test)} test continuations')\n",
    "\n",
    "print(f\"\"\"\n",
    "For task 3.1, use:\n",
    "{chr(10).join([\"simulation_{} + charges_{}\".format(t, t) for t in [\"train\", \"valid\", \"test\"]])}\n",
    "\n",
    "For task 3.2, use:\n",
    "{chr(10).join([\"simulation_{} + simulation_continued_{}\".format(*((t[0], t[1]) if isinstance(t, tuple) else (t, t))) for t in [(\"train_task32\", \"train\"), \"valid\", \"test\"]])}\n",
    "\"\"\")\n"
   ]
  },
  {
   "cell_type": "code",
   "execution_count": 5,
   "id": "3cfafdb3",
   "metadata": {
    "colab": {
     "base_uri": "https://localhost:8080/"
    },
    "id": "3cfafdb3",
    "outputId": "cefc2526-dba6-489e-e726-38c61b696b10"
   },
   "outputs": [
    {
     "name": "stdout",
     "output_type": "stream",
     "text": [
      "Print some shapes:\n",
      "\n",
      "simulation_train[0].shape: (103, 2) -> (t, 2), (x, y) at every t)\n",
      "charges_train[0].shape: (3,) -> charges for the simulation\n",
      "simulation_continued_train[0].shape: (54, 2) -> (t, 2), (x, y) at every t)\n",
      "----\n",
      "\n",
      "simulation_train[1].shape: (97, 2) -> (t, 2), (x, y) at every t)\n",
      "charges_train[1].shape: (3,) -> charges for the simulation\n",
      "simulation_continued_train[1].shape: (45, 2) -> (t, 2), (x, y) at every t)\n",
      "----\n",
      "\n",
      "simulation_train[2].shape: (99, 2) -> (t, 2), (x, y) at every t)\n",
      "charges_train[2].shape: (3,) -> charges for the simulation\n",
      "simulation_continued_train[2].shape: (47, 2) -> (t, 2), (x, y) at every t)\n",
      "----\n",
      "\n"
     ]
    }
   ],
   "source": [
    "print('Print some shapes:\\n')\n",
    "for i in range(3):\n",
    "    print('simulation_train[{}].shape:'.format(i), simulation_train[i].shape, '-> (t, 2), (x, y) at every t)')\n",
    "    print('charges_train[{}].shape:'.format(i), charges_train[i].shape, '-> charges for the simulation')\n",
    "    print('simulation_continued_train[{}].shape:'.format(i), simulation_continued_train[i].shape, '-> (t, 2), (x, y) at every t)')\n",
    "    print('----\\n')"
   ]
  },
  {
   "cell_type": "code",
   "execution_count": 6,
   "id": "f9106543",
   "metadata": {
    "id": "f9106543"
   },
   "outputs": [],
   "source": [
    "def plot_example(x, x_gt=None, x_pred=None, fn=None):\n",
    "    charge_locations = np.array([[-1.53846154, -1.53846154],\n",
    "                                 [ 1.53846154, -1.53846154],\n",
    "                                 [ 0.        ,  1.53846154]])  # charge locations are fixed\n",
    "    fig = plt.figure()\n",
    "    axes = plt.gca()\n",
    "    axes.set_xlim([-5., 5.])\n",
    "    axes.set_ylim([-5., 5.])\n",
    "    cmap = matplotlib.cm.get_cmap('tab20')\n",
    "    plt.plot(x[:, 0], x[:, 1], color=cmap(0))\n",
    "    plt.plot(x[0, 0], x[0, 1], 'd', color=cmap(1))\n",
    "    fig.set_size_inches(5, 5)\n",
    "    for charge in charge_locations:\n",
    "        plt.plot(charge[0], charge[1], 'd', color='black')\n",
    "    if x_gt is not None:\n",
    "        plt.plot(x_gt[:, 0], x_gt[:, 1], color='red', linewidth=.5)\n",
    "    if x_pred is not None:\n",
    "        plt.plot(x_pred[:, 0], x_pred[:, 1], color='green', linestyle='--')\n",
    "    if fn is None:\n",
    "        plt.show()\n",
    "    else:\n",
    "        plt.savefig(fn)"
   ]
  },
  {
   "cell_type": "code",
   "execution_count": 7,
   "id": "d28681a6",
   "metadata": {
    "colab": {
     "base_uri": "https://localhost:8080/",
     "height": 337
    },
    "id": "d28681a6",
    "outputId": "9b44cd40-5d2e-4ba9-b165-4023f183b135"
   },
   "outputs": [
    {
     "data": {
      "image/png": "[encoded data removed]",
      "text/plain": [
       "<Figure size 360x360 with 1 Axes>"
      ]
     },
     "metadata": {
      "needs_background": "light"
     },
     "output_type": "display_data"
    },
    {
     "name": "stdout",
     "output_type": "stream",
     "text": [
      "Charges are [-0.1399828  -0.60077349 -0.94377978]\n"
     ]
    }
   ],
   "source": [
    "test_idx = np.random.randint(150)\n",
    "plot_example(simulation_train[test_idx], simulation_continued_train[test_idx])\n",
    "print(f'Charges are {charges_train[test_idx]}')"
   ]
  },
  {
   "cell_type": "markdown",
   "id": "883762b1",
   "metadata": {
    "id": "883762b1"
   },
   "source": [
    "# Task 3.1"
   ]
  },
  {
   "cell_type": "markdown",
   "id": "4c1ddabe",
   "metadata": {
    "id": "4c1ddabe"
   },
   "source": [
    "## Data Handling and Preprocessing"
   ]
  },
  {
   "cell_type": "code",
   "execution_count": 8,
   "id": "bd9df856",
   "metadata": {
    "id": "bd9df856"
   },
   "outputs": [],
   "source": [
    "# The inputs for this model would be the location of each particle (p1, p2, p3, p4), the initial charges for p2, p3, and p4\n",
    "# The output is a set of charges at every t, for the maximum\n",
    "\n",
    "# 1. Sort the input sequences by length <- Saving this for optimization later\n",
    "# 2. Pad the input sequences to the maximum length per batch, thus minimizing the amount of padding in the input\n",
    "  # This is 110\n",
    "# 3. Put the input sequences into a dataloader, for shuffling and batching\n",
    "\n",
    "# Maybe sorting isn't even necessary, because the sequences are not that long to begin with.\n",
    "# Padding with 0s is usually done, but this could reduce accuracy for longer sequences, as most examples will have 0 at the end.\n",
    "# I think we can combat this by not calculating loss for the sequence past its usefulness.\n"
   ]
  },
  {
   "cell_type": "code",
   "execution_count": 9,
   "id": "7dd9b7c1",
   "metadata": {
    "id": "7dd9b7c1"
   },
   "outputs": [],
   "source": [
    "import torch\n",
    "import torch.nn as nn\n",
    "import torch.nn.functional as F\n",
    "import torch.optim as optim\n"
   ]
  },
  {
   "cell_type": "code",
   "execution_count": 41,
   "id": "4ec1e03a",
   "metadata": {
    "id": "4ec1e03a"
   },
   "outputs": [],
   "source": [
    "simulation_train_tensor_no_padding = torch.zeros(800, 90, 1, 2)\n",
    "simulation_train_tensor_with_padding = torch.zeros(800, 110, 1, 2)\n",
    "simulation_train_no_nothing = []\n",
    "for i in range(800):\n",
    "  tensor = torch.Tensor(simulation_train[i])\n",
    "  simulation_train_no_nothing.append(tensor)\n",
    "  simulation_train_tensor_with_padding[i] = F.pad(tensor, (0,0,0,110 - tensor.shape[0])).unsqueeze(dim=1)\n",
    "  simulation_train_tensor_no_padding[i] = tensor[-90:, :].unsqueeze(dim=1)\n",
    "\n",
    "simulation_eval = torch.zeros(100, 90, 1, 2)\n",
    "simulation_eval_no_nothing = []\n",
    "for i in range(100):\n",
    "  tensor = torch.Tensor(simulation_valid[i])\n",
    "  simulation_eval_no_nothing.append(tensor)\n",
    "  simulation_eval[i] = tensor[-90:, :].unsqueeze(dim=1)\n"
   ]
  },
  {
   "cell_type": "code",
   "execution_count": 40,
   "id": "lyraAkKykAbz",
   "metadata": {
    "id": "lyraAkKykAbz"
   },
   "outputs": [],
   "source": [
    "from torch.utils.data import Dataset\n",
    "from torch.utils.data import DataLoader\n",
    "\n",
    "class CustomDataset(Dataset):\n",
    "    def __init__(self, input_tensor, output_tensor):\n",
    "        self.input_tensor = input_tensor\n",
    "        self.output_tensor = output_tensor\n",
    "\n",
    "    def __len__(self):\n",
    "        return len(self.input_tensor)\n",
    "\n",
    "    def __getitem__(self, idx):\n",
    "        return self.input_tensor[idx], self.output_tensor[idx].unsqueeze(dim=0)\n",
    "\n",
    "train_dataset = CustomDataset(simulation_train_tensor_no_padding, torch.Tensor(charges_train))\n",
    "train_dataloader = DataLoader(train_dataset, batch_size=1, shuffle=True)\n",
    "\n",
    "train_dataset_padding = CustomDataset(simulation_train_tensor_with_padding, torch.Tensor(charges_train))\n",
    "train_dataloader_padding = DataLoader(train_dataset_padding, batch_size=1, shuffle=True)\n",
    "\n",
    "eval_dataset = CustomDataset(simulation_eval, torch.Tensor(charges_valid))\n",
    "eval_dataloader = DataLoader(eval_dataset, batch_size=1, shuffle=False)\n",
    "\n",
    "train_no_nothing = CustomDataset(simulation_train_no_nothing, torch.Tensor(charges_train))\n",
    "train_no_nothing_dataloader = DataLoader(train_no_nothing, batch_size=1, shuffle=True)"
   ]
  },
  {
   "cell_type": "markdown",
   "id": "cc8853f6",
   "metadata": {
    "id": "cc8853f6"
   },
   "source": [
    "## Model Implementation"
   ]
  },
  {
   "cell_type": "code",
   "execution_count": 70,
   "id": "UR1mwYsYl7hW",
   "metadata": {
    "id": "UR1mwYsYl7hW"
   },
   "outputs": [],
   "source": [
    "class LSTM1(nn.Module):\n",
    "    def __init__(self, input_dim, hidden_dim):\n",
    "        super(LSTM1, self).__init__()\n",
    "        self.input_dim = input_dim\n",
    "        self.hidden_dim = hidden_dim\n",
    "        \n",
    "        # Define LSTM layer\n",
    "        self.lstm = nn.LSTM(input_size=input_dim, hidden_size=hidden_dim, batch_first=True)\n",
    "        \n",
    "        # Define a fully connected layer\n",
    "        self.fc =  nn.Linear(hidden_dim, hidden_dim)\n",
    "        \n",
    "    def forward(self, inputs):\n",
    "        # Forward through lstm layer\n",
    "        _, (h_n, c_n) = self.lstm(inputs)\n",
    "        \n",
    "        # Forward through dense layer\n",
    "        hidden = self.fc(h_n)\n",
    "        \n",
    "        return hidden"
   ]
  },
  {
   "cell_type": "code",
   "execution_count": null,
   "id": "d62b5aa6",
   "metadata": {
    "id": "d62b5aa6"
   },
   "outputs": [],
   "source": []
  },
  {
   "cell_type": "code",
   "execution_count": null,
   "id": "5192ee18",
   "metadata": {
    "id": "5192ee18"
   },
   "outputs": [],
   "source": []
  },
  {
   "cell_type": "markdown",
   "id": "0e443b7f",
   "metadata": {
    "id": "0e443b7f"
   },
   "source": [
    "## Model Training"
   ]
  },
  {
   "cell_type": "code",
   "execution_count": 75,
   "id": "5a5b0aca",
   "metadata": {
    "colab": {
     "base_uri": "https://localhost:8080/",
     "height": 1000
    },
    "id": "5a5b0aca",
    "outputId": "564ad6ca-90d9-404c-e4bd-f87af2be7472"
   },
   "outputs": [
    {
     "name": "stdout",
     "output_type": "stream",
     "text": [
      "epoch: 1, mean training loss: 0.11029312943312107, mean eval loss: 0.11314823975553737\n",
      "epoch: 2, mean training loss: 0.09320741240793723, mean eval loss: 0.10194721930194646\n",
      "epoch: 3, mean training loss: 0.08723646827260381, mean eval loss: 0.09752160009928047\n",
      "epoch: 4, mean training loss: 0.08497529038467291, mean eval loss: 0.09561986138112843\n",
      "epoch: 5, mean training loss: 0.08396821469741553, mean eval loss: 0.09467147509567439\n",
      "epoch: 6, mean training loss: 0.08339997639603097, mean eval loss: 0.09404403899796307\n",
      "epoch: 7, mean training loss: 0.08301568349954323, mean eval loss: 0.09366343430243433\n",
      "epoch: 8, mean training loss: 0.08271338882404962, mean eval loss: 0.0934128056652844\n",
      "epoch: 9, mean training loss: 0.08245536872491357, mean eval loss: 0.09310033956542611\n",
      "epoch: 10, mean training loss: 0.08222692799201468, mean eval loss: 0.09293420737609268\n",
      "epoch: 11, mean training loss: 0.08202659208633122, mean eval loss: 0.09279684133827687\n",
      "epoch: 12, mean training loss: 0.0818450350688363, mean eval loss: 0.09258991342037916\n",
      "epoch: 13, mean training loss: 0.08168330599961336, mean eval loss: 0.09245776088908314\n",
      "epoch: 14, mean training loss: 0.08152838710826472, mean eval loss: 0.09242377273738384\n",
      "epoch: 15, mean training loss: 0.08139877019304549, mean eval loss: 0.0922873593866825\n",
      "epoch: 16, mean training loss: 0.0812723828695016, mean eval loss: 0.092190717831254\n",
      "epoch: 17, mean training loss: 0.08116361861728365, mean eval loss: 0.09208552572876215\n",
      "epoch: 18, mean training loss: 0.0810578533433727, mean eval loss: 0.09191851139068603\n",
      "epoch: 19, mean training loss: 0.08095954592732596, mean eval loss: 0.09189774174243212\n",
      "epoch: 20, mean training loss: 0.08087031772724003, mean eval loss: 0.09181871715933085\n",
      "epoch: 21, mean training loss: 0.08079079869174166, mean eval loss: 0.09172269498929381\n",
      "epoch: 22, mean training loss: 0.08071129829288111, mean eval loss: 0.09164719399064779\n",
      "epoch: 23, mean training loss: 0.08063741935780853, mean eval loss: 0.09160940365865827\n",
      "epoch: 24, mean training loss: 0.08057230328427976, mean eval loss: 0.09150151176378131\n",
      "epoch: 25, mean training loss: 0.08050456661745557, mean eval loss: 0.09145351551473141\n",
      "epoch: 26, mean training loss: 0.08044546498669661, mean eval loss: 0.09138439008966089\n",
      "epoch: 27, mean training loss: 0.08038675599280395, mean eval loss: 0.09134918931871652\n",
      "epoch: 28, mean training loss: 0.08033238313320908, mean eval loss: 0.0912589304894209\n",
      "epoch: 29, mean training loss: 0.08027691550931194, mean eval loss: 0.09121240915730595\n",
      "epoch: 30, mean training loss: 0.08022379389687558, mean eval loss: 0.09125297393649817\n",
      "epoch: 31, mean training loss: 0.0801808870685636, mean eval loss: 0.09120103966444731\n",
      "epoch: 32, mean training loss: 0.08013467577897244, mean eval loss: 0.09110739024356007\n",
      "epoch: 33, mean training loss: 0.08008981314400444, mean eval loss: 0.09105472343042492\n",
      "epoch: 34, mean training loss: 0.08004595783699188, mean eval loss: 0.09096829243004322\n",
      "epoch: 35, mean training loss: 0.08000649623529171, mean eval loss: 0.09093874910846353\n",
      "epoch: 36, mean training loss: 0.07996543934597866, mean eval loss: 0.09089941922575236\n",
      "epoch: 37, mean training loss: 0.07992294286479591, mean eval loss: 0.09083645183593035\n",
      "epoch: 38, mean training loss: 0.07988645806995918, mean eval loss: 0.09081799659878015\n",
      "epoch: 39, mean training loss: 0.07985080089449184, mean eval loss: 0.09076824735850096\n",
      "epoch: 40, mean training loss: 0.07980959525215439, mean eval loss: 0.09078029971569776\n",
      "epoch: 41, mean training loss: 0.0797778007222223, mean eval loss: 0.09072186980396509\n",
      "epoch: 42, mean training loss: 0.07974387372465572, mean eval loss: 0.0906213496439159\n",
      "epoch: 43, mean training loss: 0.07971199086197885, mean eval loss: 0.09059469671919942\n",
      "epoch: 44, mean training loss: 0.07967387448647059, mean eval loss: 0.09062307462096214\n",
      "epoch: 45, mean training loss: 0.079645908678649, mean eval loss: 0.09060844074934721\n",
      "epoch: 46, mean training loss: 0.07961439756167238, mean eval loss: 0.0905366831459105\n",
      "epoch: 47, mean training loss: 0.07958419372909703, mean eval loss: 0.09046527601778508\n",
      "epoch: 48, mean training loss: 0.07955331997916801, mean eval loss: 0.0905175101198256\n",
      "epoch: 49, mean training loss: 0.07952409766003257, mean eval loss: 0.09045585399493575\n",
      "epoch: 50, mean training loss: 0.07949392121023266, mean eval loss: 0.0904153092764318\n",
      "epoch: 51, mean training loss: 0.07946350315294694, mean eval loss: 0.09043106138706207\n",
      "epoch: 52, mean training loss: 0.07943520277302013, mean eval loss: 0.09044770799577236\n",
      "epoch: 53, mean training loss: 0.07940635903942166, mean eval loss: 0.09040185336023569\n",
      "epoch: 54, mean training loss: 0.07938103843436693, mean eval loss: 0.09037715641781688\n",
      "epoch: 55, mean training loss: 0.07935119829737232, mean eval loss: 0.09025754729285836\n",
      "epoch: 56, mean training loss: 0.07932578997540986, mean eval loss: 0.09021916650235653\n",
      "epoch: 57, mean training loss: 0.07929782497230917, mean eval loss: 0.09024742895737291\n",
      "epoch: 58, mean training loss: 0.07927384816925041, mean eval loss: 0.09019302604719996\n",
      "epoch: 59, mean training loss: 0.0792381127801491, mean eval loss: 0.0901324619166553\n",
      "epoch: 60, mean training loss: 0.07922048836859176, mean eval loss: 0.09013409856706858\n",
      "epoch: 61, mean training loss: 0.07919689857022603, mean eval loss: 0.09010710764676333\n",
      "epoch: 62, mean training loss: 0.07916596435476095, mean eval loss: 0.09000686619430781\n",
      "epoch: 63, mean training loss: 0.07914648122736252, mean eval loss: 0.09000827325507998\n",
      "epoch: 64, mean training loss: 0.07911149228501017, mean eval loss: 0.08992359910160302\n",
      "epoch: 65, mean training loss: 0.07909409221319948, mean eval loss: 0.09000624345615506\n",
      "epoch: 66, mean training loss: 0.07907393410336226, mean eval loss: 0.08995956173166633\n",
      "epoch: 67, mean training loss: 0.07904889430326875, mean eval loss: 0.08992186626419425\n",
      "epoch: 68, mean training loss: 0.0790273744557635, mean eval loss: 0.08991127219051123\n",
      "epoch: 69, mean training loss: 0.07900211743966792, mean eval loss: 0.08988231357187032\n",
      "epoch: 70, mean training loss: 0.07897911524385563, mean eval loss: 0.08982961684465408\n",
      "epoch: 71, mean training loss: 0.07895047747166245, mean eval loss: 0.08983087867498397\n",
      "epoch: 72, mean training loss: 0.07893487457928132, mean eval loss: 0.0897860019095242\n",
      "epoch: 73, mean training loss: 0.07891038490779465, mean eval loss: 0.08975223872810602\n",
      "epoch: 74, mean training loss: 0.07888913905801019, mean eval loss: 0.08973638117313384\n",
      "epoch: 75, mean training loss: 0.07886366640028428, mean eval loss: 0.0896812811307609\n",
      "epoch: 76, mean training loss: 0.07884327098669018, mean eval loss: 0.08970524271950125\n",
      "epoch: 77, mean training loss: 0.07882469695119652, mean eval loss: 0.08968199765309691\n",
      "epoch: 78, mean training loss: 0.07880259692406981, mean eval loss: 0.08963466376066208\n",
      "epoch: 79, mean training loss: 0.07878181490901624, mean eval loss: 0.0895945711247623\n",
      "epoch: 80, mean training loss: 0.07875530943929335, mean eval loss: 0.089599479008466\n",
      "epoch: 81, mean training loss: 0.07873725382174598, mean eval loss: 0.08959574004635215\n",
      "epoch: 82, mean training loss: 0.07871510941404267, mean eval loss: 0.08949352873489261\n",
      "epoch: 83, mean training loss: 0.07869648338266416, mean eval loss: 0.08948264200240373\n",
      "epoch: 84, mean training loss: 0.07867409604339627, mean eval loss: 0.08943341640755534\n",
      "epoch: 85, mean training loss: 0.07865351121829008, mean eval loss: 0.08938624080270528\n",
      "epoch: 86, mean training loss: 0.07863279507335391, mean eval loss: 0.08943140596151351\n",
      "epoch: 87, mean training loss: 0.07861485142726451, mean eval loss: 0.08942558500915766\n",
      "epoch: 88, mean training loss: 0.07859631279556197, mean eval loss: 0.08939200984314084\n",
      "epoch: 89, mean training loss: 0.07857600254821591, mean eval loss: 0.08941257199272513\n",
      "epoch: 90, mean training loss: 0.07855713851211477, mean eval loss: 0.08934315970167518\n",
      "epoch: 91, mean training loss: 0.07853115104400786, mean eval loss: 0.08935771098360419\n",
      "epoch: 92, mean training loss: 0.07851811990694842, mean eval loss: 0.08935616223141551\n",
      "epoch: 93, mean training loss: 0.07849733245471725, mean eval loss: 0.08929157393053173\n",
      "epoch: 94, mean training loss: 0.07847810611172462, mean eval loss: 0.08917661800980568\n"
     ]
    },
    {
     "name": "stdout",
     "output_type": "stream",
     "text": [
      "epoch: 95, mean training loss: 0.0784580984862987, mean eval loss: 0.08922459052875638\n",
      "epoch: 96, mean training loss: 0.07844096012340743, mean eval loss: 0.08921032262966037\n",
      "epoch: 97, mean training loss: 0.07842462011263705, mean eval loss: 0.08916405458003282\n",
      "epoch: 98, mean training loss: 0.07840342698444147, mean eval loss: 0.08915203662589193\n",
      "epoch: 99, mean training loss: 0.07838644132643821, mean eval loss: 0.08912455091252923\n",
      "epoch: 100, mean training loss: 0.07835982818578487, mean eval loss: 0.08920559981837868\n"
     ]
    }
   ],
   "source": [
    "# Define runtime device\n",
    "dev = torch.device(\"cuda\") if torch.cuda.is_available() else torch.device(\"cpu\")\n",
    "\n",
    "# Hyper parameter and model definition\n",
    "input_dim = 2\n",
    "hidden_dim = 3\n",
    "lstm = LSTM1(input_dim, hidden_dim).to(dev)\n",
    "\n",
    "criterion = nn.MSELoss()\n",
    "learning_rate = 0.001\n",
    "optimizer = torch.optim.SGD(lstm.parameters(), lr = learning_rate)\n",
    "num_epochs = 100\n",
    "dataloader = train_no_nothing_dataloader\n",
    "\n",
    "lossPerEpoch = np.empty((num_epochs, 1))\n",
    "\n",
    "for epoch in range(num_epochs):\n",
    "  total_loss = 0\n",
    "  total_eval_loss = 0\n",
    "  \n",
    "\n",
    "  # Set in train mode\n",
    "  lstm.train()\n",
    "\n",
    "  # Train the model\n",
    "  iterator = iter(dataloader)\n",
    "  for i in range(len(iterator)):\n",
    "    x, y = next(iterator)\n",
    "    \n",
    "    # Move to GPU\n",
    "    x = x.to(dev)\n",
    "    y = y.to(dev)\n",
    "\n",
    "    # Propagate forward\n",
    "    hidden = lstm(x[0])\n",
    "    \n",
    "    # Compute loss\n",
    "    loss = criterion(hidden[0], y[0])\n",
    "    total_loss += loss.item()\n",
    "    \n",
    "    # Backward propagate\n",
    "    optimizer.zero_grad()\n",
    "    loss.backward()\n",
    "    optimizer.step()\n",
    "  \n",
    "  \n",
    "  # Set in eval mode\n",
    "  lstm.eval()\n",
    "\n",
    "  # Evaluate loss on verification set\n",
    "  eval_iterator = iter(eval_dataloader)\n",
    "  for i in range(len(eval_iterator)):\n",
    "    with torch.no_grad():\n",
    "      x, y = next(eval_iterator)\n",
    "    \n",
    "      # Move to GPU\n",
    "      x = x.to(dev)\n",
    "      y = y.to(dev)\n",
    "    \n",
    "      # Propagate forward\n",
    "      hidden = lstm(x[0])\n",
    "    \n",
    "      # Compute loss\n",
    "      loss = criterion(hidden[0], y[0])\n",
    "      total_eval_loss += loss.item()\n",
    "        \n",
    "  average_training_loss = total_loss / len(iterator)\n",
    "  average_eval_loss = total_eval_loss / len(eval_iterator)\n",
    "    \n",
    "  lossPerEpoch[epoch] = average_training_loss\n",
    "\n",
    "  print(f'epoch: {epoch+1}, mean training loss: {average_training_loss}, mean eval loss: {average_eval_loss}')\n",
    "\n",
    "  \n",
    "\n",
    "#TODO: Might need to zero out the hidden state of lstm, but maybe not\n",
    "#TODO: Experiment with num_layers\n"
   ]
  },
  {
   "cell_type": "code",
   "execution_count": null,
   "id": "58348edd",
   "metadata": {
    "id": "58348edd"
   },
   "outputs": [],
   "source": [
    "# without padding :epoch: 25, mean training loss: 0.08195400983095169, mean eval loss: 0.09817712453918324\n",
    "# epoch: 100, mean training loss: 0.0861954316496849, mean eval loss: 0.10278522804379463"
   ]
  },
  {
   "cell_type": "code",
   "execution_count": null,
   "id": "176b3ea3",
   "metadata": {
    "id": "176b3ea3"
   },
   "outputs": [],
   "source": [
    "# without any cutting : epoch: 56, mean training loss: 0.07555700838565826, mean eval loss: 0.08626986091025174\n",
    "# With linear layer: epoch: 56, mean training loss: 0.07898687571287155, mean eval loss: 0.08656595157459378\n",
    "# With reLU + linear layer: epoch: 56, mean training loss: 0.08114010095596313, mean eval loss: 0.09263360679149628"
   ]
  },
  {
   "cell_type": "markdown",
   "id": "da139d5b",
   "metadata": {
    "id": "da139d5b"
   },
   "source": [
    "## Evaluation"
   ]
  },
  {
   "cell_type": "code",
   "execution_count": 76,
   "id": "ebed03ba",
   "metadata": {
    "id": "ebed03ba"
   },
   "outputs": [
    {
     "data": {
      "image/png": "[encoded data removed]",
      "text/plain": [
       "<Figure size 432x288 with 1 Axes>"
      ]
     },
     "metadata": {
      "needs_background": "light"
     },
     "output_type": "display_data"
    }
   ],
   "source": [
    "# Plot the loss curve\n",
    "plt.figure()\n",
    "plt.plot(range(num_epochs), lossPerEpoch, \"b-\", label=\"Loss\")\n",
    "#plt.plot(range(num_epochs), stdPerEpoch, \"g-\", label=\"Standard Deviation\")\n",
    "plt.legend(loc=\"upper right\")\n",
    "plt.xlabel(\"Epoch\")\n",
    "plt.ylabel(\"Observed loss\")\n",
    "plt.title(\"Model training\")\n",
    "plt.show()"
   ]
  },
  {
   "cell_type": "code",
   "execution_count": 77,
   "id": "17af7ec3",
   "metadata": {
    "id": "17af7ec3"
   },
   "outputs": [
    {
     "name": "stdout",
     "output_type": "stream",
     "text": [
      "Predicted charges: [-0.39694968 -0.5663664  -0.44165167], Actual charges: [-0.38935432 -0.48996845 -0.08618085]\n",
      "Predicted charges: [-0.53655976 -0.49205464 -0.60467416], Actual charges: [-0.67374104 -0.25783342 -0.5131491 ]\n",
      "Predicted charges: [-0.4977952  -0.49702752 -0.5471723 ], Actual charges: [-0.641466   -0.91733015 -0.8782985 ]\n",
      "Predicted charges: [-0.5237041 -0.4599792 -0.5796321], Actual charges: [-0.16873121 -0.1138682  -0.8036771 ]\n",
      "Predicted charges: [-0.4344493  -0.50372976 -0.47537228], Actual charges: [-0.26474082 -0.2182094  -0.07958777]\n"
     ]
    }
   ],
   "source": [
    "import random\n",
    "\n",
    "# number of example predictions\n",
    "nrExamplePredictions = 5\n",
    "\n",
    "# Set model to eval mode\n",
    "lstm.eval()\n",
    "\n",
    "for examplePrediction in range(nrExamplePredictions):\n",
    "    # Get a random index\n",
    "    index = random.choice(range(len(simulation_test)))\n",
    "    \n",
    "    # Get corresponding tensors\n",
    "    particlePositions = torch.tensor(simulation_test[index]).type(torch.FloatTensor).to(dev)\n",
    "    particleCharges = torch.tensor(charges_test[index]).type(torch.FloatTensor).to(dev)\n",
    "    \n",
    "    # Forward propagate the particle positions through the model\n",
    "    with torch.no_grad():\n",
    "        predictedCharges = lstm(particlePositions)\n",
    "    \n",
    "    # Print results\n",
    "    print(f'Predicted charges: {predictedCharges[0].cpu().numpy()}, Actual charges: {particleCharges.cpu().numpy()}')"
   ]
  },
  {
   "cell_type": "code",
   "execution_count": null,
   "id": "43a3422e",
   "metadata": {
    "id": "43a3422e"
   },
   "outputs": [],
   "source": []
  },
  {
   "cell_type": "markdown",
   "id": "9a59808b",
   "metadata": {
    "id": "9a59808b"
   },
   "source": [
    "# Task 3.2"
   ]
  },
  {
   "cell_type": "markdown",
   "id": "f64a855d",
   "metadata": {
    "id": "f64a855d"
   },
   "source": [
    "## Data Handling and Preprocessing"
   ]
  },
  {
   "cell_type": "code",
   "execution_count": null,
   "id": "5b935865",
   "metadata": {
    "id": "5b935865"
   },
   "outputs": [],
   "source": [
    "#todo\n",
    "# Let's add the static input at every call of the model, or design it in a way that has a seperate method for the static data (per simulation) for 3.2"
   ]
  },
  {
   "cell_type": "code",
   "execution_count": null,
   "id": "0ec19a8d",
   "metadata": {
    "id": "0ec19a8d"
   },
   "outputs": [],
   "source": []
  },
  {
   "cell_type": "code",
   "execution_count": null,
   "id": "8f189d19",
   "metadata": {
    "id": "8f189d19"
   },
   "outputs": [],
   "source": []
  },
  {
   "cell_type": "markdown",
   "id": "867aabb3",
   "metadata": {
    "id": "867aabb3"
   },
   "source": [
    "## Model Implementation"
   ]
  },
  {
   "cell_type": "code",
   "execution_count": null,
   "id": "36fe2739",
   "metadata": {
    "id": "36fe2739"
   },
   "outputs": [],
   "source": [
    "#todo"
   ]
  },
  {
   "cell_type": "code",
   "execution_count": null,
   "id": "f80b1ca2",
   "metadata": {
    "id": "f80b1ca2"
   },
   "outputs": [],
   "source": []
  },
  {
   "cell_type": "code",
   "execution_count": null,
   "id": "fdbf2800",
   "metadata": {
    "id": "fdbf2800"
   },
   "outputs": [],
   "source": []
  },
  {
   "cell_type": "markdown",
   "id": "826fae3f",
   "metadata": {
    "id": "826fae3f"
   },
   "source": [
    "## Model Training"
   ]
  },
  {
   "cell_type": "code",
   "execution_count": null,
   "id": "db3fce95",
   "metadata": {
    "id": "db3fce95"
   },
   "outputs": [],
   "source": [
    "#todo"
   ]
  },
  {
   "cell_type": "code",
   "execution_count": null,
   "id": "41ddb47d",
   "metadata": {
    "id": "41ddb47d"
   },
   "outputs": [],
   "source": []
  },
  {
   "cell_type": "code",
   "execution_count": null,
   "id": "4ee069fc",
   "metadata": {
    "id": "4ee069fc"
   },
   "outputs": [],
   "source": []
  },
  {
   "cell_type": "markdown",
   "id": "c87278a2",
   "metadata": {
    "id": "c87278a2"
   },
   "source": [
    "## Evaluation"
   ]
  },
  {
   "cell_type": "code",
   "execution_count": null,
   "id": "2cbb6137",
   "metadata": {
    "id": "2cbb6137"
   },
   "outputs": [],
   "source": [
    "#todo"
   ]
  },
  {
   "cell_type": "code",
   "execution_count": null,
   "id": "2cf6f4b7",
   "metadata": {
    "id": "2cf6f4b7"
   },
   "outputs": [],
   "source": []
  },
  {
   "cell_type": "code",
   "execution_count": null,
   "id": "736c10d8",
   "metadata": {
    "id": "736c10d8"
   },
   "outputs": [],
   "source": []
  }
 ],
 "metadata": {
  "colab": {
   "collapsed_sections": [
    "f64a855d",
    "867aabb3",
    "826fae3f",
    "c87278a2"
   ],
   "name": "Copy of Copy of a3_skeleton.ipynb",
   "provenance": []
  },
  "kernelspec": {
   "display_name": "Python 3 (ipykernel)",
   "language": "python",
   "name": "python3"
  },
  "language_info": {
   "codemirror_mode": {
    "name": "ipython",
    "version": 3
   },
   "file_extension": ".py",
   "mimetype": "text/x-python",
   "name": "python",
   "nbconvert_exporter": "python",
   "pygments_lexer": "ipython3",
   "version": "3.10.4"
  }
 },
 "nbformat": 4,
 "nbformat_minor": 5
}
