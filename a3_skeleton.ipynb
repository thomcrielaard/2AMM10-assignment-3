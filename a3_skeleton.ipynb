{
 "cells": [
  {
   "cell_type": "markdown",
   "id": "963690b2",
   "metadata": {
    "id": "963690b2"
   },
   "source": [
    "<a href=\"https://colab.research.google.com/github/vlamen/tue-deeplearning/blob/main/assignments/assignment_2_3/a3_skeleton.ipynb\" target=\"_parent\"><img src=\"https://colab.research.google.com/assets/colab-badge.svg\" alt=\"Open In Colab\"/></a>"
   ]
  },
  {
   "cell_type": "markdown",
   "id": "bd8459f1",
   "metadata": {
    "id": "bd8459f1"
   },
   "source": [
    "# Group Number: 80\n",
    "\n",
    "# Student 1: Thom Crielaard - 1754017\n",
    "\n",
    "# Student 2: Tobias Sagis - 1333151\n",
    "\n",
    "# Student 3: Ivan Horn - 0807338"
   ]
  },
  {
   "cell_type": "markdown",
   "id": "dde28458",
   "metadata": {
    "id": "dde28458"
   },
   "source": [
    "# Downloading Data and Preliminaries"
   ]
  },
  {
   "cell_type": "code",
   "execution_count": 1,
   "id": "7d0580a5",
   "metadata": {
    "id": "7d0580a5"
   },
   "outputs": [
    {
     "name": "stderr",
     "output_type": "stream",
     "text": [
      "C:\\Users\\Tobias\\AppData\\Local\\Programs\\Python\\Python310\\lib\\site-packages\\tqdm\\auto.py:22: TqdmWarning: IProgress not found. Please update jupyter and ipywidgets. See https://ipywidgets.readthedocs.io/en/stable/user_install.html\n",
      "  from .autonotebook import tqdm as notebook_tqdm\n"
     ]
    }
   ],
   "source": [
    "import pickle\n",
    "import matplotlib.pyplot as plt\n",
    "import matplotlib\n",
    "import numpy as np\n",
    "import torch\n",
    "from torch import nn\n",
    "from torch.utils.data import Dataset\n",
    "from torch.utils.data import DataLoader\n",
    "import random\n",
    "\n",
    "from zipfile import ZipFile\n",
    "import requests\n",
    "import io"
   ]
  },
  {
   "cell_type": "code",
   "execution_count": 2,
   "id": "8ce00edc",
   "metadata": {
    "id": "8ce00edc"
   },
   "outputs": [],
   "source": [
    "def load_zip(url):\n",
    "    response = requests.get(url)\n",
    "    response.raise_for_status()\n",
    "    zipf = ZipFile(io.BytesIO(response.content))\n",
    "    return {name: zipf.read(name) for name in zipf.namelist()}\n",
    "\n",
    "def load_pickle(zipfile, fn):\n",
    "    return pickle.load(io.BytesIO(zipfile[fn]))"
   ]
  },
  {
   "cell_type": "code",
   "execution_count": 3,
   "id": "bb77a4be",
   "metadata": {
    "id": "bb77a4be"
   },
   "outputs": [],
   "source": [
    "data = load_zip('https://surfdrive.surf.nl/files/index.php/s/cwqGaS22KXgnXtg/download')\n",
    "\n",
    "    \n",
    "\"\"\"\n",
    "simulation_{train, valid, test} is stored as a list of simulations. \n",
    "Each simulation is a numpy array of size (t, 2): For t timesteps an x and y coordinate of our particle.\n",
    "\"\"\"\n",
    "simulation_train = load_pickle(data, 'data/train/simulation.pickle')  # 3.1 + 3.2\n",
    "simulation_valid = load_pickle(data, 'data/valid/simulation.pickle')  # 3.1 + 3.2\n",
    "simulation_test = load_pickle(data, 'data/test/simulation.pickle')  # 3.1 + 3.2\n",
    "\n",
    "\"\"\"\n",
    "charges_{train, valid, test} is stored as a list of simulation-charges. \n",
    "These charges are stored as numpy arrays of size (3,): One value for each charge.\n",
    "\"\"\"\n",
    "charges_train = load_pickle(data, 'data/train/charges.pickle')  # 3.1\n",
    "charges_valid = load_pickle(data, 'data/valid/charges.pickle')  # 3.1\n",
    "charges_test = load_pickle(data, 'data/test/charges.pickle')  # 3.1\n",
    "\n",
    "\"\"\"\n",
    "simulation_continued_{train, valid, test} is stored as a list of simulations. \n",
    "Each simulation is a numpy array of size (t, 2): For t timesteps an x and y coordinate of our particle.\n",
    "\"\"\"\n",
    "simulation_continued_train = load_pickle(data, 'data/train/simulation_continued.pickle')  # 3.2\n",
    "simulation_continued_valid = load_pickle(data, 'data/valid/simulation_continued.pickle')  # 3.2\n",
    "simulation_continued_test = load_pickle(data, 'data/test/simulation_continued.pickle')  # 3.2\n",
    "\n",
    "\"\"\"\n",
    "Note that the indices are shared throughout the different lists, e.g., for the 4th training simulation:\n",
    "simulation_train[3] contains its initial simulation\n",
    "charges_train[3] contains the charges associated with the simulation\n",
    "simulation_continued_train[3] contains the continuation of the simulation \n",
    "                --> simulation_continued_train[3][0] is the state after simulation_train[3][-1]\n",
    "\"\"\"\n",
    "pass"
   ]
  },
  {
   "cell_type": "code",
   "execution_count": 4,
   "id": "10a3438a",
   "metadata": {
    "id": "10a3438a",
    "outputId": "9288b85b-d961-432d-f6a7-0cb5133bf0b9"
   },
   "outputs": [
    {
     "name": "stdout",
     "output_type": "stream",
     "text": [
      "Overview of no. datapoints:\n",
      "\n",
      "Task 3.1:\n",
      "800 train, 100 validation, 100 test simulations\n",
      "800 train, 100 validation, 100 test charge pairs\n",
      "\n",
      "Task 3.2:\n",
      "Since len(simulation_continued_train) < len(simulation_train), we can only use a subset of initial simulations\n",
      "We cut simulation_train down to the first 150 samples in simulation_train_task32\n",
      "150 train, 100 validation, 100 test simulations\n",
      "150 train, 100 validation, 100 test continuations\n",
      "\n",
      "For task 3.1, use:\n",
      "simulation_train + charges_train\n",
      "simulation_valid + charges_valid\n",
      "simulation_test + charges_test\n",
      "\n",
      "For task 3.2, use:\n",
      "simulation_train_task32 + simulation_continued_train\n",
      "simulation_valid + simulation_continued_valid\n",
      "simulation_test + simulation_continued_test\n",
      "\n"
     ]
    }
   ],
   "source": [
    "print('Overview of no. datapoints:\\n')\n",
    "\n",
    "print('Task 3.1:')\n",
    "print(f'{len(simulation_train)} train, {len(simulation_valid)} validation, {len(simulation_test)} test simulations')\n",
    "print(f'{len(charges_train)} train, {len(charges_valid)} validation, {len(charges_test)} test charge pairs')\n",
    "print()\n",
    "\n",
    "print('Task 3.2:')\n",
    "print('Since len(simulation_continued_train) < len(simulation_train), we can only use a subset of initial simulations')\n",
    "print('We cut simulation_train down to the first 150 samples in simulation_train_task32')\n",
    "simulation_train_task32 = simulation_train[:150]\n",
    "print(f'{len(simulation_train_task32)} train, {len(simulation_valid)} validation, {len(simulation_test)} test simulations')\n",
    "print(f'{len(simulation_continued_train)} train, {len(simulation_continued_valid)} validation, {len(simulation_continued_test)} test continuations')\n",
    "\n",
    "print(f\"\"\"\n",
    "For task 3.1, use:\n",
    "{chr(10).join([\"simulation_{} + charges_{}\".format(t, t) for t in [\"train\", \"valid\", \"test\"]])}\n",
    "\n",
    "For task 3.2, use:\n",
    "{chr(10).join([\"simulation_{} + simulation_continued_{}\".format(*((t[0], t[1]) if isinstance(t, tuple) else (t, t))) for t in [(\"train_task32\", \"train\"), \"valid\", \"test\"]])}\n",
    "\"\"\")\n"
   ]
  },
  {
   "cell_type": "code",
   "execution_count": 5,
   "id": "3cfafdb3",
   "metadata": {
    "id": "3cfafdb3",
    "outputId": "fa8b95f8-c1d2-49f6-e592-1f1623c4fb19"
   },
   "outputs": [
    {
     "name": "stdout",
     "output_type": "stream",
     "text": [
      "Print some shapes:\n",
      "\n",
      "simulation_train[0].shape: (103, 2) -> (t, 2), (x, y) at every t)\n",
      "charges_train[0].shape: (3,) -> charges for the simulation\n",
      "simulation_continued_train[0].shape: (54, 2) -> (t, 2), (x, y) at every t)\n",
      "----\n",
      "\n",
      "simulation_train[1].shape: (97, 2) -> (t, 2), (x, y) at every t)\n",
      "charges_train[1].shape: (3,) -> charges for the simulation\n",
      "simulation_continued_train[1].shape: (45, 2) -> (t, 2), (x, y) at every t)\n",
      "----\n",
      "\n",
      "simulation_train[2].shape: (99, 2) -> (t, 2), (x, y) at every t)\n",
      "charges_train[2].shape: (3,) -> charges for the simulation\n",
      "simulation_continued_train[2].shape: (47, 2) -> (t, 2), (x, y) at every t)\n",
      "----\n",
      "\n"
     ]
    }
   ],
   "source": [
    "print('Print some shapes:\\n')\n",
    "for i in range(3):\n",
    "    print('simulation_train[{}].shape:'.format(i), simulation_train[i].shape, '-> (t, 2), (x, y) at every t)')\n",
    "    print('charges_train[{}].shape:'.format(i), charges_train[i].shape, '-> charges for the simulation')\n",
    "    print('simulation_continued_train[{}].shape:'.format(i), simulation_continued_train[i].shape, '-> (t, 2), (x, y) at every t)')\n",
    "    print('----\\n')"
   ]
  },
  {
   "cell_type": "code",
   "execution_count": 6,
   "id": "f9106543",
   "metadata": {
    "id": "f9106543"
   },
   "outputs": [],
   "source": [
    "def plot_example(x, x_gt=None, x_pred=None, fn=None):\n",
    "    charge_locations = np.array([[-1.53846154, -1.53846154],\n",
    "                                 [ 1.53846154, -1.53846154],\n",
    "                                 [ 0.        ,  1.53846154]])  # charge locations are fixed\n",
    "    fig = plt.figure()\n",
    "    axes = plt.gca()\n",
    "    axes.set_xlim([-5., 5.])\n",
    "    axes.set_ylim([-5., 5.])\n",
    "    cmap = matplotlib.cm.get_cmap('tab20')\n",
    "    plt.plot(x[:, 0], x[:, 1], color=cmap(0))\n",
    "    plt.plot(x[0, 0], x[0, 1], 'd', color=cmap(1))\n",
    "    fig.set_size_inches(5, 5)\n",
    "    for charge in charge_locations:\n",
    "        plt.plot(charge[0], charge[1], 'd', color='black')\n",
    "    if x_gt is not None:\n",
    "        plt.plot(x_gt[:, 0], x_gt[:, 1], color='red', linewidth=.5)\n",
    "    if x_pred is not None:\n",
    "        plt.plot(x_pred[:, 0], x_pred[:, 1], color='green', linestyle='--')\n",
    "    if fn is None:\n",
    "        plt.show()\n",
    "    else:\n",
    "        plt.savefig(fn)"
   ]
  },
  {
   "cell_type": "code",
   "execution_count": 7,
   "id": "d28681a6",
   "metadata": {
    "id": "d28681a6",
    "outputId": "3ade0c3a-0f8d-43ca-e00a-d2c7f6e5f9c8"
   },
   "outputs": [
    {
     "data": {
      "image/png": "[encoded data removed]",
      "text/plain": [
       "<Figure size 360x360 with 1 Axes>"
      ]
     },
     "metadata": {
      "needs_background": "light"
     },
     "output_type": "display_data"
    },
    {
     "name": "stdout",
     "output_type": "stream",
     "text": [
      "Charges are [-0.89584645 -0.39386724 -0.86287267]\n"
     ]
    }
   ],
   "source": [
    "test_idx = np.random.randint(150)\n",
    "plot_example(simulation_train[test_idx], simulation_continued_train[test_idx])\n",
    "print(f'Charges are {charges_train[test_idx]}')"
   ]
  },
  {
   "cell_type": "markdown",
   "id": "d4dd6bb7",
   "metadata": {},
   "source": [
    "# General dataloader class"
   ]
  },
  {
   "cell_type": "markdown",
   "id": "27d66187",
   "metadata": {},
   "source": [
    "Used for both task 3.1 as well as 3.2"
   ]
  },
  {
   "cell_type": "code",
   "execution_count": 8,
   "id": "f416b2a9",
   "metadata": {},
   "outputs": [],
   "source": [
    "class CustomDataset(Dataset):\n",
    "    def __init__(self, input_tensor, output_tensor):\n",
    "        self.input_tensor = input_tensor\n",
    "        self.output_tensor = output_tensor\n",
    "\n",
    "    def __len__(self):\n",
    "        return len(self.input_tensor)\n",
    "\n",
    "    def __getitem__(self, idx):\n",
    "        return self.input_tensor[idx], self.output_tensor[idx]"
   ]
  },
  {
   "cell_type": "markdown",
   "id": "883762b1",
   "metadata": {
    "id": "883762b1"
   },
   "source": [
    "# Task 3.1"
   ]
  },
  {
   "cell_type": "markdown",
   "id": "4c1ddabe",
   "metadata": {
    "id": "4c1ddabe"
   },
   "source": [
    "## Data Handling and Preprocessing"
   ]
  },
  {
   "cell_type": "code",
   "execution_count": 9,
   "id": "bd9df856",
   "metadata": {
    "id": "bd9df856"
   },
   "outputs": [],
   "source": [
    "# Simulation cutoff point (90 positions) \n",
    "cutoff = 90\n",
    "\n",
    "# Populate the dataset\n",
    "simulations_train_3_1 = []\n",
    "for i in range(800):\n",
    "    trajectory = torch.Tensor(simulation_train[i]).type(torch.FloatTensor).cuda()\n",
    "    simulations_train_3_1.append(trajectory[range(cutoff)])\n",
    "\n",
    "simulations_validation_3_1 = []\n",
    "simulations_test_3_1 = []\n",
    "for i in range(100):\n",
    "    trajectory_validation = torch.Tensor(simulation_valid[i]).type(torch.FloatTensor).cuda()\n",
    "    simulations_validation_3_1.append(trajectory_validation[range(cutoff)])\n",
    "    trajectory_test = torch.Tensor(simulation_test[i]).type(torch.FloatTensor).cuda()\n",
    "    simulations_test_3_1.append(trajectory_test[range(cutoff)])"
   ]
  },
  {
   "cell_type": "code",
   "execution_count": 10,
   "id": "7dd9b7c1",
   "metadata": {
    "id": "7dd9b7c1"
   },
   "outputs": [
    {
     "name": "stderr",
     "output_type": "stream",
     "text": [
      "C:\\Users\\Tobias\\AppData\\Local\\Temp\\ipykernel_12124\\872846488.py:2: UserWarning: Creating a tensor from a list of numpy.ndarrays is extremely slow. Please consider converting the list to a single numpy.ndarray with numpy.array() before converting to a tensor. (Triggered internally at  ..\\torch\\csrc\\utils\\tensor_new.cpp:210.)\n",
      "  train_dataset_3_1 = CustomDataset(simulations_train_3_1, torch.Tensor(charges_train).type(torch.FloatTensor).cuda())\n"
     ]
    }
   ],
   "source": [
    "# Construct dataloaders\n",
    "train_dataset_3_1 = CustomDataset(simulations_train_3_1, torch.Tensor(charges_train).type(torch.FloatTensor).cuda())\n",
    "train_dataloader_3_1 = DataLoader(train_dataset_3_1, batch_size=1, shuffle=True)\n",
    "\n",
    "validation_dataset_3_1 = CustomDataset(simulations_validation_3_1, torch.Tensor(charges_valid).type(torch.FloatTensor).cuda())\n",
    "validation_dataloader_3_1 = DataLoader(validation_dataset_3_1, batch_size=1, shuffle=False)\n",
    "\n",
    "test_dataset_3_1 = CustomDataset(simulations_test_3_1, torch.Tensor(charges_test).type(torch.FloatTensor).cuda())\n",
    "test_dataloader_3_1 = DataLoader(test_dataset_3_1, batch_size=1, shuffle=False)"
   ]
  },
  {
   "cell_type": "markdown",
   "id": "cc8853f6",
   "metadata": {
    "id": "cc8853f6"
   },
   "source": [
    "## Model Implementation"
   ]
  },
  {
   "cell_type": "code",
   "execution_count": 11,
   "id": "8794a0cf",
   "metadata": {
    "id": "8794a0cf"
   },
   "outputs": [],
   "source": [
    "class simpleModel(nn.Module):\n",
    "    def __init__(self):\n",
    "        super(simpleModel, self).__init__()\n",
    "\n",
    "        # Input layer\n",
    "        self.linear = nn.Linear(180, 256)\n",
    "        \n",
    "        # Hidden layer\n",
    "        self.linear2 = nn.Linear(256, 128)\n",
    "        \n",
    "        # Output layer\n",
    "        self.linout = nn.Linear(128, 3)\n",
    "        \n",
    "        # Activation function\n",
    "        self.relu = nn.ReLU()\n",
    "        \n",
    "        # Dropout to reduce overfitting\n",
    "        self.dropout = nn.Dropout(p=0.5)\n",
    "\n",
    "    def forward(self, input):\n",
    "        out = self.linear(input)\n",
    "        out = self.dropout(out)\n",
    "        out = self.relu(out)\n",
    "        out = self.linear2(out)\n",
    "        out = self.dropout(out)\n",
    "        out = self.relu(out)\n",
    "        out = self.linout(out)\n",
    "        \n",
    "        return out"
   ]
  },
  {
   "cell_type": "markdown",
   "id": "0e443b7f",
   "metadata": {
    "id": "0e443b7f"
   },
   "source": [
    "## Model Training"
   ]
  },
  {
   "cell_type": "code",
   "execution_count": 12,
   "id": "5a5b0aca",
   "metadata": {
    "id": "5a5b0aca"
   },
   "outputs": [
    {
     "name": "stdout",
     "output_type": "stream",
     "text": [
      "epoch: 1, \tMean training loss: 0.26842892448534256, \tMean eval loss: 0.18384335592389106\n",
      "epoch: 2, \tMean training loss: 0.19358394524548203, \tMean eval loss: 0.17180829871445893\n",
      "epoch: 3, \tMean training loss: 0.1750991503847763, \tMean eval loss: 0.17967822317034007\n",
      "epoch: 4, \tMean training loss: 0.1673958437796682, \tMean eval loss: 0.15069447357207535\n",
      "epoch: 5, \tMean training loss: 0.15776300623547285, \tMean eval loss: 0.1275269971229136\n",
      "epoch: 6, \tMean training loss: 0.15327717665582896, \tMean eval loss: 0.11956622861325741\n",
      "epoch: 7, \tMean training loss: 0.1475250431743916, \tMean eval loss: 0.118644213443622\n",
      "epoch: 8, \tMean training loss: 0.1422674392920453, \tMean eval loss: 0.10582474660128355\n",
      "epoch: 9, \tMean training loss: 0.14294918548315763, \tMean eval loss: 0.11715912591665983\n",
      "epoch: 10, \tMean training loss: 0.13930942082661205, \tMean eval loss: 0.11973174260929227\n",
      "epoch: 11, \tMean training loss: 0.1393197107501328, \tMean eval loss: 0.10986587338149548\n",
      "epoch: 12, \tMean training loss: 0.13319117846898734, \tMean eval loss: 0.11723984830081463\n",
      "epoch: 13, \tMean training loss: 0.1349443447351223, \tMean eval loss: 0.11784418178722263\n",
      "epoch: 14, \tMean training loss: 0.1362580997752957, \tMean eval loss: 0.11409405497834087\n",
      "epoch: 15, \tMean training loss: 0.12926810615172143, \tMean eval loss: 0.10449761683121324\n",
      "epoch: 16, \tMean training loss: 0.13225743399118073, \tMean eval loss: 0.10820418320596219\n",
      "epoch: 17, \tMean training loss: 0.12895574213122019, \tMean eval loss: 0.09966585904359818\n",
      "epoch: 18, \tMean training loss: 0.1263422955048736, \tMean eval loss: 0.09512640211731195\n",
      "epoch: 19, \tMean training loss: 0.12512728673638776, \tMean eval loss: 0.11294118970632554\n",
      "epoch: 20, \tMean training loss: 0.12661152484477498, \tMean eval loss: 0.10753094473853707\n",
      "epoch: 21, \tMean training loss: 0.12427192929666489, \tMean eval loss: 0.09508071949705482\n",
      "epoch: 22, \tMean training loss: 0.12421384187764488, \tMean eval loss: 0.10413304764777422\n",
      "epoch: 23, \tMean training loss: 0.12568235457642005, \tMean eval loss: 0.09800635624676943\n",
      "epoch: 24, \tMean training loss: 0.12212595871300437, \tMean eval loss: 0.08692142698913813\n",
      "epoch: 25, \tMean training loss: 0.12318130717612803, \tMean eval loss: 0.08471308437176049\n",
      "epoch: 26, \tMean training loss: 0.12477751304628328, \tMean eval loss: 0.10350107352249324\n",
      "epoch: 27, \tMean training loss: 0.11926778946071863, \tMean eval loss: 0.10038014271296561\n",
      "epoch: 28, \tMean training loss: 0.12207816411042587, \tMean eval loss: 0.09609032338485121\n",
      "epoch: 29, \tMean training loss: 0.1189809021592373, \tMean eval loss: 0.09159651691094041\n",
      "epoch: 30, \tMean training loss: 0.11903820473118686, \tMean eval loss: 0.09757274564355611\n",
      "epoch: 31, \tMean training loss: 0.11975772589605185, \tMean eval loss: 0.09726829547435045\n",
      "epoch: 32, \tMean training loss: 0.11941025151056238, \tMean eval loss: 0.10222859151661395\n",
      "epoch: 33, \tMean training loss: 0.11872005830518902, \tMean eval loss: 0.08325490181799979\n",
      "epoch: 34, \tMean training loss: 0.11508552070648875, \tMean eval loss: 0.09998413067311049\n",
      "epoch: 35, \tMean training loss: 0.11889229616965168, \tMean eval loss: 0.0879156033694744\n",
      "epoch: 36, \tMean training loss: 0.11581476221093907, \tMean eval loss: 0.0977882427163422\n",
      "epoch: 37, \tMean training loss: 0.11761139145237394, \tMean eval loss: 0.09914954138919711\n",
      "epoch: 38, \tMean training loss: 0.11553311948780902, \tMean eval loss: 0.07983943014405667\n",
      "epoch: 39, \tMean training loss: 0.11596451107528992, \tMean eval loss: 0.0991690869256854\n",
      "epoch: 40, \tMean training loss: 0.11672872174647636, \tMean eval loss: 0.09524607998318971\n",
      "epoch: 41, \tMean training loss: 0.11459535514120944, \tMean eval loss: 0.09114202638156713\n",
      "epoch: 42, \tMean training loss: 0.11322556667029858, \tMean eval loss: 0.09130355907604099\n",
      "epoch: 43, \tMean training loss: 0.12009189377422444, \tMean eval loss: 0.08465880248695612\n",
      "epoch: 44, \tMean training loss: 0.11775640610139818, \tMean eval loss: 0.08953441095538438\n",
      "epoch: 45, \tMean training loss: 0.11231992154265753, \tMean eval loss: 0.08357577642425895\n",
      "epoch: 46, \tMean training loss: 0.11568408000282943, \tMean eval loss: 0.091825694963336\n",
      "epoch: 47, \tMean training loss: 0.11378982577705755, \tMean eval loss: 0.07948920218273997\n",
      "epoch: 48, \tMean training loss: 0.11301908109919168, \tMean eval loss: 0.08570908758789302\n",
      "epoch: 49, \tMean training loss: 0.11525111343711615, \tMean eval loss: 0.08884386349469424\n",
      "epoch: 50, \tMean training loss: 0.112017342352774, \tMean eval loss: 0.09087657665833831\n",
      "epoch: 51, \tMean training loss: 0.1121356309845578, \tMean eval loss: 0.09326706057414412\n",
      "epoch: 52, \tMean training loss: 0.1158648902893765, \tMean eval loss: 0.08198922097682954\n",
      "epoch: 53, \tMean training loss: 0.11203345873393118, \tMean eval loss: 0.08949660568498075\n",
      "epoch: 54, \tMean training loss: 0.11042088680056622, \tMean eval loss: 0.08548616021871566\n",
      "epoch: 55, \tMean training loss: 0.11208308405184653, \tMean eval loss: 0.0790994709264487\n",
      "epoch: 56, \tMean training loss: 0.11222399318474345, \tMean eval loss: 0.08190017329528927\n",
      "epoch: 57, \tMean training loss: 0.11170765963383018, \tMean eval loss: 0.08894231592770666\n",
      "epoch: 58, \tMean training loss: 0.11064026077045128, \tMean eval loss: 0.09030904984101654\n",
      "epoch: 59, \tMean training loss: 0.11228553120163269, \tMean eval loss: 0.08378283466212451\n",
      "epoch: 60, \tMean training loss: 0.11052190351067111, \tMean eval loss: 0.0868052838370204\n",
      "epoch: 61, \tMean training loss: 0.11015400345437229, \tMean eval loss: 0.08215712822973728\n",
      "epoch: 62, \tMean training loss: 0.11414046252262779, \tMean eval loss: 0.08609538177028299\n",
      "epoch: 63, \tMean training loss: 0.10847835341235623, \tMean eval loss: 0.08974714836105704\n",
      "epoch: 64, \tMean training loss: 0.11116542826523074, \tMean eval loss: 0.07304694715887308\n",
      "epoch: 65, \tMean training loss: 0.10936103882850148, \tMean eval loss: 0.09658366603776812\n",
      "epoch: 66, \tMean training loss: 0.10944832698325627, \tMean eval loss: 0.08071633507497608\n",
      "epoch: 67, \tMean training loss: 0.11071876067318953, \tMean eval loss: 0.08423849329352379\n",
      "epoch: 68, \tMean training loss: 0.1046994800522225, \tMean eval loss: 0.0909799830429256\n",
      "epoch: 69, \tMean training loss: 0.10874051732302177, \tMean eval loss: 0.07902987197041511\n",
      "epoch: 70, \tMean training loss: 0.11179191134695429, \tMean eval loss: 0.06693146469071508\n",
      "epoch: 71, \tMean training loss: 0.10859952343744225, \tMean eval loss: 0.08403136410750449\n",
      "epoch: 72, \tMean training loss: 0.11003740094834939, \tMean eval loss: 0.08636108955368399\n",
      "epoch: 73, \tMean training loss: 0.10909229628217872, \tMean eval loss: 0.07805719332769513\n",
      "epoch: 74, \tMean training loss: 0.10764268115861342, \tMean eval loss: 0.07695696425624192\n",
      "epoch: 75, \tMean training loss: 0.10683471447147895, \tMean eval loss: 0.07498453070409596\n",
      "epoch: 76, \tMean training loss: 0.10752299420535565, \tMean eval loss: 0.08151137918233871\n",
      "epoch: 77, \tMean training loss: 0.10559043466812, \tMean eval loss: 0.0784580276813358\n",
      "epoch: 78, \tMean training loss: 0.10821943147107958, \tMean eval loss: 0.0871700431779027\n",
      "epoch: 79, \tMean training loss: 0.10689322929771151, \tMean eval loss: 0.09280193330720067\n",
      "epoch: 80, \tMean training loss: 0.10656505762366578, \tMean eval loss: 0.08197402286343276\n",
      "epoch: 81, \tMean training loss: 0.10722454941540491, \tMean eval loss: 0.07560910101979972\n",
      "epoch: 82, \tMean training loss: 0.10955598645785358, \tMean eval loss: 0.08963219538331031\n",
      "epoch: 83, \tMean training loss: 0.10652603345690295, \tMean eval loss: 0.08095553888007999\n",
      "epoch: 84, \tMean training loss: 0.10859749505994841, \tMean eval loss: 0.08020682229660452\n",
      "epoch: 85, \tMean training loss: 0.10776090498431586, \tMean eval loss: 0.0769633313594386\n",
      "epoch: 86, \tMean training loss: 0.10678095665643923, \tMean eval loss: 0.07365854250267148\n",
      "epoch: 87, \tMean training loss: 0.10744011845323258, \tMean eval loss: 0.08476575655862689\n",
      "epoch: 88, \tMean training loss: 0.10572268974094186, \tMean eval loss: 0.08342483289539813\n",
      "epoch: 89, \tMean training loss: 0.10348119501955808, \tMean eval loss: 0.08378332410939038\n",
      "epoch: 90, \tMean training loss: 0.10800736222881824, \tMean eval loss: 0.0858808558061719\n",
      "epoch: 91, \tMean training loss: 0.10724596956046298, \tMean eval loss: 0.07662210660986603\n",
      "epoch: 92, \tMean training loss: 0.10555895158322529, \tMean eval loss: 0.07610261490568519\n"
     ]
    },
    {
     "name": "stdout",
     "output_type": "stream",
     "text": [
      "epoch: 93, \tMean training loss: 0.10896512914332561, \tMean eval loss: 0.06727827063761652\n",
      "epoch: 94, \tMean training loss: 0.10406996331876144, \tMean eval loss: 0.07547140855342149\n",
      "epoch: 95, \tMean training loss: 0.10380488643422722, \tMean eval loss: 0.09125557025894522\n",
      "epoch: 96, \tMean training loss: 0.10405322408885695, \tMean eval loss: 0.07869371885433793\n",
      "epoch: 97, \tMean training loss: 0.10718528929166496, \tMean eval loss: 0.08174196463078261\n",
      "epoch: 98, \tMean training loss: 0.10409943886101246, \tMean eval loss: 0.07968671523034572\n",
      "epoch: 99, \tMean training loss: 0.10422837380319834, \tMean eval loss: 0.08890565280802548\n",
      "epoch: 100, \tMean training loss: 0.10525053095130715, \tMean eval loss: 0.07950738108716905\n",
      "epoch: 101, \tMean training loss: 0.10379090973292478, \tMean eval loss: 0.07412990869954228\n",
      "epoch: 102, \tMean training loss: 0.10480342281865887, \tMean eval loss: 0.08249209297820925\n",
      "epoch: 103, \tMean training loss: 0.10355181433726102, \tMean eval loss: 0.07979927245527506\n",
      "epoch: 104, \tMean training loss: 0.10529241645301227, \tMean eval loss: 0.07711117904633284\n",
      "epoch: 105, \tMean training loss: 0.1038608310779091, \tMean eval loss: 0.07438054088852368\n",
      "epoch: 106, \tMean training loss: 0.10500982560683042, \tMean eval loss: 0.08439171431586147\n",
      "epoch: 107, \tMean training loss: 0.10388628294575028, \tMean eval loss: 0.07568536590784788\n",
      "epoch: 108, \tMean training loss: 0.10382893156609498, \tMean eval loss: 0.07340671911835671\n",
      "epoch: 109, \tMean training loss: 0.10441103361605202, \tMean eval loss: 0.0763523324392736\n",
      "epoch: 110, \tMean training loss: 0.1031696850596927, \tMean eval loss: 0.07600515290163458\n",
      "epoch: 111, \tMean training loss: 0.10533907607779838, \tMean eval loss: 0.0925663311034441\n",
      "epoch: 112, \tMean training loss: 0.10534371635760181, \tMean eval loss: 0.07795590015128255\n",
      "epoch: 113, \tMean training loss: 0.10432942681014538, \tMean eval loss: 0.07099992224015296\n",
      "epoch: 114, \tMean training loss: 0.1049187014985364, \tMean eval loss: 0.08202755497768521\n",
      "epoch: 115, \tMean training loss: 0.10494207685696892, \tMean eval loss: 0.07687084186822175\n",
      "epoch: 116, \tMean training loss: 0.10329421723843552, \tMean eval loss: 0.06973806083202362\n",
      "epoch: 117, \tMean training loss: 0.10479579992184881, \tMean eval loss: 0.07001535242423415\n",
      "epoch: 118, \tMean training loss: 0.10232106769341044, \tMean eval loss: 0.07618147777393461\n",
      "epoch: 119, \tMean training loss: 0.10425791401066817, \tMean eval loss: 0.07142265019007027\n",
      "epoch: 120, \tMean training loss: 0.10119373278197599, \tMean eval loss: 0.08145641634240747\n",
      "epoch: 121, \tMean training loss: 0.10500905601365958, \tMean eval loss: 0.09161375941708684\n",
      "epoch: 122, \tMean training loss: 0.10270512533199508, \tMean eval loss: 0.0924287551175803\n",
      "epoch: 123, \tMean training loss: 0.10307181782322004, \tMean eval loss: 0.07883756364695728\n",
      "epoch: 124, \tMean training loss: 0.1052048346819356, \tMean eval loss: 0.0685132198035717\n",
      "epoch: 125, \tMean training loss: 0.1033287438278785, \tMean eval loss: 0.07164904380217195\n",
      "epoch: 126, \tMean training loss: 0.10454676131834276, \tMean eval loss: 0.0775377057865262\n",
      "epoch: 127, \tMean training loss: 0.09996100454474799, \tMean eval loss: 0.07949083097279072\n",
      "epoch: 128, \tMean training loss: 0.10284573712619022, \tMean eval loss: 0.07481113573536277\n",
      "epoch: 129, \tMean training loss: 0.10518291378510185, \tMean eval loss: 0.08024297254160047\n",
      "epoch: 130, \tMean training loss: 0.10074269776465371, \tMean eval loss: 0.0729941069893539\n",
      "epoch: 131, \tMean training loss: 0.10419462339254096, \tMean eval loss: 0.08118907204829157\n",
      "epoch: 132, \tMean training loss: 0.10511230035568588, \tMean eval loss: 0.07097506168298423\n",
      "epoch: 133, \tMean training loss: 0.10530399323208257, \tMean eval loss: 0.08909042624756694\n",
      "epoch: 134, \tMean training loss: 0.10232583937002346, \tMean eval loss: 0.07641659624874592\n",
      "epoch: 135, \tMean training loss: 0.10283475965959951, \tMean eval loss: 0.08632411565631629\n",
      "epoch: 136, \tMean training loss: 0.10098179468826857, \tMean eval loss: 0.06918560359627009\n",
      "epoch: 137, \tMean training loss: 0.10065947366761975, \tMean eval loss: 0.07707908241078258\n",
      "epoch: 138, \tMean training loss: 0.10313513800734654, \tMean eval loss: 0.08207020979374648\n",
      "epoch: 139, \tMean training loss: 0.10144952370319515, \tMean eval loss: 0.08126041002105922\n",
      "epoch: 140, \tMean training loss: 0.10093768135877326, \tMean eval loss: 0.07917550928890706\n",
      "epoch: 141, \tMean training loss: 0.0980790242360672, \tMean eval loss: 0.07442796742543578\n",
      "epoch: 142, \tMean training loss: 0.09956782877969089, \tMean eval loss: 0.0699203977547586\n",
      "epoch: 143, \tMean training loss: 0.1024913599237334, \tMean eval loss: 0.08132641235366464\n",
      "epoch: 144, \tMean training loss: 0.10146562151610851, \tMean eval loss: 0.08273125342559069\n",
      "epoch: 145, \tMean training loss: 0.10009086584672332, \tMean eval loss: 0.07121299243532121\n",
      "epoch: 146, \tMean training loss: 0.101823769408511, \tMean eval loss: 0.08130898011848331\n",
      "epoch: 147, \tMean training loss: 0.10187302401755005, \tMean eval loss: 0.07787153441924602\n",
      "epoch: 148, \tMean training loss: 0.10126166304340586, \tMean eval loss: 0.07538082071579993\n",
      "epoch: 149, \tMean training loss: 0.10254825613694266, \tMean eval loss: 0.07891489433124661\n",
      "epoch: 150, \tMean training loss: 0.10057661955128423, \tMean eval loss: 0.08764488051645458\n",
      "epoch: 151, \tMean training loss: 0.10131579440669157, \tMean eval loss: 0.09078954946249723\n",
      "epoch: 152, \tMean training loss: 0.0997346951882355, \tMean eval loss: 0.07425840135081671\n",
      "epoch: 153, \tMean training loss: 0.10236415712279268, \tMean eval loss: 0.09065084429457784\n",
      "epoch: 154, \tMean training loss: 0.1031824628659524, \tMean eval loss: 0.08023078279569745\n",
      "epoch: 155, \tMean training loss: 0.09999433495337144, \tMean eval loss: 0.0865248430520296\n",
      "epoch: 156, \tMean training loss: 0.10055583791341632, \tMean eval loss: 0.07963745073881\n",
      "epoch: 157, \tMean training loss: 0.09951577687519603, \tMean eval loss: 0.07487499153241516\n",
      "epoch: 158, \tMean training loss: 0.10022573653957806, \tMean eval loss: 0.07896487154765054\n",
      "epoch: 159, \tMean training loss: 0.10359966934425756, \tMean eval loss: 0.08135277143679559\n",
      "epoch: 160, \tMean training loss: 0.10025923041277565, \tMean eval loss: 0.07153321599587797\n",
      "epoch: 161, \tMean training loss: 0.10012003931682557, \tMean eval loss: 0.08026135632768273\n",
      "epoch: 162, \tMean training loss: 0.10178051048773341, \tMean eval loss: 0.08528812233358622\n",
      "epoch: 163, \tMean training loss: 0.09945814246893861, \tMean eval loss: 0.07481766710057855\n",
      "epoch: 164, \tMean training loss: 0.1022604683600366, \tMean eval loss: 0.07651647235266865\n",
      "epoch: 165, \tMean training loss: 0.09784419780713506, \tMean eval loss: 0.07743955668061972\n",
      "epoch: 166, \tMean training loss: 0.09999422718188726, \tMean eval loss: 0.07456127591431141\n",
      "epoch: 167, \tMean training loss: 0.09866619751148392, \tMean eval loss: 0.08165324306115508\n",
      "epoch: 168, \tMean training loss: 0.09932931607210777, \tMean eval loss: 0.08650317128747702\n",
      "epoch: 169, \tMean training loss: 0.09997627776698209, \tMean eval loss: 0.08045299378223718\n",
      "epoch: 170, \tMean training loss: 0.09754344436223619, \tMean eval loss: 0.07655114515684545\n",
      "epoch: 171, \tMean training loss: 0.10005109835590702, \tMean eval loss: 0.07416063515469432\n",
      "epoch: 172, \tMean training loss: 0.1011689127702266, \tMean eval loss: 0.08868441604077816\n",
      "epoch: 173, \tMean training loss: 0.09813304236973636, \tMean eval loss: 0.07049544524401426\n",
      "epoch: 174, \tMean training loss: 0.0995878018764779, \tMean eval loss: 0.06664171639829874\n",
      "epoch: 175, \tMean training loss: 0.09957100013154559, \tMean eval loss: 0.07040227469056845\n",
      "epoch: 176, \tMean training loss: 0.09974459553952329, \tMean eval loss: 0.07344675126019866\n",
      "epoch: 177, \tMean training loss: 0.09912850297056139, \tMean eval loss: 0.07141679676249624\n",
      "epoch: 178, \tMean training loss: 0.10179549705557292, \tMean eval loss: 0.08120122794061899\n",
      "epoch: 179, \tMean training loss: 0.10073902746429667, \tMean eval loss: 0.07403028933331371\n",
      "epoch: 180, \tMean training loss: 0.09958534630015492, \tMean eval loss: 0.06879038993269206\n",
      "epoch: 181, \tMean training loss: 0.09786102502257563, \tMean eval loss: 0.072476227581501\n",
      "epoch: 182, \tMean training loss: 0.10116375974146649, \tMean eval loss: 0.07216246949508787\n",
      "epoch: 183, \tMean training loss: 0.09819329654914327, \tMean eval loss: 0.0762228501914069\n"
     ]
    },
    {
     "name": "stdout",
     "output_type": "stream",
     "text": [
      "epoch: 184, \tMean training loss: 0.09923596438835375, \tMean eval loss: 0.07784630452282727\n",
      "epoch: 185, \tMean training loss: 0.09846482489840128, \tMean eval loss: 0.07930937835946679\n",
      "epoch: 186, \tMean training loss: 0.09876383642316795, \tMean eval loss: 0.08888224266469479\n",
      "epoch: 187, \tMean training loss: 0.09664801717270166, \tMean eval loss: 0.08617080587893725\n",
      "epoch: 188, \tMean training loss: 0.09849345637718215, \tMean eval loss: 0.07935173943638801\n",
      "epoch: 189, \tMean training loss: 0.09679157066449989, \tMean eval loss: 0.0706042904779315\n",
      "epoch: 190, \tMean training loss: 0.09831715023668948, \tMean eval loss: 0.07320091809146106\n",
      "epoch: 191, \tMean training loss: 0.09876918126014061, \tMean eval loss: 0.07508818241767586\n",
      "epoch: 192, \tMean training loss: 0.09974794531124644, \tMean eval loss: 0.06486975719220936\n",
      "epoch: 193, \tMean training loss: 0.09752269068150782, \tMean eval loss: 0.07997530303429812\n",
      "epoch: 194, \tMean training loss: 0.0977846049173968, \tMean eval loss: 0.07472343883477152\n",
      "epoch: 195, \tMean training loss: 0.0984359475056408, \tMean eval loss: 0.07032658897340298\n",
      "epoch: 196, \tMean training loss: 0.09773314010439207, \tMean eval loss: 0.0830044673010707\n",
      "epoch: 197, \tMean training loss: 0.10150431937770918, \tMean eval loss: 0.06523073493503034\n",
      "epoch: 198, \tMean training loss: 0.09827519113896414, \tMean eval loss: 0.07041251437738538\n",
      "epoch: 199, \tMean training loss: 0.09668848521308973, \tMean eval loss: 0.0714362317044288\n",
      "epoch: 200, \tMean training loss: 0.09666107349097729, \tMean eval loss: 0.07467582524754107\n"
     ]
    }
   ],
   "source": [
    "# User-defined hyperparameters\n",
    "model = simpleModel().cuda()\n",
    "\n",
    "criterion = nn.L1Loss()\n",
    "learning_rate = 0.005\n",
    "optimizer = torch.optim.SGD(model.parameters(), lr = learning_rate)\n",
    "\n",
    "# Number of epochs to train for\n",
    "epochs = 200\n",
    "\n",
    "loss_training_per_epoch = np.empty((epochs, 1))\n",
    "loss_validation_per_epoch = np.empty((epochs, 1))\n",
    "error_training_per_epoch = np.empty((epochs, 3))\n",
    "\n",
    "for epoch in range(epochs):\n",
    "    total_loss = 0\n",
    "    total_eval_loss = 0\n",
    "    total_error = 0\n",
    "\n",
    "    # Set in train mode\n",
    "    model.train()\n",
    "    \n",
    "    # Train the model\n",
    "    training_iterator = iter(train_dataloader_3_1)\n",
    "    for i in range(len(training_iterator)):\n",
    "        x, y = next(training_iterator)\n",
    "        \n",
    "        # Propagate forward\n",
    "        output = model(torch.flatten(x[0]))\n",
    "\n",
    "        # Compute loss\n",
    "        loss = criterion(output, y[0])\n",
    "        total_loss += loss.item()\n",
    "\n",
    "        # Store error per for each prediction [c2 c3 c4]\n",
    "        expected = y[0].cpu().numpy()\n",
    "        predicted = output.cpu().detach().numpy()\n",
    "        total_error += expected - predicted\n",
    "\n",
    "        # Backward propagate\n",
    "        optimizer.zero_grad()\n",
    "        loss.backward()\n",
    "        optimizer.step()\n",
    "    \n",
    "    # Set in eval mode\n",
    "    model.eval()\n",
    "\n",
    "    # Evaluate loss on validation set\n",
    "    validation_iterator = iter(validation_dataloader_3_1)\n",
    "    for i in range(len(validation_iterator)):\n",
    "        with torch.no_grad():\n",
    "            x, y = next(validation_iterator)\n",
    "\n",
    "            # Propagate forward\n",
    "            output = model(torch.flatten(x[0]))\n",
    "\n",
    "            # Compute loss\n",
    "            loss = criterion(output, y[0])\n",
    "            total_eval_loss += loss.item()\n",
    "\n",
    "    average_training_loss = total_loss / len(training_iterator)\n",
    "    average_eval_loss = total_eval_loss / len(validation_iterator)\n",
    "    average_training_error = total_error / len(training_iterator)\n",
    "\n",
    "    loss_training_per_epoch[epoch] = average_training_loss\n",
    "    loss_validation_per_epoch[epoch] = average_eval_loss\n",
    "    error_training_per_epoch[epoch] = average_training_error\n",
    "\n",
    "    print(f'epoch: {epoch+1}, \\tMean training loss: {average_training_loss}, \\tMean eval loss: {average_eval_loss}')"
   ]
  },
  {
   "cell_type": "markdown",
   "id": "da139d5b",
   "metadata": {
    "id": "da139d5b"
   },
   "source": [
    "## Evaluation"
   ]
  },
  {
   "cell_type": "code",
   "execution_count": 13,
   "id": "ebed03ba",
   "metadata": {
    "id": "ebed03ba"
   },
   "outputs": [
    {
     "data": {
      "image/png": "[encoded data removed]",
      "text/plain": [
       "<Figure size 432x288 with 1 Axes>"
      ]
     },
     "metadata": {
      "needs_background": "light"
     },
     "output_type": "display_data"
    }
   ],
   "source": [
    "# Plot the loss curve\n",
    "plt.figure()\n",
    "plt.plot(range(epochs), loss_training_per_epoch, \"b-\", label=\"Training loss\")\n",
    "plt.plot(range(epochs), loss_validation_per_epoch, \"g-\", label=\"Validation loss\")\n",
    "plt.legend(loc=\"upper right\")\n",
    "plt.xlabel(\"Epoch\")\n",
    "plt.ylabel(\"Observed loss\")\n",
    "plt.title(\"Model training\")\n",
    "plt.show()"
   ]
  },
  {
   "cell_type": "code",
   "execution_count": 14,
   "id": "17af7ec3",
   "metadata": {
    "id": "17af7ec3"
   },
   "outputs": [
    {
     "name": "stdout",
     "output_type": "stream",
     "text": [
      "Predicted charges: [-0.36523473 -0.3397842  -0.41797414], Actual charges: [-0.4197311  -0.34731492 -0.2703901 ]\n",
      "Predicted charges: [-0.71458125 -0.79235333 -0.30417106], Actual charges: [-0.75982606 -0.84482783 -0.06847417]\n",
      "Predicted charges: [-0.30697376 -0.27885967 -0.6856718 ], Actual charges: [-0.22984149 -0.3395736  -0.72089595]\n",
      "Predicted charges: [-0.6633675  -0.17900814 -0.29731935], Actual charges: [-0.63293535 -0.1991621  -0.2756137 ]\n",
      "Predicted charges: [-0.23431623 -0.77324104 -0.30038422], Actual charges: [-0.32130128 -0.7680519  -0.1655971 ]\n",
      "Predicted charges: [-0.36523473 -0.3397842  -0.41797414], Actual charges: [-0.4197311  -0.34731492 -0.2703901 ]\n",
      "Predicted charges: [-0.06302533 -0.08204675 -0.94413394], Actual charges: [-0.03399318 -0.08961437 -0.9840343 ]\n",
      "Predicted charges: [-0.6994108  -0.22319545 -0.36677647], Actual charges: [-0.70541203 -0.23746414 -0.33242565]\n",
      "Predicted charges: [-0.1383712  -0.30183497 -0.37919092], Actual charges: [-0.06704309 -0.12076204 -0.27023166]\n",
      "Predicted charges: [-0.8216226  -0.7189077  -0.36153716], Actual charges: [-0.95354337 -0.75259626 -0.08245005]\n",
      "Predicted charges: [-0.80666494 -0.23088282 -0.49834654], Actual charges: [-0.9731834 -0.1922968 -0.4088826]\n",
      "Predicted charges: [-0.6869981  -0.86110806 -0.74286056], Actual charges: [-0.7859152  -0.9122234  -0.74412394]\n",
      "Predicted charges: [-0.8275968  -0.76010394 -0.7896389 ], Actual charges: [-0.8941739  -0.78428704 -0.8214629 ]\n",
      "Predicted charges: [-0.43367118 -0.5113089  -0.49837345], Actual charges: [-0.458705  -0.5271604 -0.4143034]\n",
      "Predicted charges: [-0.6737429  -0.31132692 -0.5137003 ], Actual charges: [-0.7551542  -0.20153968 -0.513518  ]\n",
      "Predicted charges: [-0.5851843  -0.2796169  -0.18056506], Actual charges: [-0.52291113 -0.16238636 -0.03167761]\n",
      "Predicted charges: [-0.6315849 -0.6677824 -0.8421784], Actual charges: [-0.641466   -0.91733015 -0.8782985 ]\n",
      "Predicted charges: [-0.06501347 -0.9725759  -0.24563786], Actual charges: [-0.06291853 -0.929516   -0.10011824]\n",
      "Predicted charges: [-0.30697376 -0.27885967 -0.6856718 ], Actual charges: [-0.22984149 -0.3395736  -0.72089595]\n",
      "Predicted charges: [-0.3741853 -0.5485665 -0.6177582], Actual charges: [-0.5122477 -0.5047246 -0.5907416]\n",
      "Predicted charges: [-0.833308   -0.5091105  -0.42838526], Actual charges: [-0.9538568  -0.4123769  -0.39189112]\n",
      "Predicted charges: [-0.6633675  -0.17900814 -0.29731935], Actual charges: [-0.63293535 -0.1991621  -0.2756137 ]\n",
      "Predicted charges: [-0.23431623 -0.77324104 -0.30038422], Actual charges: [-0.32130128 -0.7680519  -0.1655971 ]\n",
      "Predicted charges: [-0.80666494 -0.23088282 -0.49834654], Actual charges: [-0.9731834 -0.1922968 -0.4088826]\n",
      "Predicted charges: [-0.61531085 -0.6327686  -0.21397975], Actual charges: [-0.5206636  -0.62429523 -0.15938587]\n",
      "Predicted charges: [-0.6465423  -0.5241726  -0.79560894], Actual charges: [-0.76826036 -0.48715055 -0.8147892 ]\n",
      "Predicted charges: [-0.24653675 -0.68094057 -0.6607596 ], Actual charges: [-0.16389808 -0.7365732  -0.5592653 ]\n",
      "Predicted charges: [-0.32278484 -0.7465272  -0.7051022 ], Actual charges: [-0.28947157 -0.83868444 -0.84986407]\n",
      "Predicted charges: [-0.8997071  -0.10043153 -0.23811409], Actual charges: [-0.8761782  -0.0335471  -0.10635067]\n",
      "Predicted charges: [-0.4394596  -0.2816177  -0.34732664], Actual charges: [-0.508813   -0.22726937 -0.35203868]\n",
      "Predicted charges: [-0.63293636 -0.25667816 -0.5561759 ], Actual charges: [-0.67374104 -0.25783342 -0.5131491 ]\n",
      "Predicted charges: [-0.75594044 -0.24232087 -0.61498547], Actual charges: [-0.7300688  -0.23749067 -0.5665156 ]\n",
      "Predicted charges: [-0.54336935 -0.4571646  -0.7043278 ], Actual charges: [-0.5532922  -0.41946065 -0.80242974]\n",
      "Predicted charges: [-0.10773343 -0.9500797  -0.2717414 ], Actual charges: [-0.12848495 -0.95639795 -0.13101207]\n",
      "Predicted charges: [-0.8216226  -0.7189077  -0.36153716], Actual charges: [-0.95354337 -0.75259626 -0.08245005]\n",
      "Predicted charges: [-0.8216226  -0.7189077  -0.36153716], Actual charges: [-0.95354337 -0.75259626 -0.08245005]\n",
      "Predicted charges: [-0.24900672 -0.18877965 -0.35166544], Actual charges: [-0.12278833 -0.09665291 -0.27836427]\n",
      "Predicted charges: [-0.61531085 -0.6327686  -0.21397975], Actual charges: [-0.5206636  -0.62429523 -0.15938587]\n",
      "Predicted charges: [-0.1186192  -0.2121984  -0.43399638], Actual charges: [-0.13061304 -0.11323614 -0.4980057 ]\n",
      "Predicted charges: [-0.82769966 -0.85763395 -0.69603384], Actual charges: [-0.9430645  -0.94473404 -0.5994704 ]\n",
      "Predicted charges: [-0.36523473 -0.3397842  -0.41797414], Actual charges: [-0.4197311  -0.34731492 -0.2703901 ]\n",
      "Predicted charges: [-0.44829255 -0.31031302 -0.8174543 ], Actual charges: [-0.4109794 -0.4959333 -0.9825246]\n",
      "Predicted charges: [-0.6412776  -0.88348067 -0.30460307], Actual charges: [-0.68700284 -0.9281987  -0.09667127]\n",
      "Predicted charges: [-0.7621891  -0.3288835  -0.71881586], Actual charges: [-0.9034711  -0.25056812 -0.611861  ]\n",
      "Predicted charges: [-0.24900672 -0.18877965 -0.35166544], Actual charges: [-0.12278833 -0.09665291 -0.27836427]\n",
      "Predicted charges: [-0.59778357 -0.92767835 -0.84808767], Actual charges: [-0.6685254  -0.9815461  -0.96638536]\n",
      "Predicted charges: [-0.8660536  -0.65943116 -0.8064452 ], Actual charges: [-0.9124747 -0.6231933 -0.8679962]\n",
      "Predicted charges: [-0.36523473 -0.3397842  -0.41797414], Actual charges: [-0.4197311  -0.34731492 -0.2703901 ]\n",
      "Predicted charges: [-0.7633415 -0.4330172 -0.578425 ], Actual charges: [-0.7315716  -0.37579238 -0.53410125]\n",
      "Predicted charges: [-0.6633675  -0.17900814 -0.29731935], Actual charges: [-0.63293535 -0.1991621  -0.2756137 ]\n",
      "Predicted charges: [-0.02831379 -0.7708075  -0.27457848], Actual charges: [-0.04642796 -0.75142026 -0.0066733 ]\n",
      "Predicted charges: [-0.43367118 -0.5113089  -0.49837345], Actual charges: [-0.458705  -0.5271604 -0.4143034]\n",
      "Predicted charges: [-0.6553376 -0.8427261 -0.3367396], Actual charges: [-0.5756318 -0.9024034 -0.3399094]\n",
      "Predicted charges: [-0.4531956 -0.5041814 -0.6453784], Actual charges: [-0.540367   -0.5985336  -0.53524625]\n",
      "Predicted charges: [-0.24653675 -0.68094057 -0.6607596 ], Actual charges: [-0.16389808 -0.7365732  -0.5592653 ]\n",
      "Predicted charges: [-0.30564615 -0.7212807  -0.72276425], Actual charges: [-0.2834421 -0.9243951 -0.6924802]\n",
      "Predicted charges: [-0.319472  -0.8267999 -0.6735557], Actual charges: [-0.34254307 -0.91856647 -0.6076243 ]\n",
      "Predicted charges: [-0.4531956 -0.5041814 -0.6453784], Actual charges: [-0.540367   -0.5985336  -0.53524625]\n",
      "Predicted charges: [-0.8183218  -0.64845777 -0.88353944], Actual charges: [-0.861279   -0.6510275  -0.97197485]\n",
      "Predicted charges: [-0.29727387 -0.28774443 -0.42645603], Actual charges: [-0.3013866 -0.2226545 -0.381314 ]\n",
      "Predicted charges: [-0.79877543 -0.34396762 -0.7221362 ], Actual charges: [-0.78167963 -0.3411705  -0.8381497 ]\n",
      "Predicted charges: [-0.18572776 -0.6273862  -0.25176683], Actual charges: [-0.20928842 -0.60037655 -0.04810857]\n",
      "Predicted charges: [-0.6637996 -0.7795977 -0.2304981], Actual charges: [-0.6472032  -0.7587219  -0.05025694]\n",
      "Predicted charges: [-0.6994108  -0.22319545 -0.36677647], Actual charges: [-0.70541203 -0.23746414 -0.33242565]\n",
      "Predicted charges: [-0.4531956 -0.5041814 -0.6453784], Actual charges: [-0.540367   -0.5985336  -0.53524625]\n",
      "Predicted charges: [-0.12624753 -0.18177427 -0.755182  ], Actual charges: [-0.05252508 -0.3104954  -0.840881  ]\n",
      "Predicted charges: [-0.4531956 -0.5041814 -0.6453784], Actual charges: [-0.540367   -0.5985336  -0.53524625]\n",
      "Predicted charges: [-0.34315613 -0.46728855 -0.248341  ], Actual charges: [-0.38935432 -0.48996845 -0.08618085]\n",
      "Predicted charges: [-0.71458125 -0.79235333 -0.30417106], Actual charges: [-0.75982606 -0.84482783 -0.06847417]\n",
      "Predicted charges: [-0.831584   -0.73685324 -0.54080236], Actual charges: [-0.9276323  -0.81764734 -0.37524036]\n",
      "Predicted charges: [-0.77183425 -0.57315886 -0.28855678], Actual charges: [-0.6886711  -0.53263986 -0.29498848]\n",
      "Predicted charges: [-0.12805274 -0.37601262 -0.69069076], Actual charges: [-0.08008295 -0.32259613 -0.77118933]\n",
      "Predicted charges: [-0.18572776 -0.6273862  -0.25176683], Actual charges: [-0.20928842 -0.60037655 -0.04810857]\n",
      "Predicted charges: [-0.6097526  -0.7779766  -0.68328774], Actual charges: [-0.6160423 -0.8654506 -0.6339072]\n",
      "Predicted charges: [-0.8216226  -0.7189077  -0.36153716], Actual charges: [-0.95354337 -0.75259626 -0.08245005]\n",
      "Predicted charges: [-0.8144497  -0.8301015  -0.72265565], Actual charges: [-0.8903967  -0.8459716  -0.69113445]\n",
      "Predicted charges: [-0.88673675 -0.80616117 -0.49582097], Actual charges: [-0.8917312  -0.9412661  -0.47088242]\n",
      "Predicted charges: [-0.4152042  -0.16229968 -0.32546565], Actual charges: [-0.4411438  -0.07289914 -0.28445038]\n",
      "Predicted charges: [-0.18572776 -0.6273862  -0.25176683], Actual charges: [-0.20928842 -0.60037655 -0.04810857]\n",
      "Predicted charges: [-0.8183218  -0.64845777 -0.88353944], Actual charges: [-0.861279   -0.6510275  -0.97197485]\n",
      "Predicted charges: [-0.29151475 -0.28328767 -0.3152688 ], Actual charges: [-0.25634468 -0.17093244 -0.19580886]\n",
      "Predicted charges: [-0.61531085 -0.6327686  -0.21397975], Actual charges: [-0.5206636  -0.62429523 -0.15938587]\n",
      "Predicted charges: [-0.82769966 -0.85763395 -0.69603384], Actual charges: [-0.9430645  -0.94473404 -0.5994704 ]\n",
      "Predicted charges: [-0.8660536  -0.65943116 -0.8064452 ], Actual charges: [-0.9124747 -0.6231933 -0.8679962]\n",
      "Predicted charges: [-0.43367118 -0.5113089  -0.49837345], Actual charges: [-0.458705  -0.5271604 -0.4143034]\n",
      "Predicted charges: [-0.5064825  -0.17447028 -0.8395115 ], Actual charges: [-0.6839932  -0.09790986 -0.92043376]\n",
      "Predicted charges: [-0.8216226  -0.7189077  -0.36153716], Actual charges: [-0.95354337 -0.75259626 -0.08245005]\n",
      "Predicted charges: [-0.26182312 -0.7808454  -0.2412219 ], Actual charges: [-0.30983463 -0.89006585 -0.01796825]\n",
      "Predicted charges: [-0.75926554 -0.62342024 -0.4601001 ], Actual charges: [-0.6185554  -0.5891298  -0.42420405]\n",
      "Predicted charges: [-0.49492112 -0.5835115  -0.7760978 ], Actual charges: [-0.5287239  -0.62771684 -0.88067234]\n",
      "Predicted charges: [-0.24900672 -0.18877965 -0.35166544], Actual charges: [-0.12278833 -0.09665291 -0.27836427]\n",
      "Predicted charges: [-0.4152042  -0.16229968 -0.32546565], Actual charges: [-0.4411438  -0.07289914 -0.28445038]\n",
      "Predicted charges: [-0.6412776  -0.88348067 -0.30460307], Actual charges: [-0.68700284 -0.9281987  -0.09667127]\n",
      "Predicted charges: [-0.53409624 -0.69898874 -0.75307393], Actual charges: [-0.5767823 -0.7467487 -0.7765796]\n",
      "Predicted charges: [-0.23108405 -0.7723614  -0.6132218 ], Actual charges: [-0.16006294 -0.9131096  -0.5270913 ]\n",
      "Predicted charges: [-0.49527562 -0.37600225 -0.55980134], Actual charges: [-0.52877843 -0.42367262 -0.4962724 ]\n",
      "Predicted charges: [-0.20772627 -0.13353446 -0.7647947 ], Actual charges: [-0.11109301 -0.05086418 -0.62879497]\n",
      "Predicted charges: [-0.33175159 -0.4959094  -0.22816294], Actual charges: [-0.3728974  -0.47021964 -0.13290901]\n",
      "Predicted charges: [-0.33175159 -0.4959094  -0.22816294], Actual charges: [-0.3728974  -0.47021964 -0.13290901]\n",
      "Predicted charges: [-0.6737429  -0.31132692 -0.5137003 ], Actual charges: [-0.7551542  -0.20153968 -0.513518  ]\n"
     ]
    }
   ],
   "source": [
    "# Evaluate the model performance\n",
    "\n",
    "# number of example predictions\n",
    "nr_predictions = 100\n",
    "\n",
    "# Set model to eval mode\n",
    "model.eval()\n",
    "\n",
    "prediction_error = np.empty((nr_predictions, 3))\n",
    "for example_prediction in range(nr_predictions):\n",
    "    # Get a random index\n",
    "    index = random.choice(range(len(simulation_test)))\n",
    "    \n",
    "    # Get corresponding tensors\n",
    "    particle_positions = torch.tensor(simulation_test[index][0:90]).type(torch.FloatTensor).cuda()\n",
    "    particle_charges = torch.tensor(charges_test[index]).type(torch.FloatTensor).cuda()\n",
    "    \n",
    "    # Forward propagate the particle positions through the model\n",
    "    with torch.no_grad():\n",
    "        predicted_charges = model(torch.flatten(particle_positions))\n",
    "        \n",
    "        # Store prediction result in error\n",
    "        prediction = predicted_charges.cpu().numpy()\n",
    "        expected = particle_charges.cpu().numpy()\n",
    "        prediction_error[example_prediction] = expected - prediction\n",
    "    \n",
    "    # Print results\n",
    "    print(f'Predicted charges: {prediction}, Actual charges: {expected}')"
   ]
  },
  {
   "cell_type": "code",
   "execution_count": 15,
   "id": "43a3422e",
   "metadata": {
    "id": "43a3422e"
   },
   "outputs": [
    {
     "data": {
      "image/png": "[encoded data removed]",
      "text/plain": [
       "<Figure size 432x288 with 1 Axes>"
      ]
     },
     "metadata": {
      "needs_background": "light"
     },
     "output_type": "display_data"
    },
    {
     "data": {
      "image/png": "[encoded data removed]",
      "text/plain": [
       "<Figure size 432x288 with 1 Axes>"
      ]
     },
     "metadata": {
      "needs_background": "light"
     },
     "output_type": "display_data"
    }
   ],
   "source": [
    "# Plot the dispersion for;\n",
    "# error during training\n",
    "plt.figure()\n",
    "plt.boxplot(error_training_per_epoch)\n",
    "plt.xlabel(\"Negative charges (1 = c_2, 2 = c_3, 3 = c_4)\")\n",
    "plt.ylabel(\"Observed dispersion\")\n",
    "plt.title(\"Model error on training\")\n",
    "plt.show()\n",
    "\n",
    "# error on test set\n",
    "plt.figure()\n",
    "plt.boxplot(prediction_error)\n",
    "plt.xlabel(\"Negative charges (1 = c_2, 2 = c_3, 3 = c_4)\")\n",
    "plt.ylabel(\"Observed dispersion\")\n",
    "plt.title(\"Model error on test set\")\n",
    "plt.show()"
   ]
  },
  {
   "cell_type": "markdown",
   "id": "9a59808b",
   "metadata": {
    "id": "9a59808b"
   },
   "source": [
    "# Task 3.2"
   ]
  },
  {
   "cell_type": "markdown",
   "id": "f64a855d",
   "metadata": {
    "id": "f64a855d"
   },
   "source": [
    "## Data Handling and Preprocessing"
   ]
  },
  {
   "cell_type": "code",
   "execution_count": 9,
   "id": "0ec19a8d",
   "metadata": {
    "id": "0ec19a8d"
   },
   "outputs": [],
   "source": [
    "# Populate the dataset\n",
    "simulations_train_3_2 = []\n",
    "simulations_continued_train_3_2 = []\n",
    "for i in range(150):\n",
    "    trajectory = torch.Tensor(simulation_train_task32[i]).type(torch.FloatTensor).cuda()\n",
    "    trajectory_continuation = torch.Tensor(simulation_continued_train[i]).type(torch.FloatTensor).cuda()\n",
    "    simulations_train_3_2.append(trajectory)\n",
    "    simulations_continued_train_3_2.append(trajectory_continuation)\n",
    "\n",
    "simulations_validation_3_2 = []\n",
    "simulations_continued_validation_3_2 = []\n",
    "simulations_test_3_2 = []\n",
    "simulations_continued_test_3_2 = []\n",
    "for i in range(100):\n",
    "    trajectory_validation = torch.Tensor(simulation_valid[i]).type(torch.FloatTensor).cuda()\n",
    "    trajectory_validation_continuation = torch.Tensor(simulation_continued_valid[i]).type(torch.FloatTensor).cuda()\n",
    "    simulations_validation_3_2.append(trajectory_validation)\n",
    "    simulations_continued_validation_3_2.append(trajectory_validation_continuation)\n",
    "    \n",
    "    trajectory_test = torch.Tensor(simulation_test[i]).type(torch.FloatTensor).cuda()\n",
    "    trajectory_test_continuation = torch.Tensor(simulation_continued_test[i]).type(torch.FloatTensor).cuda()\n",
    "    simulations_test_3_2.append(trajectory_test)\n",
    "    simulations_continued_test_3_2.append(trajectory_test_continuation)"
   ]
  },
  {
   "cell_type": "code",
   "execution_count": 10,
   "id": "8f189d19",
   "metadata": {
    "id": "8f189d19"
   },
   "outputs": [],
   "source": [
    "# Construct dataloaders\n",
    "train_dataset_3_2 = CustomDataset(simulations_train_3_2, simulations_continued_train_3_2)\n",
    "train_dataloader_3_2 = DataLoader(train_dataset_3_2, batch_size=1, shuffle=True)\n",
    "\n",
    "validation_dataset_3_2 = CustomDataset(simulations_validation_3_2, simulations_continued_validation_3_2)\n",
    "validation_dataloader_3_2 = DataLoader(validation_dataset_3_2, batch_size=1, shuffle=False)\n",
    "\n",
    "test_dataset_3_2 = CustomDataset(simulations_test_3_2, simulations_continued_test_3_2)\n",
    "test_dataloader_3_2 = DataLoader(test_dataset_3_2, batch_size=1, shuffle=False)"
   ]
  },
  {
   "cell_type": "markdown",
   "id": "867aabb3",
   "metadata": {
    "id": "867aabb3"
   },
   "source": [
    "## Model Implementation"
   ]
  },
  {
   "cell_type": "code",
   "execution_count": 11,
   "id": "36fe2739",
   "metadata": {
    "id": "36fe2739"
   },
   "outputs": [],
   "source": [
    "class LSTM(nn.Module):\n",
    "    def __init__(self, input_dim, hidden_dim):\n",
    "        super(LSTM, self).__init__()\n",
    "        self.input_dim = input_dim\n",
    "        self.hidden_dim = hidden_dim\n",
    "        \n",
    "        # Define LSTM layer\n",
    "        self.lstm = nn.LSTM(input_size=input_dim, hidden_size=hidden_dim, batch_first=True)\n",
    "        \n",
    "        # One fully connected layer to output \n",
    "        self.fc = nn.Linear(hidden_dim, 120)\n",
    "        \n",
    "    def forward(self, inputs, h_0, c_0):\n",
    "        # Forward propagate\n",
    "        out, (h_n, c_n) = self.lstm(inputs, (h_0, c_0))\n",
    "        \n",
    "        # Reshape before forwarding\n",
    "        output = h_n.view(-1, self.hidden_dim)\n",
    "        \n",
    "        # Forward through dense layers\n",
    "        output = self.fc(output)\n",
    "        \n",
    "        # Resize final shape\n",
    "        output = output.view(60, 2)\n",
    "        \n",
    "        return output, h_n, c_n"
   ]
  },
  {
   "cell_type": "markdown",
   "id": "826fae3f",
   "metadata": {
    "id": "826fae3f"
   },
   "source": [
    "## Model Training"
   ]
  },
  {
   "cell_type": "code",
   "execution_count": 13,
   "id": "db3fce95",
   "metadata": {
    "id": "db3fce95"
   },
   "outputs": [
    {
     "name": "stdout",
     "output_type": "stream",
     "text": [
      "Epoch: 1 \tTraining loss: 2.9359023755788805 \tValidation loss: 3.1232806119322776\n",
      "Epoch: 2 \tTraining loss: 2.536130556464195 \tValidation loss: 2.6615931031107904\n",
      "Epoch: 3 \tTraining loss: 2.1511616462469103 \tValidation loss: 2.488807129859924\n",
      "Epoch: 4 \tTraining loss: 1.9115918960173925 \tValidation loss: 2.2254736733436586\n",
      "Epoch: 5 \tTraining loss: 1.7863987144827842 \tValidation loss: 2.1446633104979993\n",
      "Epoch: 6 \tTraining loss: 1.616457681854566 \tValidation loss: 1.9648855667561294\n",
      "Epoch: 7 \tTraining loss: 1.4643271008878946 \tValidation loss: 1.9364519435539842\n",
      "Epoch: 8 \tTraining loss: 1.4307970143854618 \tValidation loss: 1.7830049588531256\n",
      "Epoch: 9 \tTraining loss: 1.3551222225526969 \tValidation loss: 1.736449607014656\n",
      "Epoch: 10 \tTraining loss: 1.3206712733457486 \tValidation loss: 1.6594976492598652\n",
      "Epoch: 11 \tTraining loss: 1.202161895831426 \tValidation loss: 1.5702148931846023\n",
      "Epoch: 12 \tTraining loss: 1.113196273756524 \tValidation loss: 1.4460696353018283\n",
      "Epoch: 13 \tTraining loss: 1.088124090557297 \tValidation loss: 1.397645622715354\n",
      "Epoch: 14 \tTraining loss: 0.927472168430686 \tValidation loss: 1.3914706319198011\n",
      "Epoch: 15 \tTraining loss: 0.965945137043794 \tValidation loss: 1.2855509020388127\n",
      "Epoch: 16 \tTraining loss: 0.8561413245710234 \tValidation loss: 1.275291009694338\n",
      "Epoch: 17 \tTraining loss: 0.832695609604319 \tValidation loss: 1.135973229072988\n",
      "Epoch: 18 \tTraining loss: 0.7066497065561513 \tValidation loss: 1.144291388131678\n",
      "Epoch: 19 \tTraining loss: 0.7559191619356473 \tValidation loss: 1.163961704596877\n",
      "Epoch: 20 \tTraining loss: 0.7803198978553215 \tValidation loss: 1.0835184685140848\n",
      "Epoch: 21 \tTraining loss: 0.7630883892625571 \tValidation loss: 1.033641819693148\n",
      "Epoch: 22 \tTraining loss: 0.6267544012765089 \tValidation loss: 1.1706667643785478\n",
      "Epoch: 23 \tTraining loss: 0.6698707270622254 \tValidation loss: 0.9969185632094741\n",
      "Epoch: 24 \tTraining loss: 0.5464078598966201 \tValidation loss: 1.022027131114155\n",
      "Epoch: 25 \tTraining loss: 0.6494199660420418 \tValidation loss: 1.0065101405233146\n",
      "Epoch: 26 \tTraining loss: 0.5475552734235922 \tValidation loss: 0.8724058700352907\n",
      "Epoch: 27 \tTraining loss: 0.4797254677116871 \tValidation loss: 0.9233071437850594\n",
      "Epoch: 28 \tTraining loss: 0.47136315748095514 \tValidation loss: 0.9598868737369776\n",
      "Epoch: 29 \tTraining loss: 0.4480373317375779 \tValidation loss: 0.7848787453770637\n",
      "Epoch: 30 \tTraining loss: 0.4272523211936156 \tValidation loss: 0.9586853500083089\n",
      "Epoch: 31 \tTraining loss: 0.4529271529987454 \tValidation loss: 0.8403939856402576\n",
      "Epoch: 32 \tTraining loss: 0.5413681818544864 \tValidation loss: 0.9039844728261233\n",
      "Epoch: 33 \tTraining loss: 0.5016093097875516 \tValidation loss: 0.8978072813898325\n",
      "Epoch: 34 \tTraining loss: 0.5002200949564576 \tValidation loss: 0.8048902105912566\n",
      "Epoch: 35 \tTraining loss: 0.47442235694577295 \tValidation loss: 0.8058408701978624\n",
      "Epoch: 36 \tTraining loss: 0.38806503353329996 \tValidation loss: 0.8327171165496111\n",
      "Epoch: 37 \tTraining loss: 0.36725571323807044 \tValidation loss: 0.835142368786037\n",
      "Epoch: 38 \tTraining loss: 0.344673035312444 \tValidation loss: 0.7544145115278661\n",
      "Epoch: 39 \tTraining loss: 0.37936858739703894 \tValidation loss: 0.7912394109368325\n",
      "Epoch: 40 \tTraining loss: 0.3274294764051835 \tValidation loss: 0.8084480893053114\n",
      "Epoch: 41 \tTraining loss: 0.39664275330180926 \tValidation loss: 0.8189661504328251\n",
      "Epoch: 42 \tTraining loss: 0.427832166912655 \tValidation loss: 0.7900961561501026\n",
      "Epoch: 43 \tTraining loss: 0.3555594953894615 \tValidation loss: 0.8219086147099733\n",
      "Epoch: 44 \tTraining loss: 0.30555059121300776 \tValidation loss: 0.8690316457301378\n",
      "Epoch: 45 \tTraining loss: 0.27150107310463983 \tValidation loss: 0.7527067260630429\n",
      "Epoch: 46 \tTraining loss: 0.25125148713588713 \tValidation loss: 0.7772020120173693\n",
      "Epoch: 47 \tTraining loss: 0.28355693612247707 \tValidation loss: 0.8069099218677729\n",
      "Epoch: 48 \tTraining loss: 0.25553819036111236 \tValidation loss: 0.6974280094169081\n",
      "Epoch: 49 \tTraining loss: 0.24355543730780482 \tValidation loss: 0.7510136159975082\n",
      "Epoch: 50 \tTraining loss: 0.2774272148218006 \tValidation loss: 0.7588767075724899\n",
      "Epoch: 51 \tTraining loss: 0.29792238482584554 \tValidation loss: 0.7711506131477655\n",
      "Epoch: 52 \tTraining loss: 0.2907414909328024 \tValidation loss: 0.7815725742466748\n",
      "Epoch: 53 \tTraining loss: 0.2657250645880898 \tValidation loss: 0.7347973252087832\n",
      "Epoch: 54 \tTraining loss: 0.23837462964157263 \tValidation loss: 0.7756404374726117\n",
      "Epoch: 55 \tTraining loss: 0.2518094931046168 \tValidation loss: 0.7146185025386512\n",
      "Epoch: 56 \tTraining loss: 0.252854039222002 \tValidation loss: 0.8216223468258977\n",
      "Epoch: 57 \tTraining loss: 0.24806408159745236 \tValidation loss: 0.7383875589445233\n",
      "Epoch: 58 \tTraining loss: 0.25960277516394853 \tValidation loss: 0.8024466583691537\n",
      "Epoch: 59 \tTraining loss: 0.2835868106161555 \tValidation loss: 0.677805983275175\n",
      "Epoch: 60 \tTraining loss: 0.21988125305001935 \tValidation loss: 0.7021831922046841\n",
      "Epoch: 61 \tTraining loss: 0.21097417740772167 \tValidation loss: 0.7033538312464952\n",
      "Epoch: 62 \tTraining loss: 0.20486650040994087 \tValidation loss: 0.692712489720434\n",
      "Epoch: 63 \tTraining loss: 0.1937102132476866 \tValidation loss: 0.6859096764959395\n",
      "Epoch: 64 \tTraining loss: 0.27710622622941933 \tValidation loss: 0.7498731629364193\n",
      "Epoch: 65 \tTraining loss: 0.21792879750952124 \tValidation loss: 0.6438178454432637\n",
      "Epoch: 66 \tTraining loss: 0.19056186165660619 \tValidation loss: 0.7005948112718761\n",
      "Epoch: 67 \tTraining loss: 0.17944823337097962 \tValidation loss: 0.6735764214582741\n",
      "Epoch: 68 \tTraining loss: 0.15399803280519941 \tValidation loss: 0.6683953732810914\n",
      "Epoch: 69 \tTraining loss: 0.27943708350881935 \tValidation loss: 0.7027748669683933\n",
      "Epoch: 70 \tTraining loss: 0.2667800286412239 \tValidation loss: 0.7450477672368288\n",
      "Epoch: 71 \tTraining loss: 0.21972125545764962 \tValidation loss: 0.6632444331794978\n",
      "Epoch: 72 \tTraining loss: 0.16825396964947384 \tValidation loss: 0.7023742945212871\n",
      "Epoch: 73 \tTraining loss: 0.15251095643267035 \tValidation loss: 0.6666916660033166\n",
      "Epoch: 74 \tTraining loss: 0.14151393540514012 \tValidation loss: 0.6934419157169759\n",
      "Epoch: 75 \tTraining loss: 0.20076248054703077 \tValidation loss: 0.7403670535981655\n",
      "Epoch: 76 \tTraining loss: 0.20880068172079821 \tValidation loss: 0.7402532175183296\n",
      "Epoch: 77 \tTraining loss: 0.19576162859797477 \tValidation loss: 0.8645054465346038\n",
      "Epoch: 78 \tTraining loss: 0.32630468557899195 \tValidation loss: 0.7361319723911584\n",
      "Epoch: 79 \tTraining loss: 0.1885984345463415 \tValidation loss: 0.6306955795362592\n",
      "Epoch: 80 \tTraining loss: 0.13529564337804914 \tValidation loss: 0.6163033421523869\n",
      "Epoch: 81 \tTraining loss: 0.11422513764972488 \tValidation loss: 0.6134167022630572\n",
      "Epoch: 82 \tTraining loss: 0.10344749094297488 \tValidation loss: 0.6247622478194534\n",
      "Epoch: 83 \tTraining loss: 0.10458506184319655 \tValidation loss: 0.655727390293032\n",
      "Epoch: 84 \tTraining loss: 0.1268550836419066 \tValidation loss: 0.6452171575278044\n",
      "Epoch: 85 \tTraining loss: 0.11574747135862708 \tValidation loss: 0.6401325856149197\n",
      "Epoch: 86 \tTraining loss: 0.11653478505710761 \tValidation loss: 0.6470638576708734\n",
      "Epoch: 87 \tTraining loss: 0.11471411417859297 \tValidation loss: 0.6649894551932811\n",
      "Epoch: 88 \tTraining loss: 0.11869735560069482 \tValidation loss: 0.6405948796216399\n",
      "Epoch: 89 \tTraining loss: 0.11542230560754736 \tValidation loss: 0.6870713026076555\n",
      "Epoch: 90 \tTraining loss: 0.1417273289586107 \tValidation loss: 0.7038488838355988\n",
      "Epoch: 91 \tTraining loss: 0.21070760618274412 \tValidation loss: 0.8128216195199639\n",
      "Epoch: 92 \tTraining loss: 0.4334602502919733 \tValidation loss: 0.8137910867854953\n",
      "Epoch: 93 \tTraining loss: 0.2009621091807882 \tValidation loss: 0.6779166201781481\n",
      "Epoch: 94 \tTraining loss: 0.11197135468944908 \tValidation loss: 0.6348120230063796\n",
      "Epoch: 95 \tTraining loss: 0.09115812689065933 \tValidation loss: 0.6193928131647408\n",
      "Epoch: 96 \tTraining loss: 0.07919412907523414 \tValidation loss: 0.6363924531266093\n",
      "Epoch: 97 \tTraining loss: 0.07972152180969715 \tValidation loss: 0.6287181960791349\n",
      "Epoch: 98 \tTraining loss: 0.07231598101556301 \tValidation loss: 0.6487623312696814\n",
      "Epoch: 99 \tTraining loss: 0.07502410298523804 \tValidation loss: 0.6066786175779998\n",
      "Epoch: 100 \tTraining loss: 0.07533849176640312 \tValidation loss: 0.630563047323376\n"
     ]
    },
    {
     "name": "stdout",
     "output_type": "stream",
     "text": [
      "Epoch: 101 \tTraining loss: 0.08930844362204274 \tValidation loss: 0.6269698539283126\n",
      "Epoch: 102 \tTraining loss: 0.09901794131845236 \tValidation loss: 0.6150549872405827\n",
      "Epoch: 103 \tTraining loss: 0.0927782342893382 \tValidation loss: 0.6336859683226794\n",
      "Epoch: 104 \tTraining loss: 0.10625001889343064 \tValidation loss: 0.6421887795254588\n",
      "Epoch: 105 \tTraining loss: 0.09243644822388887 \tValidation loss: 0.6548473471216858\n",
      "Epoch: 106 \tTraining loss: 0.10227710018555324 \tValidation loss: 0.6744968648441136\n",
      "Epoch: 107 \tTraining loss: 0.09902595681759219 \tValidation loss: 0.6948331609927118\n",
      "Epoch: 108 \tTraining loss: 0.1666889338257412 \tValidation loss: 0.5981795354932546\n",
      "Epoch: 109 \tTraining loss: 0.10750376181676984 \tValidation loss: 0.6482948302105069\n",
      "Epoch: 110 \tTraining loss: 0.11136555989583333 \tValidation loss: 0.6727894961182028\n",
      "Epoch: 111 \tTraining loss: 0.16065218018367886 \tValidation loss: 0.6523475008644164\n",
      "Epoch: 112 \tTraining loss: 0.10642981545068324 \tValidation loss: 0.609421196449548\n",
      "Epoch: 113 \tTraining loss: 0.07294306440434108 \tValidation loss: 0.6137912902981043\n",
      "Epoch: 114 \tTraining loss: 0.06892844158535202 \tValidation loss: 0.6344198239222169\n",
      "Epoch: 115 \tTraining loss: 0.07128108437173068 \tValidation loss: 0.6396225580293685\n",
      "Epoch: 116 \tTraining loss: 0.08403915272404751 \tValidation loss: 0.6166283465921879\n",
      "Epoch: 117 \tTraining loss: 0.08951148352896174 \tValidation loss: 0.6121734827011823\n",
      "Epoch: 118 \tTraining loss: 0.07107942335307599 \tValidation loss: 0.5944876623246819\n",
      "Epoch: 119 \tTraining loss: 0.05226433091952155 \tValidation loss: 0.611115599302575\n",
      "Epoch: 120 \tTraining loss: 0.047406847048550846 \tValidation loss: 0.5836036893166602\n",
      "Epoch: 121 \tTraining loss: 0.046989243106606106 \tValidation loss: 0.567013368178159\n",
      "Epoch: 122 \tTraining loss: 0.0472892609409367 \tValidation loss: 0.617573112649843\n",
      "Epoch: 123 \tTraining loss: 0.05067083217203617 \tValidation loss: 0.5971539449598641\n",
      "Epoch: 124 \tTraining loss: 0.08315493256784975 \tValidation loss: 0.6473422710411251\n",
      "Epoch: 125 \tTraining loss: 0.25854925184821087 \tValidation loss: 0.6460320648178458\n",
      "Epoch: 126 \tTraining loss: 0.1735869252681732 \tValidation loss: 0.7052606265898794\n",
      "Epoch: 127 \tTraining loss: 0.1329474768259873 \tValidation loss: 0.6157590197212994\n",
      "Epoch: 128 \tTraining loss: 0.07922005437624952 \tValidation loss: 0.615892808828503\n",
      "Epoch: 129 \tTraining loss: 0.06853364997388174 \tValidation loss: 0.643009080644697\n",
      "Epoch: 130 \tTraining loss: 0.05476192886320253 \tValidation loss: 0.6219971202407032\n",
      "Epoch: 131 \tTraining loss: 0.0532269973680377 \tValidation loss: 0.6094256190024316\n",
      "Epoch: 132 \tTraining loss: 0.04282953303928177 \tValidation loss: 0.6115151097625494\n",
      "Epoch: 133 \tTraining loss: 0.07219930447172374 \tValidation loss: 0.7723899646475911\n",
      "Epoch: 134 \tTraining loss: 0.0653384105892231 \tValidation loss: 0.6287270382838324\n",
      "Epoch: 135 \tTraining loss: 0.05810133795874814 \tValidation loss: 0.6493541297502816\n",
      "Epoch: 136 \tTraining loss: 0.08508749032548318 \tValidation loss: 0.7368976945709437\n",
      "Epoch: 137 \tTraining loss: 0.09256854305975139 \tValidation loss: 0.6546256695687771\n",
      "Epoch: 138 \tTraining loss: 0.06995614332146943 \tValidation loss: 0.6394642303604633\n",
      "Epoch: 139 \tTraining loss: 0.0494564893313994 \tValidation loss: 0.6482966585829854\n",
      "Epoch: 140 \tTraining loss: 0.04350589880719781 \tValidation loss: 0.6250994637561962\n",
      "Epoch: 141 \tTraining loss: 0.03340989951044321 \tValidation loss: 0.6287669759523123\n",
      "Epoch: 142 \tTraining loss: 0.03319101675413549 \tValidation loss: 0.6121872231829911\n",
      "Epoch: 143 \tTraining loss: 0.039186861977602044 \tValidation loss: 0.6399063205998391\n",
      "Epoch: 144 \tTraining loss: 0.03681539981160313 \tValidation loss: 0.6122178952209651\n",
      "Epoch: 145 \tTraining loss: 0.029846706533183654 \tValidation loss: 0.6396124805510044\n",
      "Epoch: 146 \tTraining loss: 0.05577289609548946 \tValidation loss: 0.6827259361650795\n",
      "Epoch: 147 \tTraining loss: 0.12469276144169271 \tValidation loss: 0.73176164643839\n",
      "Epoch: 148 \tTraining loss: 0.1180702241572241 \tValidation loss: 0.6616172860004008\n",
      "Epoch: 149 \tTraining loss: 0.13557945194343726 \tValidation loss: 0.7892919010203332\n",
      "Epoch: 150 \tTraining loss: 0.09671941553863386 \tValidation loss: 0.7039996078144759\n",
      "Epoch: 151 \tTraining loss: 0.09889897658489645 \tValidation loss: 0.7669250782672316\n",
      "Epoch: 152 \tTraining loss: 0.2933779602994521 \tValidation loss: 0.7492428784631193\n",
      "Epoch: 153 \tTraining loss: 0.10914824433935186 \tValidation loss: 0.6776893090736121\n",
      "Epoch: 154 \tTraining loss: 0.07085118228880068 \tValidation loss: 0.6608824069937691\n",
      "Epoch: 155 \tTraining loss: 0.05665938540982703 \tValidation loss: 0.631733763338998\n",
      "Epoch: 156 \tTraining loss: 0.03261470043410857 \tValidation loss: 0.6176125171780587\n",
      "Epoch: 157 \tTraining loss: 0.03140824017735819 \tValidation loss: 0.6145117295440287\n",
      "Epoch: 158 \tTraining loss: 0.02438558073869596 \tValidation loss: 0.6242485790140927\n",
      "Epoch: 159 \tTraining loss: 0.02236111811362207 \tValidation loss: 0.6344080601632595\n",
      "Epoch: 160 \tTraining loss: 0.02028260424422721 \tValidation loss: 0.6247470919415354\n",
      "Epoch: 161 \tTraining loss: 0.020714671580741802 \tValidation loss: 0.6203726605512202\n",
      "Epoch: 162 \tTraining loss: 0.022634872000974915 \tValidation loss: 0.6152343587204814\n",
      "Epoch: 163 \tTraining loss: 0.0249413051099206 \tValidation loss: 0.6296041979268193\n",
      "Epoch: 164 \tTraining loss: 0.02767147471041729 \tValidation loss: 0.6241633760370314\n",
      "Epoch: 165 \tTraining loss: 0.029032190230985484 \tValidation loss: 0.6284209226444364\n",
      "Epoch: 166 \tTraining loss: 0.03948641045950353 \tValidation loss: 0.6246617159666493\n",
      "Epoch: 167 \tTraining loss: 0.04543927675811574 \tValidation loss: 0.6010416801460088\n",
      "Epoch: 168 \tTraining loss: 0.042127451612614095 \tValidation loss: 0.6745721748657525\n",
      "Epoch: 169 \tTraining loss: 0.051094526878247656 \tValidation loss: 0.6464053091965616\n",
      "Epoch: 170 \tTraining loss: 0.382349327384339 \tValidation loss: 0.8691928827110678\n",
      "Epoch: 171 \tTraining loss: 0.35679184964547556 \tValidation loss: 0.7261661558412016\n",
      "Epoch: 172 \tTraining loss: 0.16551388906314968 \tValidation loss: 0.687698920276016\n",
      "Epoch: 173 \tTraining loss: 0.09445690803850691 \tValidation loss: 0.627122444617562\n",
      "Epoch: 174 \tTraining loss: 0.07709480303029219 \tValidation loss: 0.6133119920827448\n",
      "Epoch: 175 \tTraining loss: 0.058517796813199914 \tValidation loss: 0.6194489667378366\n",
      "Epoch: 176 \tTraining loss: 0.03361812882435818 \tValidation loss: 0.619535177461803\n",
      "Epoch: 177 \tTraining loss: 0.026534957319187622 \tValidation loss: 0.6156076237093657\n",
      "Epoch: 178 \tTraining loss: 0.02298144408346464 \tValidation loss: 0.6001146305026487\n",
      "Epoch: 179 \tTraining loss: 0.021320890202187002 \tValidation loss: 0.5993303604424\n",
      "Epoch: 180 \tTraining loss: 0.02083099626004696 \tValidation loss: 0.609566197115928\n",
      "Epoch: 181 \tTraining loss: 0.018622904860725004 \tValidation loss: 0.5969892624905333\n",
      "Epoch: 182 \tTraining loss: 0.018486545563985903 \tValidation loss: 0.6150236848555505\n",
      "Epoch: 183 \tTraining loss: 0.03102106792231401 \tValidation loss: 0.5999499431531876\n",
      "Epoch: 184 \tTraining loss: 0.025267893518321215 \tValidation loss: 0.620892432127148\n",
      "Epoch: 185 \tTraining loss: 0.019680105439232043 \tValidation loss: 0.6068123433087022\n",
      "Epoch: 186 \tTraining loss: 0.02013167246400068 \tValidation loss: 0.6085211834684014\n",
      "Epoch: 187 \tTraining loss: 0.024265825833814838 \tValidation loss: 0.6306843097880482\n",
      "Epoch: 188 \tTraining loss: 0.03650650734547525 \tValidation loss: 0.6180748478602618\n",
      "Epoch: 189 \tTraining loss: 0.08093889815111956 \tValidation loss: 0.7746711312746629\n",
      "Epoch: 190 \tTraining loss: 0.19714970335985224 \tValidation loss: 0.6438169006630778\n",
      "Epoch: 191 \tTraining loss: 0.23171808499222 \tValidation loss: 0.7047539762407541\n",
      "Epoch: 192 \tTraining loss: 0.1845524632806579 \tValidation loss: 0.6848818655405193\n",
      "Epoch: 193 \tTraining loss: 0.08150899998843669 \tValidation loss: 0.6168233678489924\n",
      "Epoch: 194 \tTraining loss: 0.03779767496200899 \tValidation loss: 0.6357228192128241\n",
      "Epoch: 195 \tTraining loss: 0.030226910368849835 \tValidation loss: 0.5951816400885582\n",
      "Epoch: 196 \tTraining loss: 0.0254785660856093 \tValidation loss: 0.611168771199882\n",
      "Epoch: 197 \tTraining loss: 0.020241815761352578 \tValidation loss: 0.6051105400919914\n",
      "Epoch: 198 \tTraining loss: 0.01959435233147815 \tValidation loss: 0.6053032513707877\n"
     ]
    },
    {
     "name": "stdout",
     "output_type": "stream",
     "text": [
      "Epoch: 199 \tTraining loss: 0.01698560397683953 \tValidation loss: 0.611278720330447\n",
      "Epoch: 200 \tTraining loss: 0.01808711890519286 \tValidation loss: 0.6070420184638351\n"
     ]
    }
   ],
   "source": [
    "# User-defined hyperparameters\n",
    "input_dim = 2\n",
    "hidden_dim = 256\n",
    "lstm = LSTM(input_dim, hidden_dim).cuda()\n",
    "\n",
    "criterion = nn.MSELoss() # Due to being a regression-like problem we use mean squared error\n",
    "learning_rate = 0.0001\n",
    "optimizer = torch.optim.Adam(lstm.parameters(), lr = learning_rate)\n",
    "\n",
    "# Number of epochs to train for\n",
    "epochs = 200\n",
    "\n",
    "# Store average loss and std for each epoch\n",
    "loss_per_epoch = np.empty((epochs, 1))\n",
    "loss_eval_per_epoch = np.empty((epochs, 1))\n",
    "\n",
    "for epoch in range(epochs):\n",
    "    total_loss = 0\n",
    "    total_eval_loss = 0\n",
    "\n",
    "    # Set in train mode\n",
    "    lstm.train()\n",
    "    \n",
    "    # Train the model\n",
    "    training_iterator = iter(train_dataloader_3_2)\n",
    "    for i in range(len(training_iterator)):\n",
    "        x, y = next(training_iterator)\n",
    "        \n",
    "        # Store the initial and expected trajectories\n",
    "        initial_trajectory = x[0]\n",
    "        expected_trajectory = y[0]\n",
    "        expected_trajectory_len = len(expected_trajectory)\n",
    "        \n",
    "        h_n = torch.randn(1, hidden_dim).type(torch.FloatTensor).cuda()\n",
    "        c_n = torch.randn(1, hidden_dim).type(torch.FloatTensor).cuda()\n",
    "\n",
    "        output, hidden, cell = lstm(initial_trajectory, h_n, c_n)\n",
    "\n",
    "        # Slice unused predictions\n",
    "        output = output[range(expected_trajectory_len)]\n",
    "\n",
    "        # Compute loss\n",
    "        loss = criterion(output, expected_trajectory)\n",
    "\n",
    "        # Backward propagate\n",
    "        optimizer.zero_grad()\n",
    "        loss.backward()\n",
    "        optimizer.step()\n",
    "\n",
    "        total_loss += loss.item()\n",
    "        \n",
    "    # Set in eval mode\n",
    "    lstm.eval()\n",
    "    \n",
    "    # Evaluate the model\n",
    "    validation_iterator = iter(validation_dataloader_3_2)\n",
    "    for i in range(len(validation_iterator)):\n",
    "        x, y = next(validation_iterator)\n",
    "        \n",
    "        # Store the initial and expected trajectories\n",
    "        initial_trajectory = x[0]\n",
    "        expected_trajectory = y[0]\n",
    "        expected_trajectory_len = len(expected_trajectory)\n",
    "        \n",
    "        h_n = torch.randn(1, hidden_dim).type(torch.FloatTensor).cuda()\n",
    "        c_n = torch.randn(1, hidden_dim).type(torch.FloatTensor).cuda()\n",
    "        \n",
    "        with torch.no_grad():\n",
    "            output, hidden, cell = lstm(initial_trajectory, h_n, c_n)\n",
    "        \n",
    "            # Slice unused predictions\n",
    "            output = output[range(expected_trajectory_len)]\n",
    "            \n",
    "            # Compute loss\n",
    "            loss = criterion(output, expected_trajectory)\n",
    "            total_eval_loss += loss.item()\n",
    "        \n",
    "    average_loss = total_loss / len(training_iterator)\n",
    "    average_eval_loss = total_eval_loss / len(validation_iterator)\n",
    "    \n",
    "    # Record for graphing purposes\n",
    "    loss_per_epoch[epoch] = average_loss\n",
    "    loss_eval_per_epoch[epoch] = average_eval_loss\n",
    "    \n",
    "    print('Epoch:', epoch+1, '\\tTraining loss:', average_loss, '\\tValidation loss:', average_eval_loss)"
   ]
  },
  {
   "cell_type": "markdown",
   "id": "c87278a2",
   "metadata": {
    "id": "c87278a2"
   },
   "source": [
    "## Evaluation"
   ]
  },
  {
   "cell_type": "code",
   "execution_count": 14,
   "id": "726d949f",
   "metadata": {},
   "outputs": [
    {
     "data": {
      "image/png": "[encoded data removed]",
      "text/plain": [
       "<Figure size 432x288 with 1 Axes>"
      ]
     },
     "metadata": {
      "needs_background": "light"
     },
     "output_type": "display_data"
    }
   ],
   "source": [
    "# Plot the loss curve\n",
    "plt.figure()\n",
    "plt.plot(range(epochs), loss_per_epoch, \"b-\", label=\"Training loss\")\n",
    "plt.plot(range(epochs), loss_eval_per_epoch, \"g-\", label=\"Validation loss\")\n",
    "plt.legend(loc=\"upper right\")\n",
    "plt.xlabel(\"Epoch\")\n",
    "plt.ylabel(\"Observed loss\")\n",
    "plt.title(\"Model training\")\n",
    "plt.show()"
   ]
  },
  {
   "cell_type": "code",
   "execution_count": 43,
   "id": "3ca43af3",
   "metadata": {},
   "outputs": [
    {
     "name": "stdout",
     "output_type": "stream",
     "text": [
      "Simulation Index:  44\n"
     ]
    },
    {
     "data": {
      "image/png": "[encoded data removed]",
      "text/plain": [
       "<Figure size 432x288 with 1 Axes>"
      ]
     },
     "metadata": {
      "needs_background": "light"
     },
     "output_type": "display_data"
    },
    {
     "data": {
      "image/png": "[encoded data removed]",
      "text/plain": [
       "<Figure size 360x360 with 1 Axes>"
      ]
     },
     "metadata": {
      "needs_background": "light"
     },
     "output_type": "display_data"
    }
   ],
   "source": [
    "# Evaluate accuracy of the model on test set for a random index\n",
    "sim_index = random.randint(0, 99)\n",
    "\n",
    "lstm.eval()\n",
    "\n",
    "# Problematic cases: 6 73 0\n",
    "# 'Near' perfect cases: 99 33 13\n",
    "print('Simulation Index: ', sim_index)\n",
    "\n",
    "# Get a random simulation sample\n",
    "initial_trajectory = simulations_test_3_2[sim_index]\n",
    "expected_trajectory = simulations_continued_test_3_2[sim_index]\n",
    "expected_trajectory_len = len(expected_trajectory)\n",
    "\n",
    "h_n = torch.randn(1, hidden_dim).type(torch.FloatTensor).cuda()\n",
    "c_n = torch.randn(1, hidden_dim).type(torch.FloatTensor).cuda()\n",
    "\n",
    "with torch.no_grad():\n",
    "    output, hidden, cell = lstm(initial_trajectory, h_n, c_n)\n",
    "    output = output[range(expected_trajectory_len)]\n",
    "\n",
    "    average_error = expected_trajectory - output\n",
    "    average_error = average_error.cpu().detach().numpy()\n",
    "\n",
    "# Plot average dispersion of coordinates\n",
    "plt.figure()\n",
    "plt.boxplot(average_error)\n",
    "plt.xlabel(\"Coordinates (1 = x, 2 = y)\")\n",
    "plt.ylabel(\"Observed dispersion\")\n",
    "plt.title(\"Model error on test set\")\n",
    "plt.show()\n",
    "    \n",
    "# Plot trajectory\n",
    "plot_example(initial_trajectory.cpu().detach().numpy(), expected_trajectory.cpu().detach().numpy(), output.cpu().detach().numpy())"
   ]
  },
  {
   "cell_type": "code",
   "execution_count": 84,
   "id": "863cc4eb",
   "metadata": {},
   "outputs": [
    {
     "name": "stdout",
     "output_type": "stream",
     "text": [
      "Simulation Index:  27\n"
     ]
    },
    {
     "data": {
      "image/png": "[encoded data removed]",
      "text/plain": [
       "<Figure size 360x360 with 1 Axes>"
      ]
     },
     "metadata": {
      "needs_background": "light"
     },
     "output_type": "display_data"
    },
    {
     "data": {
      "image/png": "[encoded data removed]",
      "text/plain": [
       "<Figure size 360x360 with 1 Axes>"
      ]
     },
     "metadata": {
      "needs_background": "light"
     },
     "output_type": "display_data"
    }
   ],
   "source": [
    "# Linear baseline extrapolation\n",
    "sim_index = random.randint(0, 99)\n",
    "\n",
    "lstm.eval()\n",
    "\n",
    "print('Simulation Index: ', sim_index)\n",
    "\n",
    "# Get a random simulation sample\n",
    "initial_trajectory = simulations_test_3_2[sim_index]\n",
    "expected_trajectory = simulations_continued_test_3_2[sim_index]\n",
    "expected_trajectory_len = len(expected_trajectory)\n",
    "\n",
    "h_n = torch.randn(1, hidden_dim).type(torch.FloatTensor).cuda()\n",
    "c_n = torch.randn(1, hidden_dim).type(torch.FloatTensor).cuda()\n",
    "\n",
    "with torch.no_grad():\n",
    "    output, hidden, cell = lstm(initial_trajectory, h_n, c_n)\n",
    "    output = output[range(expected_trajectory_len)]\n",
    "\n",
    "    average_error = expected_trajectory - output\n",
    "    average_error = average_error.cpu().detach().numpy()\n",
    "\n",
    "# Get last two datapoints of the initial trajectory\n",
    "second_last_position = initial_trajectory[-2].cpu().detach().numpy()\n",
    "last_position = initial_trajectory[-1].cpu().detach().numpy()\n",
    "data = np.array([list(second_last_position), list(last_position)])\n",
    "\n",
    "# Linear fit (use parameter 1 at the end to indicate linear fit)\n",
    "fit = np.polyfit(data[:,0], data[:,1], 1)\n",
    "line = np.poly1d(fit)\n",
    "\n",
    "points = expected_trajectory[:,0].cpu().detach().numpy()\n",
    "extrapolated_y = line(points)\n",
    "\n",
    "extrapolated_trajectory = np.empty((expected_trajectory_len, 2))\n",
    "for i in range(expected_trajectory_len):\n",
    "    extrapolated_trajectory[i] = [points[i], extrapolated_y[i]]\n",
    "\n",
    "# Plot trajectory\n",
    "plot_example(initial_trajectory.cpu().detach().numpy(), expected_trajectory.cpu().detach().numpy(), output.cpu().detach().numpy())\n",
    "\n",
    "# Plot extrapolation trajectory\n",
    "plot_example(initial_trajectory.cpu().detach().numpy(), expected_trajectory.cpu().detach().numpy(), extrapolated_trajectory)"
   ]
  },
  {
   "cell_type": "code",
   "execution_count": null,
   "id": "6ebcc8aa",
   "metadata": {},
   "outputs": [],
   "source": []
  }
 ],
 "metadata": {
  "colab": {
   "name": "Copy of a3_skeleton.ipynb",
   "provenance": [
    {
     "file_id": "https://github.com/vlamen/tue-deeplearning/blob/main/assignments/assignment_2_3/a3_skeleton.ipynb",
     "timestamp": 1654761435442
    }
   ]
  },
  "kernelspec": {
   "display_name": "Python 3 (ipykernel)",
   "language": "python",
   "name": "python3"
  },
  "language_info": {
   "codemirror_mode": {
    "name": "ipython",
    "version": 3
   },
   "file_extension": ".py",
   "mimetype": "text/x-python",
   "name": "python",
   "nbconvert_exporter": "python",
   "pygments_lexer": "ipython3",
   "version": "3.10.4"
  }
 },
 "nbformat": 4,
 "nbformat_minor": 5
}
