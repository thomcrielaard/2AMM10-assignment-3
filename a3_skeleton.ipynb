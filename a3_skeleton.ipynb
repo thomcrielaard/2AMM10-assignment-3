{
 "cells": [
  {
   "cell_type": "markdown",
   "id": "963690b2",
   "metadata": {
    "id": "963690b2"
   },
   "source": [
    "<a href=\"https://colab.research.google.com/github/vlamen/tue-deeplearning/blob/main/assignments/assignment_2_3/a3_skeleton.ipynb\" target=\"_parent\"><img src=\"https://colab.research.google.com/assets/colab-badge.svg\" alt=\"Open In Colab\"/></a>"
   ]
  },
  {
   "cell_type": "markdown",
   "id": "bd8459f1",
   "metadata": {
    "id": "bd8459f1"
   },
   "source": [
    "# Group Number: 80\n",
    "\n",
    "# Student 1:\n",
    "\n",
    "# Student 2: Tobias Sagis - 1333151\n",
    "\n",
    "# Student 3:"
   ]
  },
  {
   "cell_type": "markdown",
   "id": "dde28458",
   "metadata": {
    "id": "dde28458"
   },
   "source": [
    "# Downloading Data and Preliminaries"
   ]
  },
  {
   "cell_type": "code",
   "execution_count": 1,
   "id": "7d0580a5",
   "metadata": {
    "id": "7d0580a5"
   },
   "outputs": [
    {
     "name": "stderr",
     "output_type": "stream",
     "text": [
      "C:\\Users\\Tobias\\AppData\\Local\\Programs\\Python\\Python310\\lib\\site-packages\\tqdm\\auto.py:22: TqdmWarning: IProgress not found. Please update jupyter and ipywidgets. See https://ipywidgets.readthedocs.io/en/stable/user_install.html\n",
      "  from .autonotebook import tqdm as notebook_tqdm\n"
     ]
    }
   ],
   "source": [
    "import pickle\n",
    "import matplotlib.pyplot as plt\n",
    "import matplotlib\n",
    "import numpy as np\n",
    "import torch\n",
    "from torch import nn\n",
    "\n",
    "from zipfile import ZipFile\n",
    "import requests\n",
    "import io"
   ]
  },
  {
   "cell_type": "code",
   "execution_count": 2,
   "id": "8ce00edc",
   "metadata": {
    "id": "8ce00edc"
   },
   "outputs": [],
   "source": [
    "def load_zip(url):\n",
    "    response = requests.get(url)\n",
    "    response.raise_for_status()\n",
    "    zipf = ZipFile(io.BytesIO(response.content))\n",
    "    return {name: zipf.read(name) for name in zipf.namelist()}\n",
    "\n",
    "def load_pickle(zipfile, fn):\n",
    "    return pickle.load(io.BytesIO(zipfile[fn]))"
   ]
  },
  {
   "cell_type": "code",
   "execution_count": 3,
   "id": "bb77a4be",
   "metadata": {
    "id": "bb77a4be"
   },
   "outputs": [],
   "source": [
    "data = load_zip('https://surfdrive.surf.nl/files/index.php/s/cwqGaS22KXgnXtg/download')\n",
    "\n",
    "    \n",
    "\"\"\"\n",
    "simulation_{train, valid, test} is stored as a list of simulations. \n",
    "Each simulation is a numpy array of size (t, 2): For t timesteps an x and y coordinate of our particle.\n",
    "\"\"\"\n",
    "simulation_train = load_pickle(data, 'data/train/simulation.pickle')  # 3.1 + 3.2\n",
    "simulation_valid = load_pickle(data, 'data/valid/simulation.pickle')  # 3.1 + 3.2\n",
    "simulation_test = load_pickle(data, 'data/test/simulation.pickle')  # 3.1 + 3.2\n",
    "\n",
    "\"\"\"\n",
    "charges_{train, valid, test} is stored as a list of simulation-charges. \n",
    "These charges are stored as numpy arrays of size (3,): One value for each charge.\n",
    "\"\"\"\n",
    "charges_train = load_pickle(data, 'data/train/charges.pickle')  # 3.1\n",
    "charges_valid = load_pickle(data, 'data/valid/charges.pickle')  # 3.1\n",
    "charges_test = load_pickle(data, 'data/test/charges.pickle')  # 3.1\n",
    "\n",
    "\"\"\"\n",
    "simulation_continued_{train, valid, test} is stored as a list of simulations. \n",
    "Each simulation is a numpy array of size (t, 2): For t timesteps an x and y coordinate of our particle.\n",
    "\"\"\"\n",
    "simulation_continued_train = load_pickle(data, 'data/train/simulation_continued.pickle')  # 3.2\n",
    "simulation_continued_valid = load_pickle(data, 'data/valid/simulation_continued.pickle')  # 3.2\n",
    "simulation_continued_test = load_pickle(data, 'data/test/simulation_continued.pickle')  # 3.2\n",
    "\n",
    "\"\"\"\n",
    "Note that the indices are shared throughout the different lists, e.g., for the 4th training simulation:\n",
    "simulation_train[3] contains its initial simulation\n",
    "charges_train[3] contains the charges associated with the simulation\n",
    "simulation_continued_train[3] contains the continuation of the simulation \n",
    "                --> simulation_continued_train[3][0] is the state after simulation_train[3][-1]\n",
    "\"\"\"\n",
    "pass"
   ]
  },
  {
   "cell_type": "code",
   "execution_count": 4,
   "id": "10a3438a",
   "metadata": {
    "id": "10a3438a",
    "outputId": "9288b85b-d961-432d-f6a7-0cb5133bf0b9"
   },
   "outputs": [
    {
     "name": "stdout",
     "output_type": "stream",
     "text": [
      "Overview of no. datapoints:\n",
      "\n",
      "Task 3.1:\n",
      "800 train, 100 validation, 100 test simulations\n",
      "800 train, 100 validation, 100 test charge pairs\n",
      "\n",
      "Task 3.2:\n",
      "Since len(simulation_continued_train) < len(simulation_train), we can only use a subset of initial simulations\n",
      "We cut simulation_train down to the first 150 samples in simulation_train_task32\n",
      "150 train, 100 validation, 100 test simulations\n",
      "150 train, 100 validation, 100 test continuations\n",
      "\n",
      "For task 3.1, use:\n",
      "simulation_train + charges_train\n",
      "simulation_valid + charges_valid\n",
      "simulation_test + charges_test\n",
      "\n",
      "For task 3.2, use:\n",
      "simulation_train_task32 + simulation_continued_train\n",
      "simulation_valid + simulation_continued_valid\n",
      "simulation_test + simulation_continued_test\n",
      "\n"
     ]
    }
   ],
   "source": [
    "print('Overview of no. datapoints:\\n')\n",
    "\n",
    "print('Task 3.1:')\n",
    "print(f'{len(simulation_train)} train, {len(simulation_valid)} validation, {len(simulation_test)} test simulations')\n",
    "print(f'{len(charges_train)} train, {len(charges_valid)} validation, {len(charges_test)} test charge pairs')\n",
    "print()\n",
    "\n",
    "print('Task 3.2:')\n",
    "print('Since len(simulation_continued_train) < len(simulation_train), we can only use a subset of initial simulations')\n",
    "print('We cut simulation_train down to the first 150 samples in simulation_train_task32')\n",
    "simulation_train_task32 = simulation_train[:150]\n",
    "print(f'{len(simulation_train_task32)} train, {len(simulation_valid)} validation, {len(simulation_test)} test simulations')\n",
    "print(f'{len(simulation_continued_train)} train, {len(simulation_continued_valid)} validation, {len(simulation_continued_test)} test continuations')\n",
    "\n",
    "print(f\"\"\"\n",
    "For task 3.1, use:\n",
    "{chr(10).join([\"simulation_{} + charges_{}\".format(t, t) for t in [\"train\", \"valid\", \"test\"]])}\n",
    "\n",
    "For task 3.2, use:\n",
    "{chr(10).join([\"simulation_{} + simulation_continued_{}\".format(*((t[0], t[1]) if isinstance(t, tuple) else (t, t))) for t in [(\"train_task32\", \"train\"), \"valid\", \"test\"]])}\n",
    "\"\"\")\n"
   ]
  },
  {
   "cell_type": "code",
   "execution_count": 5,
   "id": "3cfafdb3",
   "metadata": {
    "id": "3cfafdb3",
    "outputId": "fa8b95f8-c1d2-49f6-e592-1f1623c4fb19"
   },
   "outputs": [
    {
     "name": "stdout",
     "output_type": "stream",
     "text": [
      "Print some shapes:\n",
      "\n",
      "simulation_train[0].shape: (103, 2) -> (t, 2), (x, y) at every t)\n",
      "charges_train[0].shape: (3,) -> charges for the simulation\n",
      "simulation_continued_train[0].shape: (54, 2) -> (t, 2), (x, y) at every t)\n",
      "----\n",
      "\n",
      "simulation_train[1].shape: (97, 2) -> (t, 2), (x, y) at every t)\n",
      "charges_train[1].shape: (3,) -> charges for the simulation\n",
      "simulation_continued_train[1].shape: (45, 2) -> (t, 2), (x, y) at every t)\n",
      "----\n",
      "\n",
      "simulation_train[2].shape: (99, 2) -> (t, 2), (x, y) at every t)\n",
      "charges_train[2].shape: (3,) -> charges for the simulation\n",
      "simulation_continued_train[2].shape: (47, 2) -> (t, 2), (x, y) at every t)\n",
      "----\n",
      "\n"
     ]
    }
   ],
   "source": [
    "print('Print some shapes:\\n')\n",
    "for i in range(3):\n",
    "    print('simulation_train[{}].shape:'.format(i), simulation_train[i].shape, '-> (t, 2), (x, y) at every t)')\n",
    "    print('charges_train[{}].shape:'.format(i), charges_train[i].shape, '-> charges for the simulation')\n",
    "    print('simulation_continued_train[{}].shape:'.format(i), simulation_continued_train[i].shape, '-> (t, 2), (x, y) at every t)')\n",
    "    print('----\\n')"
   ]
  },
  {
   "cell_type": "code",
   "execution_count": 6,
   "id": "f9106543",
   "metadata": {
    "id": "f9106543"
   },
   "outputs": [],
   "source": [
    "def plot_example(x, x_gt=None, x_pred=None, fn=None):\n",
    "    charge_locations = np.array([[-1.53846154, -1.53846154],\n",
    "                                 [ 1.53846154, -1.53846154],\n",
    "                                 [ 0.        ,  1.53846154]])  # charge locations are fixed\n",
    "    fig = plt.figure()\n",
    "    axes = plt.gca()\n",
    "    axes.set_xlim([-5., 5.])\n",
    "    axes.set_ylim([-5., 5.])\n",
    "    cmap = matplotlib.cm.get_cmap('tab20')\n",
    "    plt.plot(x[:, 0], x[:, 1], color=cmap(0))\n",
    "    plt.plot(x[0, 0], x[0, 1], 'd', color=cmap(1))\n",
    "    fig.set_size_inches(5, 5)\n",
    "    for charge in charge_locations:\n",
    "        plt.plot(charge[0], charge[1], 'd', color='black')\n",
    "    if x_gt is not None:\n",
    "        plt.plot(x_gt[:, 0], x_gt[:, 1], color='red', linewidth=.5)\n",
    "    if x_pred is not None:\n",
    "        plt.plot(x_pred[:, 0], x_pred[:, 1], color='green', linestyle='--')\n",
    "    if fn is None:\n",
    "        plt.show()\n",
    "    else:\n",
    "        plt.savefig(fn)"
   ]
  },
  {
   "cell_type": "code",
   "execution_count": 7,
   "id": "d28681a6",
   "metadata": {
    "id": "d28681a6",
    "outputId": "3ade0c3a-0f8d-43ca-e00a-d2c7f6e5f9c8"
   },
   "outputs": [
    {
     "data": {
      "image/png": "[encoded data removed]",
      "text/plain": [
       "<Figure size 360x360 with 1 Axes>"
      ]
     },
     "metadata": {
      "needs_background": "light"
     },
     "output_type": "display_data"
    },
    {
     "name": "stdout",
     "output_type": "stream",
     "text": [
      "Charges are [-0.06289083 -0.6268084  -0.09096019]\n"
     ]
    }
   ],
   "source": [
    "test_idx = np.random.randint(150)\n",
    "plot_example(simulation_train[test_idx], simulation_continued_train[test_idx])\n",
    "print(f'Charges are {charges_train[test_idx]}')"
   ]
  },
  {
   "cell_type": "markdown",
   "id": "883762b1",
   "metadata": {
    "id": "883762b1"
   },
   "source": [
    "# Task 3.1"
   ]
  },
  {
   "cell_type": "markdown",
   "id": "4c1ddabe",
   "metadata": {
    "id": "4c1ddabe"
   },
   "source": [
    "## Data Handling and Preprocessing"
   ]
  },
  {
   "cell_type": "code",
   "execution_count": 8,
   "id": "bd9df856",
   "metadata": {
    "id": "bd9df856"
   },
   "outputs": [],
   "source": [
    "#todo"
   ]
  },
  {
   "cell_type": "code",
   "execution_count": null,
   "id": "7dd9b7c1",
   "metadata": {
    "id": "7dd9b7c1"
   },
   "outputs": [],
   "source": []
  },
  {
   "cell_type": "code",
   "execution_count": null,
   "id": "4ec1e03a",
   "metadata": {
    "id": "4ec1e03a"
   },
   "outputs": [],
   "source": []
  },
  {
   "cell_type": "markdown",
   "id": "cc8853f6",
   "metadata": {
    "id": "cc8853f6"
   },
   "source": [
    "## Model Implementation"
   ]
  },
  {
   "cell_type": "code",
   "execution_count": 9,
   "id": "8794a0cf",
   "metadata": {
    "id": "8794a0cf"
   },
   "outputs": [],
   "source": [
    "#todo"
   ]
  },
  {
   "cell_type": "code",
   "execution_count": null,
   "id": "d62b5aa6",
   "metadata": {
    "id": "d62b5aa6"
   },
   "outputs": [],
   "source": []
  },
  {
   "cell_type": "code",
   "execution_count": null,
   "id": "5192ee18",
   "metadata": {
    "id": "5192ee18"
   },
   "outputs": [],
   "source": []
  },
  {
   "cell_type": "markdown",
   "id": "0e443b7f",
   "metadata": {
    "id": "0e443b7f"
   },
   "source": [
    "## Model Training"
   ]
  },
  {
   "cell_type": "code",
   "execution_count": 10,
   "id": "5a5b0aca",
   "metadata": {
    "id": "5a5b0aca"
   },
   "outputs": [],
   "source": [
    "#todo"
   ]
  },
  {
   "cell_type": "code",
   "execution_count": null,
   "id": "58348edd",
   "metadata": {
    "id": "58348edd"
   },
   "outputs": [],
   "source": []
  },
  {
   "cell_type": "code",
   "execution_count": null,
   "id": "176b3ea3",
   "metadata": {
    "id": "176b3ea3"
   },
   "outputs": [],
   "source": []
  },
  {
   "cell_type": "markdown",
   "id": "da139d5b",
   "metadata": {
    "id": "da139d5b"
   },
   "source": [
    "## Evaluation"
   ]
  },
  {
   "cell_type": "code",
   "execution_count": 11,
   "id": "ebed03ba",
   "metadata": {
    "id": "ebed03ba"
   },
   "outputs": [],
   "source": [
    "#todo"
   ]
  },
  {
   "cell_type": "code",
   "execution_count": null,
   "id": "17af7ec3",
   "metadata": {
    "id": "17af7ec3"
   },
   "outputs": [],
   "source": []
  },
  {
   "cell_type": "code",
   "execution_count": null,
   "id": "43a3422e",
   "metadata": {
    "id": "43a3422e"
   },
   "outputs": [],
   "source": []
  },
  {
   "cell_type": "markdown",
   "id": "9a59808b",
   "metadata": {
    "id": "9a59808b"
   },
   "source": [
    "# Task 3.2"
   ]
  },
  {
   "cell_type": "markdown",
   "id": "f64a855d",
   "metadata": {
    "id": "f64a855d"
   },
   "source": [
    "## Data Handling and Preprocessing"
   ]
  },
  {
   "cell_type": "code",
   "execution_count": 58,
   "id": "5b935865",
   "metadata": {
    "id": "5b935865"
   },
   "outputs": [],
   "source": [
    "def get_particle_tensor_initial_trajectory(sim_id, t):\n",
    "    if torch.cuda.is_available():\n",
    "        if t == None:\n",
    "            return torch.tensor(simulation_train_task32[sim_id]).type(torch.FloatTensor).cuda()\n",
    "        else:\n",
    "            return torch.tensor(simulation_train_task32[sim_id][t]).type(torch.FloatTensor).cuda()\n",
    "    else:\n",
    "        if t == None:\n",
    "            return torch.tensor(simulation_train_task32[sim_id]).type(torch.FloatTensor).cuda()\n",
    "        else:\n",
    "            return torch.tensor(simulation_train_task32[sim_id][t]).type(torch.FloatTensor).cuda()\n",
    "\n",
    "def get_particle_tensor_continuation_trajectory(sim_id, t):\n",
    "    if torch.cuda.is_available():\n",
    "        if t == None:\n",
    "            return torch.tensor(simulation_continued_train[sim_id]).type(torch.FloatTensor).cuda()\n",
    "        else:\n",
    "            return torch.tensor(simulation_continued_train[sim_id][t]).type(torch.FloatTensor).cuda()\n",
    "    else:\n",
    "        if t == None:\n",
    "            return torch.tensor(simulation_continued_train[sim_id]).type(torch.FloatTensor).cuda()\n",
    "        else:\n",
    "            return torch.tensor(simulation_continued_train[sim_id][t]).type(torch.FloatTensor).cuda()\n",
    "\n",
    "def get_particle_tensor_initial_trajectory_val(sim_id, t):\n",
    "    if torch.cuda.is_available():\n",
    "        if t == None:\n",
    "            return torch.tensor(simulation_valid[sim_id]).type(torch.FloatTensor).cuda()\n",
    "        else:\n",
    "            return torch.tensor(simulation_valid[sim_id][t]).type(torch.FloatTensor).cuda()\n",
    "    else:\n",
    "        if t == None:\n",
    "            return torch.tensor(simulation_valid[sim_id]).type(torch.FloatTensor).cuda()\n",
    "        else:\n",
    "            return torch.tensor(simulation_valid[sim_id][t]).type(torch.FloatTensor).cuda()\n",
    "\n",
    "def get_particle_tensor_continuation_trajectory_val(sim_id, t):\n",
    "    if torch.cuda.is_available():\n",
    "        if t == None:\n",
    "            return torch.tensor(simulation_continued_valid[sim_id]).type(torch.FloatTensor).cuda()\n",
    "        else:\n",
    "            return torch.tensor(simulation_continued_valid[sim_id][t]).type(torch.FloatTensor).cuda()\n",
    "    else:\n",
    "        if t == None:\n",
    "            return torch.tensor(simulation_continued_valid[sim_id]).type(torch.FloatTensor).cuda()\n",
    "        else:\n",
    "            return torch.tensor(simulation_continued_valid[sim_id][t]).type(torch.FloatTensor).cuda()\n",
    "    \n",
    "def get_particle_tensor_initial_trajectory_test(sim_id, t):\n",
    "    if torch.cuda.is_available():\n",
    "        if t == None:\n",
    "            return torch.tensor(simulation_test[sim_id]).type(torch.FloatTensor).cuda()\n",
    "        else:\n",
    "            return torch.tensor(simulation_test[sim_id][t]).type(torch.FloatTensor).cuda()\n",
    "    else:\n",
    "        if t == None:\n",
    "            return torch.tensor(simulation_test[sim_id]).type(torch.FloatTensor).cuda()\n",
    "        else:\n",
    "            return torch.tensor(simulation_test[sim_id][t]).type(torch.FloatTensor).cuda()\n",
    "\n",
    "def get_particle_tensor_continuation_trajectory_test(sim_id, t):\n",
    "    if torch.cuda.is_available():\n",
    "        if t == None:\n",
    "            return torch.tensor(simulation_continued_test[sim_id]).type(torch.FloatTensor).cuda()\n",
    "        else:\n",
    "            return torch.tensor(simulation_continued_test[sim_id][t]).type(torch.FloatTensor).cuda()\n",
    "    else:\n",
    "        if t == None:\n",
    "            return torch.tensor(simulation_continued_test[sim_id]).type(torch.FloatTensor).cuda()\n",
    "        else:\n",
    "            return torch.tensor(simulation_continued_test[sim_id][t]).type(torch.FloatTensor).cuda()"
   ]
  },
  {
   "cell_type": "code",
   "execution_count": null,
   "id": "0ec19a8d",
   "metadata": {
    "id": "0ec19a8d"
   },
   "outputs": [],
   "source": []
  },
  {
   "cell_type": "code",
   "execution_count": null,
   "id": "8f189d19",
   "metadata": {
    "id": "8f189d19"
   },
   "outputs": [],
   "source": []
  },
  {
   "cell_type": "markdown",
   "id": "867aabb3",
   "metadata": {
    "id": "867aabb3"
   },
   "source": [
    "## Model Implementation"
   ]
  },
  {
   "cell_type": "code",
   "execution_count": 59,
   "id": "36fe2739",
   "metadata": {
    "id": "36fe2739"
   },
   "outputs": [],
   "source": [
    "class LSTM(nn.Module):\n",
    "    def __init__(self, input_dim, hidden_dim):\n",
    "        super(LSTM, self).__init__()\n",
    "        self.input_dim = input_dim\n",
    "        self.hidden_dim = hidden_dim\n",
    "        \n",
    "        # Define LSTM layer\n",
    "        self.lstm = nn.LSTM(input_size=input_dim, hidden_size=hidden_dim, batch_first=True)\n",
    "        \n",
    "        # One fully connected layer to output \n",
    "        self.fc = nn.Linear(hidden_dim, 120)\n",
    "        \n",
    "    def forward(self, inputs, h_0, c_0):\n",
    "        # Forward propagate\n",
    "        out, (h_n, c_n) = self.lstm(inputs, (h_0, c_0))\n",
    "        \n",
    "        # Reshape before forwarding\n",
    "        output = h_n.view(-1, self.hidden_dim)\n",
    "        \n",
    "        # Forward through dense layers\n",
    "        output = self.fc(output)\n",
    "        \n",
    "        # Resize final shape\n",
    "        output = output.view(60, 2)\n",
    "        \n",
    "        return output, h_n, c_n"
   ]
  },
  {
   "cell_type": "code",
   "execution_count": null,
   "id": "f80b1ca2",
   "metadata": {
    "id": "f80b1ca2"
   },
   "outputs": [],
   "source": []
  },
  {
   "cell_type": "code",
   "execution_count": null,
   "id": "fdbf2800",
   "metadata": {
    "id": "fdbf2800"
   },
   "outputs": [],
   "source": []
  },
  {
   "cell_type": "markdown",
   "id": "826fae3f",
   "metadata": {
    "id": "826fae3f"
   },
   "source": [
    "## Model Training"
   ]
  },
  {
   "cell_type": "code",
   "execution_count": 63,
   "id": "db3fce95",
   "metadata": {
    "id": "db3fce95"
   },
   "outputs": [
    {
     "name": "stdout",
     "output_type": "stream",
     "text": [
      "Epoch: 0 \tTraining loss: 2.9280461730559666 \tValidation loss: 3.1290109157562256\n",
      "Epoch: 1 \tTraining loss: 2.503832255601883 \tValidation loss: 2.7219530180096627\n",
      "Epoch: 2 \tTraining loss: 2.11000585625569 \tValidation loss: 2.49537955313921\n",
      "Epoch: 3 \tTraining loss: 1.8956082207957903 \tValidation loss: 2.340817066580057\n",
      "Epoch: 4 \tTraining loss: 1.7652936031421025 \tValidation loss: 2.126221023797989\n",
      "Epoch: 5 \tTraining loss: 1.66727721636494 \tValidation loss: 2.0124511152505873\n",
      "Epoch: 6 \tTraining loss: 1.5758052898943424 \tValidation loss: 1.903420908153057\n",
      "Epoch: 7 \tTraining loss: 1.4634915131827195 \tValidation loss: 1.7910826119408012\n",
      "Epoch: 8 \tTraining loss: 1.3997414592156807 \tValidation loss: 1.7239427230507136\n",
      "Epoch: 9 \tTraining loss: 1.298956620246172 \tValidation loss: 1.732574625350535\n",
      "Epoch: 10 \tTraining loss: 1.2530397145201762 \tValidation loss: 1.5914587116986514\n",
      "Epoch: 11 \tTraining loss: 1.126309041281541 \tValidation loss: 1.5679166942089795\n",
      "Epoch: 12 \tTraining loss: 1.0437720766787728 \tValidation loss: 1.5289974700659514\n",
      "Epoch: 13 \tTraining loss: 0.9841230669431389 \tValidation loss: 1.4924690836668015\n",
      "Epoch: 14 \tTraining loss: 0.9567355557531119 \tValidation loss: 1.4846960223838688\n",
      "Epoch: 15 \tTraining loss: 0.8883342956503232 \tValidation loss: 1.600775376856327\n",
      "Epoch: 16 \tTraining loss: 0.917009145990014 \tValidation loss: 1.4014827191084622\n",
      "Epoch: 17 \tTraining loss: 0.8246309274683395 \tValidation loss: 1.2801317239925265\n",
      "Epoch: 18 \tTraining loss: 0.7703552121420701 \tValidation loss: 1.3360533916205168\n",
      "Epoch: 19 \tTraining loss: 0.6954399521959325 \tValidation loss: 1.2358277474343777\n",
      "Epoch: 20 \tTraining loss: 0.6448138471568624 \tValidation loss: 1.2359003956243395\n",
      "Epoch: 21 \tTraining loss: 0.6082615433384975 \tValidation loss: 1.217253749743104\n",
      "Epoch: 22 \tTraining loss: 0.5581551646937927 \tValidation loss: 1.1747547839581967\n",
      "Epoch: 23 \tTraining loss: 0.5841852922613422 \tValidation loss: 1.1071930614858865\n",
      "Epoch: 24 \tTraining loss: 0.5623373128846287 \tValidation loss: 1.1710696242004632\n",
      "Epoch: 25 \tTraining loss: 0.5559246202123662 \tValidation loss: 1.1520738248899578\n",
      "Epoch: 26 \tTraining loss: 0.46362556039045255 \tValidation loss: 1.1204058411717415\n",
      "Epoch: 27 \tTraining loss: 0.4395731589446465 \tValidation loss: 1.170466247200966\n",
      "Epoch: 28 \tTraining loss: 0.41863437031085293 \tValidation loss: 1.0865316350385548\n",
      "Epoch: 29 \tTraining loss: 0.4094308468575279 \tValidation loss: 1.0977410920709372\n",
      "Epoch: 30 \tTraining loss: 0.43051511265337467 \tValidation loss: 1.0407195325195788\n",
      "Epoch: 31 \tTraining loss: 0.39616623883446056 \tValidation loss: 0.9266740869730711\n",
      "Epoch: 32 \tTraining loss: 0.37031887541214625 \tValidation loss: 0.9226695560663939\n",
      "Epoch: 33 \tTraining loss: 0.40154414946834244 \tValidation loss: 0.9489437130093574\n",
      "Epoch: 34 \tTraining loss: 0.34828984340031943 \tValidation loss: 0.9635361411143094\n",
      "Epoch: 35 \tTraining loss: 0.3242330113550027 \tValidation loss: 0.8437959057092667\n",
      "Epoch: 36 \tTraining loss: 0.32002365082502365 \tValidation loss: 0.8741532594710588\n",
      "Epoch: 37 \tTraining loss: 0.3815846443548799 \tValidation loss: 0.9258754973113537\n",
      "Epoch: 38 \tTraining loss: 0.3436328352491061 \tValidation loss: 0.8538446500152349\n",
      "Epoch: 39 \tTraining loss: 0.31140937518328426 \tValidation loss: 0.7990194661356509\n",
      "Epoch: 40 \tTraining loss: 0.27315071964015564 \tValidation loss: 0.83481400385499\n",
      "Epoch: 41 \tTraining loss: 0.2704822177439928 \tValidation loss: 0.7698757149651647\n",
      "Epoch: 42 \tTraining loss: 0.43823339259872834 \tValidation loss: 1.1970312720909715\n",
      "Epoch: 43 \tTraining loss: 0.3643189003908386 \tValidation loss: 0.7705710120871663\n",
      "Epoch: 44 \tTraining loss: 0.27000511072576044 \tValidation loss: 0.7351258541829884\n",
      "Epoch: 45 \tTraining loss: 0.2472525291951994 \tValidation loss: 0.806452673226595\n",
      "Epoch: 46 \tTraining loss: 0.24635480197146534 \tValidation loss: 0.7891297798231244\n",
      "Epoch: 47 \tTraining loss: 0.29692456680039564 \tValidation loss: 0.8812122722715139\n",
      "Epoch: 48 \tTraining loss: 0.2246060377235214 \tValidation loss: 0.7866040405072272\n",
      "Epoch: 49 \tTraining loss: 0.22246954283366602 \tValidation loss: 0.8795567313022912\n",
      "Epoch: 50 \tTraining loss: 0.22077477551996708 \tValidation loss: 0.8562500982359051\n",
      "Epoch: 51 \tTraining loss: 0.23140537062038977 \tValidation loss: 0.8236847214773297\n",
      "Epoch: 52 \tTraining loss: 0.2358554724790156 \tValidation loss: 0.9269190059229732\n",
      "Epoch: 53 \tTraining loss: 0.22754404559731484 \tValidation loss: 0.8782059388235212\n",
      "Epoch: 54 \tTraining loss: 0.313483205512166 \tValidation loss: 0.9197170746698976\n",
      "Epoch: 55 \tTraining loss: 0.2954095158353448 \tValidation loss: 0.8119702395610511\n",
      "Epoch: 56 \tTraining loss: 0.2555261195388933 \tValidation loss: 0.7907159285619855\n",
      "Epoch: 57 \tTraining loss: 0.22137475210552415 \tValidation loss: 0.8361970252171159\n",
      "Epoch: 58 \tTraining loss: 0.24386801540851594 \tValidation loss: 0.7988341427966952\n",
      "Epoch: 59 \tTraining loss: 0.38574947946394483 \tValidation loss: 0.858442160859704\n",
      "Epoch: 60 \tTraining loss: 0.2508666203978161 \tValidation loss: 0.7508408419415354\n",
      "Epoch: 61 \tTraining loss: 0.2045068167274197 \tValidation loss: 0.800479197241366\n",
      "Epoch: 62 \tTraining loss: 0.18435019915923476 \tValidation loss: 0.7728589694015682\n",
      "Epoch: 63 \tTraining loss: 0.1821006046483914 \tValidation loss: 0.7456805405393243\n",
      "Epoch: 64 \tTraining loss: 0.1747044058640798 \tValidation loss: 0.7880828959681093\n",
      "Epoch: 65 \tTraining loss: 0.1650676973971228 \tValidation loss: 0.7739963137917221\n",
      "Epoch: 66 \tTraining loss: 0.167240460490187 \tValidation loss: 0.8018718912638724\n",
      "Epoch: 67 \tTraining loss: 0.16931683365566036 \tValidation loss: 0.8671019064821303\n",
      "Epoch: 68 \tTraining loss: 0.19298947464364272 \tValidation loss: 0.7942040693573653\n",
      "Epoch: 69 \tTraining loss: 0.1688022175244987 \tValidation loss: 0.7947441603057086\n",
      "Epoch: 70 \tTraining loss: 0.1584555296165248 \tValidation loss: 0.7861640012171119\n",
      "Epoch: 71 \tTraining loss: 0.16700080163776876 \tValidation loss: 0.7891437860019505\n",
      "Epoch: 72 \tTraining loss: 0.2103163727062444 \tValidation loss: 0.8228558016568422\n",
      "Epoch: 73 \tTraining loss: 0.29338041627158723 \tValidation loss: 0.8218778194859624\n",
      "Epoch: 74 \tTraining loss: 0.2896623794051508 \tValidation loss: 0.7898668114095926\n",
      "Epoch: 75 \tTraining loss: 0.18798226251577338 \tValidation loss: 0.7756206095591187\n",
      "Epoch: 76 \tTraining loss: 0.16820204143722853 \tValidation loss: 0.7901412194408476\n",
      "Epoch: 77 \tTraining loss: 0.13541383922720948 \tValidation loss: 0.7767664696648717\n",
      "Epoch: 78 \tTraining loss: 0.12363924469488362 \tValidation loss: 0.756084367595613\n",
      "Epoch: 79 \tTraining loss: 0.13259635314655802 \tValidation loss: 0.7895257021300495\n",
      "Epoch: 80 \tTraining loss: 0.15589528697232405 \tValidation loss: 0.7836367923766374\n",
      "Epoch: 81 \tTraining loss: 0.14260131179665525 \tValidation loss: 0.749494407903403\n",
      "Epoch: 82 \tTraining loss: 0.13792437850497663 \tValidation loss: 0.7538339184038341\n",
      "Epoch: 83 \tTraining loss: 0.16509525200662514 \tValidation loss: 0.7559294341877103\n",
      "Epoch: 84 \tTraining loss: 0.15451280071710546 \tValidation loss: 0.7824035792611539\n",
      "Epoch: 85 \tTraining loss: 0.12885911021692056 \tValidation loss: 0.7585003689303994\n",
      "Epoch: 86 \tTraining loss: 0.1312048527567337 \tValidation loss: 0.7369445447996259\n",
      "Epoch: 87 \tTraining loss: 0.16693554755921164 \tValidation loss: 0.7799734288454055\n",
      "Epoch: 88 \tTraining loss: 0.13193859017143647 \tValidation loss: 0.7951267817616463\n",
      "Epoch: 89 \tTraining loss: 0.16053423342605433 \tValidation loss: 0.8634739739634096\n",
      "Epoch: 90 \tTraining loss: 0.1531881309238573 \tValidation loss: 0.7310366089642047\n",
      "Epoch: 91 \tTraining loss: 0.21209895335137843 \tValidation loss: 0.9493613862246275\n",
      "Epoch: 92 \tTraining loss: 0.18629506192790965 \tValidation loss: 0.7988132352940738\n",
      "Epoch: 93 \tTraining loss: 0.1399171184996764 \tValidation loss: 0.7552338463068008\n",
      "Epoch: 94 \tTraining loss: 0.11511768674477935 \tValidation loss: 0.7174734528921545\n",
      "Epoch: 95 \tTraining loss: 0.11126462714125712 \tValidation loss: 0.710946699148044\n",
      "Epoch: 96 \tTraining loss: 0.09845095725730062 \tValidation loss: 0.6878973214514553\n",
      "Epoch: 97 \tTraining loss: 0.08706470772313575 \tValidation loss: 0.7168007573485374\n",
      "Epoch: 98 \tTraining loss: 0.08585785991201798 \tValidation loss: 0.7111655394919216\n",
      "Epoch: 99 \tTraining loss: 0.08527831217894952 \tValidation loss: 0.720159425213933\n"
     ]
    },
    {
     "name": "stdout",
     "output_type": "stream",
     "text": [
      "Epoch: 100 \tTraining loss: 0.08359009164385497 \tValidation loss: 0.7051531136408449\n",
      "Epoch: 101 \tTraining loss: 0.13840446264793477 \tValidation loss: 1.1791808863729238\n",
      "Epoch: 102 \tTraining loss: 0.5133065463944028 \tValidation loss: 0.924306707046926\n",
      "Epoch: 103 \tTraining loss: 0.4158995752315968 \tValidation loss: 1.0939653165638448\n",
      "Epoch: 104 \tTraining loss: 0.27014722851105033 \tValidation loss: 0.7199296107515692\n",
      "Epoch: 105 \tTraining loss: 0.18599551864589253 \tValidation loss: 0.8035024165548385\n",
      "Epoch: 106 \tTraining loss: 0.12729047545542319 \tValidation loss: 0.741657849792391\n",
      "Epoch: 107 \tTraining loss: 0.0951665743254125 \tValidation loss: 0.738967072237283\n",
      "Epoch: 108 \tTraining loss: 0.08549280219090481 \tValidation loss: 0.7209091402031481\n",
      "Epoch: 109 \tTraining loss: 0.07776904332761964 \tValidation loss: 0.7075906717777252\n",
      "Epoch: 110 \tTraining loss: 0.07801869348933299 \tValidation loss: 0.7411228412296623\n",
      "Epoch: 111 \tTraining loss: 0.07454603768574695 \tValidation loss: 0.7830604512430728\n",
      "Epoch: 112 \tTraining loss: 0.07880444925278425 \tValidation loss: 0.7380649854242801\n",
      "Epoch: 113 \tTraining loss: 0.07014606704624991 \tValidation loss: 0.7106901608128101\n",
      "Epoch: 114 \tTraining loss: 0.08361872342104713 \tValidation loss: 0.753083756165579\n",
      "Epoch: 115 \tTraining loss: 0.08491121350477139 \tValidation loss: 0.7432011119090021\n",
      "Epoch: 116 \tTraining loss: 0.06712462930629651 \tValidation loss: 0.6998686652816832\n",
      "Epoch: 117 \tTraining loss: 0.12600899854054054 \tValidation loss: 0.7608584686182439\n",
      "Epoch: 118 \tTraining loss: 0.11824959648773074 \tValidation loss: 0.7675951392203569\n",
      "Epoch: 119 \tTraining loss: 0.12502635155804456 \tValidation loss: 0.7050892166886479\n",
      "Epoch: 120 \tTraining loss: 0.084093138105236 \tValidation loss: 0.708183818794787\n",
      "Epoch: 121 \tTraining loss: 0.08029817446445425 \tValidation loss: 0.6966476189531385\n",
      "Epoch: 122 \tTraining loss: 0.06806973193772137 \tValidation loss: 0.6578590134344995\n",
      "Epoch: 123 \tTraining loss: 0.06756777492972711 \tValidation loss: 0.7045241005159915\n",
      "Epoch: 124 \tTraining loss: 0.06615339500519136 \tValidation loss: 0.718166377954185\n",
      "Epoch: 125 \tTraining loss: 0.0899103228095919 \tValidation loss: 0.8451094548404217\n",
      "Epoch: 126 \tTraining loss: 0.2064150296524167 \tValidation loss: 0.7629462762176991\n",
      "Epoch: 127 \tTraining loss: 0.14802056076625983 \tValidation loss: 0.7341470664739609\n",
      "Epoch: 128 \tTraining loss: 0.11597558257480463 \tValidation loss: 0.7055199440009892\n",
      "Epoch: 129 \tTraining loss: 0.10255554453780254 \tValidation loss: 0.7457468812167645\n",
      "Epoch: 130 \tTraining loss: 0.13474989482512076 \tValidation loss: 0.707830274309963\n",
      "Epoch: 131 \tTraining loss: 0.08965553474612534 \tValidation loss: 0.7238832732569427\n",
      "Epoch: 132 \tTraining loss: 0.06607065187301486 \tValidation loss: 0.695487712547183\n",
      "Epoch: 133 \tTraining loss: 0.0540425868704915 \tValidation loss: 0.690557882161811\n",
      "Epoch: 134 \tTraining loss: 0.05045158188790083 \tValidation loss: 0.6969791106134653\n",
      "Epoch: 135 \tTraining loss: 0.045308991394316156 \tValidation loss: 0.6891568293236197\n",
      "Epoch: 136 \tTraining loss: 0.044327783264840645 \tValidation loss: 0.6893260322324931\n",
      "Epoch: 137 \tTraining loss: 0.04901552682432036 \tValidation loss: 0.7311157914530486\n",
      "Epoch: 138 \tTraining loss: 0.06486642095415543 \tValidation loss: 0.6690025751292705\n",
      "Epoch: 139 \tTraining loss: 0.049188033286482094 \tValidation loss: 0.6835434857010841\n",
      "Epoch: 140 \tTraining loss: 0.05736681687335173 \tValidation loss: 0.7063733668811619\n",
      "Epoch: 141 \tTraining loss: 0.08031269546287755 \tValidation loss: 0.6737683254200966\n",
      "Epoch: 142 \tTraining loss: 0.1485326859013488 \tValidation loss: 0.7400926442444324\n",
      "Epoch: 143 \tTraining loss: 0.29170742178956666 \tValidation loss: 0.7356893246248365\n",
      "Epoch: 144 \tTraining loss: 0.27723458781217536 \tValidation loss: 0.8503856031410396\n",
      "Epoch: 145 \tTraining loss: 0.26646783637503785 \tValidation loss: 0.722251990865916\n",
      "Epoch: 146 \tTraining loss: 0.2081368783271561 \tValidation loss: 0.7232720165140927\n",
      "Epoch: 147 \tTraining loss: 0.14758711964512863 \tValidation loss: 0.6803043063357472\n",
      "Epoch: 148 \tTraining loss: 0.15372182987009486 \tValidation loss: 0.6723359629511834\n",
      "Epoch: 149 \tTraining loss: 0.09543733728428681 \tValidation loss: 0.6729506527353079\n",
      "Epoch: 150 \tTraining loss: 0.0643397052710255 \tValidation loss: 0.6541218175925314\n",
      "Epoch: 151 \tTraining loss: 0.05912330959613125 \tValidation loss: 0.6871130384877324\n",
      "Epoch: 152 \tTraining loss: 0.058976886564244824 \tValidation loss: 0.634256141167134\n",
      "Epoch: 153 \tTraining loss: 0.05179876048117876 \tValidation loss: 0.6612776796706021\n",
      "Epoch: 154 \tTraining loss: 0.04434754079518219 \tValidation loss: 0.6235904943943024\n",
      "Epoch: 155 \tTraining loss: 0.038576835713659725 \tValidation loss: 0.6270423549599946\n",
      "Epoch: 156 \tTraining loss: 0.03863298537985732 \tValidation loss: 0.6411731441691518\n",
      "Epoch: 157 \tTraining loss: 0.03651653815681736 \tValidation loss: 0.6311470533628016\n",
      "Epoch: 158 \tTraining loss: 0.038510066682162385 \tValidation loss: 0.6220941227301955\n",
      "Epoch: 159 \tTraining loss: 0.049721270132188994 \tValidation loss: 0.666349424412474\n",
      "Epoch: 160 \tTraining loss: 0.04734393808369835 \tValidation loss: 0.6268790677562356\n",
      "Epoch: 161 \tTraining loss: 0.06414682539645583 \tValidation loss: 0.7265107467398048\n",
      "Epoch: 162 \tTraining loss: 0.10626019115249316 \tValidation loss: 0.7400308165885509\n",
      "Epoch: 163 \tTraining loss: 0.13233772861771287 \tValidation loss: 0.6951195704191924\n",
      "Epoch: 164 \tTraining loss: 0.12853514219323794 \tValidation loss: 0.6462913465872407\n",
      "Epoch: 165 \tTraining loss: 0.13826850074653824 \tValidation loss: 0.6799779861047864\n",
      "Epoch: 166 \tTraining loss: 0.060296472953632475 \tValidation loss: 0.6347967027500272\n",
      "Epoch: 167 \tTraining loss: 0.04334756654376785 \tValidation loss: 0.629742306638509\n",
      "Epoch: 168 \tTraining loss: 0.03905510199877123 \tValidation loss: 0.6170017606951297\n",
      "Epoch: 169 \tTraining loss: 0.03507322747725993 \tValidation loss: 0.6379903218150139\n",
      "Epoch: 170 \tTraining loss: 0.0340818403288722 \tValidation loss: 0.6236242925934493\n",
      "Epoch: 171 \tTraining loss: 0.03149761415397127 \tValidation loss: 0.6505286804959178\n",
      "Epoch: 172 \tTraining loss: 0.029881709528466065 \tValidation loss: 0.6253677907213568\n",
      "Epoch: 173 \tTraining loss: 0.030028083400490384 \tValidation loss: 0.6498465429153293\n",
      "Epoch: 174 \tTraining loss: 0.03269650294290235 \tValidation loss: 0.6326086388528347\n",
      "Epoch: 175 \tTraining loss: 0.046187320169992746 \tValidation loss: 0.6467573795467615\n",
      "Epoch: 176 \tTraining loss: 0.041585056946302455 \tValidation loss: 0.6799609705433249\n",
      "Epoch: 177 \tTraining loss: 0.041882120793064435 \tValidation loss: 0.6464218514040112\n",
      "Epoch: 178 \tTraining loss: 0.055044216557095446 \tValidation loss: 0.7169282357022166\n",
      "Epoch: 179 \tTraining loss: 0.04841246554007133 \tValidation loss: 0.6368834452424198\n",
      "Epoch: 180 \tTraining loss: 0.04303296588826924 \tValidation loss: 0.7162911041080952\n",
      "Epoch: 181 \tTraining loss: 0.03692550856930514 \tValidation loss: 0.6660301114246249\n",
      "Epoch: 182 \tTraining loss: 0.045118931404625376 \tValidation loss: 0.6644340139627457\n",
      "Epoch: 183 \tTraining loss: 0.11619721550494433 \tValidation loss: 0.7025167325977236\n",
      "Epoch: 184 \tTraining loss: 0.204248606186981 \tValidation loss: 0.7461021959595382\n",
      "Epoch: 185 \tTraining loss: 0.14808096499492726 \tValidation loss: 0.687341132806614\n",
      "Epoch: 186 \tTraining loss: 0.06588795288776358 \tValidation loss: 0.6863870721682906\n",
      "Epoch: 187 \tTraining loss: 0.03672667972588291 \tValidation loss: 0.6646561701409519\n",
      "Epoch: 188 \tTraining loss: 0.028270485037937762 \tValidation loss: 0.6584566796757281\n",
      "Epoch: 189 \tTraining loss: 0.02362952487077564 \tValidation loss: 0.6585161279141903\n",
      "Epoch: 190 \tTraining loss: 0.022269268905123075 \tValidation loss: 0.6483664366230368\n",
      "Epoch: 191 \tTraining loss: 0.021192528327616554 \tValidation loss: 0.6368802471458912\n",
      "Epoch: 192 \tTraining loss: 0.019260385523860654 \tValidation loss: 0.6485456819832325\n",
      "Epoch: 193 \tTraining loss: 0.019146791588670265 \tValidation loss: 0.6423186154477298\n",
      "Epoch: 194 \tTraining loss: 0.021605714958471557 \tValidation loss: 0.6686698787659406\n",
      "Epoch: 195 \tTraining loss: 0.04884518824052066 \tValidation loss: 0.8611146530881524\n",
      "Epoch: 196 \tTraining loss: 0.22202914973100027 \tValidation loss: 0.8808868045546114\n",
      "Epoch: 197 \tTraining loss: 0.37791810698186357 \tValidation loss: 0.7809699764102698\n"
     ]
    },
    {
     "name": "stdout",
     "output_type": "stream",
     "text": [
      "Epoch: 198 \tTraining loss: 0.295937155559659 \tValidation loss: 0.8187087476626038\n",
      "Epoch: 199 \tTraining loss: 0.15828297631194194 \tValidation loss: 0.6910855666268617\n"
     ]
    }
   ],
   "source": [
    "# User-defined hyperparameters\n",
    "input_dim = 2\n",
    "hidden_dim = 256 # higher\n",
    "lstm = LSTM(input_dim, hidden_dim).cuda()\n",
    "\n",
    "# Training the model\n",
    "criterion = nn.MSELoss() # Due to being a regression-like problem we use mean squared error\n",
    "learning_rate = 0.0001\n",
    "optimizer = torch.optim.Adam(lstm.parameters(), lr = learning_rate)\n",
    "\n",
    "# Number of epochs to train for\n",
    "epochs = 200\n",
    "\n",
    "# Store average loss and std for each epoch\n",
    "lossPerEpoch = np.empty((epochs, 1))\n",
    "lossEvalPerEpoch = np.empty((epochs, 1))\n",
    "errorPerEpoch = np.empty((epochs, 2))\n",
    "\n",
    "for epoch in range(epochs):\n",
    "    total_loss = 0\n",
    "    total_eval_loss = 0\n",
    "    differences = 0\n",
    "\n",
    "    # Set in train mode\n",
    "    lstm.train()\n",
    "    \n",
    "    # Train the model\n",
    "    for i in range(150):\n",
    "        # Get the initial trajectory\n",
    "        initial_trajectory = get_particle_tensor_initial_trajectory(i, None)\n",
    "        \n",
    "        # Get the expected trajectory\n",
    "        expected_trajectory = get_particle_tensor_continuation_trajectory(i, None)\n",
    "        expected_trajectory_len = len(expected_trajectory)\n",
    "        \n",
    "        h_n = torch.randn(1, hidden_dim).type(torch.FloatTensor).cuda()\n",
    "        c_n = torch.randn(1, hidden_dim).type(torch.FloatTensor).cuda()\n",
    "        \n",
    "        output, hidden, cell = lstm(initial_trajectory, h_n, c_n)\n",
    "        \n",
    "        # Slice unused predictions\n",
    "        output = output[range(expected_trajectory_len)]\n",
    "        \n",
    "        # Compute loss\n",
    "        loss = criterion(output, expected_trajectory)\n",
    "\n",
    "        # Backward propagate\n",
    "        optimizer.zero_grad()\n",
    "        loss.backward()\n",
    "        optimizer.step()\n",
    "\n",
    "        total_loss += loss.item()\n",
    "        \n",
    "    # Set in eval mode\n",
    "    lstm.eval()\n",
    "    \n",
    "    # Evaluate the model\n",
    "    for i in range(100):\n",
    "        # Get the initial trajectory\n",
    "        initial_trajectory = get_particle_tensor_initial_trajectory_val(i, None)\n",
    "        \n",
    "        # Get the expected trajectory\n",
    "        expected_trajectory = get_particle_tensor_continuation_trajectory_val(i, None)\n",
    "        expected_trajectory_len = len(expected_trajectory)\n",
    "        \n",
    "        h_n = torch.randn(1, hidden_dim).type(torch.FloatTensor).cuda()\n",
    "        c_n = torch.randn(1, hidden_dim).type(torch.FloatTensor).cuda()\n",
    "        \n",
    "        with torch.no_grad():\n",
    "            output, hidden, cell = lstm(initial_trajectory, h_n, c_n)\n",
    "        \n",
    "            # Slice unused predictions\n",
    "            output = output[range(expected_trajectory_len)]\n",
    "            \n",
    "            # Compute loss\n",
    "            loss = criterion(output, expected_trajectory)\n",
    "            total_eval_loss += loss.item()\n",
    "        \n",
    "        \n",
    "    average_loss = total_loss / 150\n",
    "    average_eval_loss = total_eval_loss / 100\n",
    "    \n",
    "    # Record for graphing purposes\n",
    "    lossPerEpoch[epoch] = average_loss\n",
    "    lossEvalPerEpoch[epoch] = average_eval_loss\n",
    "    \n",
    "    print('Epoch:', epoch, '\\tTraining loss:', average_loss, '\\tValidation loss:', average_eval_loss)"
   ]
  },
  {
   "cell_type": "code",
   "execution_count": null,
   "id": "41ddb47d",
   "metadata": {
    "id": "41ddb47d"
   },
   "outputs": [],
   "source": []
  },
  {
   "cell_type": "code",
   "execution_count": null,
   "id": "4ee069fc",
   "metadata": {
    "id": "4ee069fc"
   },
   "outputs": [],
   "source": []
  },
  {
   "cell_type": "markdown",
   "id": "c87278a2",
   "metadata": {
    "id": "c87278a2"
   },
   "source": [
    "## Evaluation"
   ]
  },
  {
   "cell_type": "code",
   "execution_count": 64,
   "id": "c710f272",
   "metadata": {},
   "outputs": [
    {
     "data": {
      "image/png": "[encoded data removed]",
      "text/plain": [
       "<Figure size 432x288 with 1 Axes>"
      ]
     },
     "metadata": {
      "needs_background": "light"
     },
     "output_type": "display_data"
    }
   ],
   "source": [
    "# Plot the loss curve\n",
    "plt.figure()\n",
    "plt.plot(range(epochs), lossPerEpoch, \"b-\", label=\"Training loss\")\n",
    "plt.plot(range(epochs), lossEvalPerEpoch, \"g-\", label=\"Validation loss\")\n",
    "plt.legend(loc=\"upper right\")\n",
    "plt.xlabel(\"Epoch\")\n",
    "plt.ylabel(\"Observed loss\")\n",
    "plt.title(\"Model training\")\n",
    "plt.show()"
   ]
  },
  {
   "cell_type": "code",
   "execution_count": null,
   "id": "d4cd7395",
   "metadata": {},
   "outputs": [],
   "source": [
    "# Evaluate accuracy of the model\n"
   ]
  },
  {
   "cell_type": "code",
   "execution_count": 81,
   "id": "2cbb6137",
   "metadata": {
    "id": "2cbb6137"
   },
   "outputs": [
    {
     "data": {
      "image/png": "[encoded data removed]",
      "text/plain": [
       "<Figure size 360x360 with 1 Axes>"
      ]
     },
     "metadata": {
      "needs_background": "light"
     },
     "output_type": "display_data"
    }
   ],
   "source": [
    "# Check for a single random experiment\n",
    "import random\n",
    "\n",
    "sim_index = random.randint(0, 99)\n",
    "initial_traj = get_particle_tensor_initial_trajectory_test(sim_index, None)\n",
    "expected_traj = get_particle_tensor_continuation_trajectory_test(sim_index, None)\n",
    "expected_traj_len = len(expected_traj)\n",
    "\n",
    "# Get last position as hidden layer(weight)\n",
    "h_n = torch.randn(1, hidden_dim).type(torch.FloatTensor).cuda()\n",
    "c_n = torch.randn(1, hidden_dim).type(torch.FloatTensor).cuda()\n",
    "\n",
    "output, hidden, cell = lstm(initial_traj, h_n, c_n)\n",
    "\n",
    "# Slice unused predictions\n",
    "output = output[range(expected_traj_len)]\n",
    "\n",
    "# Plot the results\n",
    "plot_example(initial_traj.cpu().detach().numpy(), expected_traj.cpu().detach().numpy(), output.cpu().detach().numpy())"
   ]
  }
 ],
 "metadata": {
  "colab": {
   "name": "Copy of a3_skeleton.ipynb",
   "provenance": [
    {
     "file_id": "https://github.com/vlamen/tue-deeplearning/blob/main/assignments/assignment_2_3/a3_skeleton.ipynb",
     "timestamp": 1654761435442
    }
   ]
  },
  "kernelspec": {
   "display_name": "Python 3 (ipykernel)",
   "language": "python",
   "name": "python3"
  },
  "language_info": {
   "codemirror_mode": {
    "name": "ipython",
    "version": 3
   },
   "file_extension": ".py",
   "mimetype": "text/x-python",
   "name": "python",
   "nbconvert_exporter": "python",
   "pygments_lexer": "ipython3",
   "version": "3.10.4"
  }
 },
 "nbformat": 4,
 "nbformat_minor": 5
}
