{
 "cells": [
  {
   "cell_type": "markdown",
   "id": "963690b2",
   "metadata": {
    "id": "963690b2"
   },
   "source": [
    "<a href=\"https://colab.research.google.com/github/vlamen/tue-deeplearning/blob/main/assignments/assignment_2_3/a3_skeleton.ipynb\" target=\"_parent\"><img src=\"https://colab.research.google.com/assets/colab-badge.svg\" alt=\"Open In Colab\"/></a>"
   ]
  },
  {
   "cell_type": "markdown",
   "id": "bd8459f1",
   "metadata": {
    "id": "bd8459f1"
   },
   "source": [
    "# Group Number:\n",
    "\n",
    "# Student 1:\n",
    "\n",
    "# Student 2:\n",
    "\n",
    "# Student 3:"
   ]
  },
  {
   "cell_type": "markdown",
   "id": "dde28458",
   "metadata": {
    "id": "dde28458"
   },
   "source": [
    "# Downloading Data and Preliminaries"
   ]
  },
  {
   "cell_type": "code",
   "execution_count": 1,
   "id": "7d0580a5",
   "metadata": {
    "id": "7d0580a5"
   },
   "outputs": [
    {
     "name": "stderr",
     "output_type": "stream",
     "text": [
      "C:\\Users\\Tobias\\AppData\\Local\\Programs\\Python\\Python310\\lib\\site-packages\\tqdm\\auto.py:22: TqdmWarning: IProgress not found. Please update jupyter and ipywidgets. See https://ipywidgets.readthedocs.io/en/stable/user_install.html\n",
      "  from .autonotebook import tqdm as notebook_tqdm\n"
     ]
    }
   ],
   "source": [
    "import pickle\n",
    "import matplotlib.pyplot as plt\n",
    "import matplotlib\n",
    "import numpy as np\n",
    "import torch\n",
    "from torch import nn\n",
    "\n",
    "from zipfile import ZipFile\n",
    "import requests\n",
    "import io"
   ]
  },
  {
   "cell_type": "code",
   "execution_count": 2,
   "id": "8ce00edc",
   "metadata": {
    "id": "8ce00edc"
   },
   "outputs": [],
   "source": [
    "def load_zip(url):\n",
    "    response = requests.get(url)\n",
    "    response.raise_for_status()\n",
    "    zipf = ZipFile(io.BytesIO(response.content))\n",
    "    return {name: zipf.read(name) for name in zipf.namelist()}\n",
    "\n",
    "def load_pickle(zipfile, fn):\n",
    "    return pickle.load(io.BytesIO(zipfile[fn]))"
   ]
  },
  {
   "cell_type": "code",
   "execution_count": 3,
   "id": "bb77a4be",
   "metadata": {
    "id": "bb77a4be"
   },
   "outputs": [],
   "source": [
    "data = load_zip('https://surfdrive.surf.nl/files/index.php/s/cwqGaS22KXgnXtg/download')\n",
    "\n",
    "    \n",
    "\"\"\"\n",
    "simulation_{train, valid, test} is stored as a list of simulations. \n",
    "Each simulation is a numpy array of size (t, 2): For t timesteps an x and y coordinate of our particle.\n",
    "\"\"\"\n",
    "simulation_train = load_pickle(data, 'data/train/simulation.pickle')  # 3.1 + 3.2\n",
    "simulation_valid = load_pickle(data, 'data/valid/simulation.pickle')  # 3.1 + 3.2\n",
    "simulation_test = load_pickle(data, 'data/test/simulation.pickle')  # 3.1 + 3.2\n",
    "\n",
    "\"\"\"\n",
    "charges_{train, valid, test} is stored as a list of simulation-charges. \n",
    "These charges are stored as numpy arrays of size (3,): One value for each charge.\n",
    "\"\"\"\n",
    "charges_train = load_pickle(data, 'data/train/charges.pickle')  # 3.1\n",
    "charges_valid = load_pickle(data, 'data/valid/charges.pickle')  # 3.1\n",
    "charges_test = load_pickle(data, 'data/test/charges.pickle')  # 3.1\n",
    "\n",
    "\"\"\"\n",
    "simulation_continued_{train, valid, test} is stored as a list of simulations. \n",
    "Each simulation is a numpy array of size (t, 2): For t timesteps an x and y coordinate of our particle.\n",
    "\"\"\"\n",
    "simulation_continued_train = load_pickle(data, 'data/train/simulation_continued.pickle')  # 3.2\n",
    "simulation_continued_valid = load_pickle(data, 'data/valid/simulation_continued.pickle')  # 3.2\n",
    "simulation_continued_test = load_pickle(data, 'data/test/simulation_continued.pickle')  # 3.2\n",
    "\n",
    "\"\"\"\n",
    "Note that the indices are shared throughout the different lists, e.g., for the 4th training simulation:\n",
    "simulation_train[3] contains its initial simulation\n",
    "charges_train[3] contains the charges associated with the simulation\n",
    "simulation_continued_train[3] contains the continuation of the simulation \n",
    "                --> simulation_continued_train[3][0] is the state after simulation_train[3][-1]\n",
    "\"\"\"\n",
    "pass"
   ]
  },
  {
   "cell_type": "code",
   "execution_count": 4,
   "id": "10a3438a",
   "metadata": {
    "colab": {
     "base_uri": "https://localhost:8080/"
    },
    "id": "10a3438a",
    "outputId": "6035e76d-b4f9-4422-f58e-9e931083920c"
   },
   "outputs": [
    {
     "name": "stdout",
     "output_type": "stream",
     "text": [
      "Overview of no. datapoints:\n",
      "\n",
      "Task 3.1:\n",
      "800 train, 100 validation, 100 test simulations\n",
      "800 train, 100 validation, 100 test charge pairs\n",
      "\n",
      "Task 3.2:\n",
      "Since len(simulation_continued_train) < len(simulation_train), we can only use a subset of initial simulations\n",
      "We cut simulation_train down to the first 150 samples in simulation_train_task32\n",
      "150 train, 100 validation, 100 test simulations\n",
      "150 train, 100 validation, 100 test continuations\n",
      "\n",
      "For task 3.1, use:\n",
      "simulation_train + charges_train\n",
      "simulation_valid + charges_valid\n",
      "simulation_test + charges_test\n",
      "\n",
      "For task 3.2, use:\n",
      "simulation_train_task32 + simulation_continued_train\n",
      "simulation_valid + simulation_continued_valid\n",
      "simulation_test + simulation_continued_test\n",
      "\n"
     ]
    }
   ],
   "source": [
    "print('Overview of no. datapoints:\\n')\n",
    "\n",
    "print('Task 3.1:')\n",
    "print(f'{len(simulation_train)} train, {len(simulation_valid)} validation, {len(simulation_test)} test simulations')\n",
    "print(f'{len(charges_train)} train, {len(charges_valid)} validation, {len(charges_test)} test charge pairs')\n",
    "print()\n",
    "\n",
    "print('Task 3.2:')\n",
    "print('Since len(simulation_continued_train) < len(simulation_train), we can only use a subset of initial simulations')\n",
    "print('We cut simulation_train down to the first 150 samples in simulation_train_task32')\n",
    "simulation_train_task32 = simulation_train[:150]\n",
    "print(f'{len(simulation_train_task32)} train, {len(simulation_valid)} validation, {len(simulation_test)} test simulations')\n",
    "print(f'{len(simulation_continued_train)} train, {len(simulation_continued_valid)} validation, {len(simulation_continued_test)} test continuations')\n",
    "\n",
    "print(f\"\"\"\n",
    "For task 3.1, use:\n",
    "{chr(10).join([\"simulation_{} + charges_{}\".format(t, t) for t in [\"train\", \"valid\", \"test\"]])}\n",
    "\n",
    "For task 3.2, use:\n",
    "{chr(10).join([\"simulation_{} + simulation_continued_{}\".format(*((t[0], t[1]) if isinstance(t, tuple) else (t, t))) for t in [(\"train_task32\", \"train\"), \"valid\", \"test\"]])}\n",
    "\"\"\")\n"
   ]
  },
  {
   "cell_type": "code",
   "execution_count": 5,
   "id": "3cfafdb3",
   "metadata": {
    "colab": {
     "base_uri": "https://localhost:8080/"
    },
    "id": "3cfafdb3",
    "outputId": "cefc2526-dba6-489e-e726-38c61b696b10"
   },
   "outputs": [
    {
     "name": "stdout",
     "output_type": "stream",
     "text": [
      "Print some shapes:\n",
      "\n",
      "simulation_train[0].shape: (103, 2) -> (t, 2), (x, y) at every t)\n",
      "charges_train[0].shape: (3,) -> charges for the simulation\n",
      "simulation_continued_train[0].shape: (54, 2) -> (t, 2), (x, y) at every t)\n",
      "----\n",
      "\n",
      "simulation_train[1].shape: (97, 2) -> (t, 2), (x, y) at every t)\n",
      "charges_train[1].shape: (3,) -> charges for the simulation\n",
      "simulation_continued_train[1].shape: (45, 2) -> (t, 2), (x, y) at every t)\n",
      "----\n",
      "\n",
      "simulation_train[2].shape: (99, 2) -> (t, 2), (x, y) at every t)\n",
      "charges_train[2].shape: (3,) -> charges for the simulation\n",
      "simulation_continued_train[2].shape: (47, 2) -> (t, 2), (x, y) at every t)\n",
      "----\n",
      "\n"
     ]
    }
   ],
   "source": [
    "print('Print some shapes:\\n')\n",
    "for i in range(3):\n",
    "    print('simulation_train[{}].shape:'.format(i), simulation_train[i].shape, '-> (t, 2), (x, y) at every t)')\n",
    "    print('charges_train[{}].shape:'.format(i), charges_train[i].shape, '-> charges for the simulation')\n",
    "    print('simulation_continued_train[{}].shape:'.format(i), simulation_continued_train[i].shape, '-> (t, 2), (x, y) at every t)')\n",
    "    print('----\\n')"
   ]
  },
  {
   "cell_type": "code",
   "execution_count": 6,
   "id": "f9106543",
   "metadata": {
    "id": "f9106543"
   },
   "outputs": [],
   "source": [
    "def plot_example(x, x_gt=None, x_pred=None, fn=None):\n",
    "    charge_locations = np.array([[-1.53846154, -1.53846154],\n",
    "                                 [ 1.53846154, -1.53846154],\n",
    "                                 [ 0.        ,  1.53846154]])  # charge locations are fixed\n",
    "    fig = plt.figure()\n",
    "    axes = plt.gca()\n",
    "    axes.set_xlim([-5., 5.])\n",
    "    axes.set_ylim([-5., 5.])\n",
    "    cmap = matplotlib.cm.get_cmap('tab20')\n",
    "    plt.plot(x[:, 0], x[:, 1], color=cmap(0))\n",
    "    plt.plot(x[0, 0], x[0, 1], 'd', color=cmap(1))\n",
    "    fig.set_size_inches(5, 5)\n",
    "    for charge in charge_locations:\n",
    "        plt.plot(charge[0], charge[1], 'd', color='black')\n",
    "    if x_gt is not None:\n",
    "        plt.plot(x_gt[:, 0], x_gt[:, 1], color='red', linewidth=.5)\n",
    "    if x_pred is not None:\n",
    "        plt.plot(x_pred[:, 0], x_pred[:, 1], color='green', linestyle='--')\n",
    "    if fn is None:\n",
    "        plt.show()\n",
    "    else:\n",
    "        plt.savefig(fn)"
   ]
  },
  {
   "cell_type": "code",
   "execution_count": 7,
   "id": "d28681a6",
   "metadata": {
    "colab": {
     "base_uri": "https://localhost:8080/",
     "height": 337
    },
    "id": "d28681a6",
    "outputId": "9b44cd40-5d2e-4ba9-b165-4023f183b135"
   },
   "outputs": [
    {
     "data": {
      "image/png": "[encoded data removed]",
      "text/plain": [
       "<Figure size 360x360 with 1 Axes>"
      ]
     },
     "metadata": {
      "needs_background": "light"
     },
     "output_type": "display_data"
    },
    {
     "name": "stdout",
     "output_type": "stream",
     "text": [
      "Charges are [-0.15564174 -0.6222432  -0.69566571]\n"
     ]
    }
   ],
   "source": [
    "test_idx = np.random.randint(150)\n",
    "plot_example(simulation_train[test_idx], simulation_continued_train[test_idx])\n",
    "print(f'Charges are {charges_train[test_idx]}')"
   ]
  },
  {
   "cell_type": "markdown",
   "id": "883762b1",
   "metadata": {
    "id": "883762b1"
   },
   "source": [
    "# Task 3.1"
   ]
  },
  {
   "cell_type": "markdown",
   "id": "4c1ddabe",
   "metadata": {
    "id": "4c1ddabe"
   },
   "source": [
    "## Data Handling and Preprocessing"
   ]
  },
  {
   "cell_type": "code",
   "execution_count": 8,
   "id": "bd9df856",
   "metadata": {
    "id": "bd9df856"
   },
   "outputs": [],
   "source": [
    "# The inputs for this model would be the location of each particle (p1, p2, p3, p4), the initial charges for p2, p3, and p4\n",
    "# The output is a set of charges at every t, for the maximum\n",
    "\n",
    "# 1. Sort the input sequences by length <- Saving this for optimization later\n",
    "# 2. Pad the input sequences to the maximum length per batch, thus minimizing the amount of padding in the input\n",
    "  # This is 110\n",
    "# 3. Put the input sequences into a dataloader, for shuffling and batching\n",
    "\n",
    "# Maybe sorting isn't even necessary, because the sequences are not that long to begin with.\n",
    "# Padding with 0s is usually done, but this could reduce accuracy for longer sequences, as most examples will have 0 at the end.\n",
    "# I think we can combat this by not calculating loss for the sequence past its usefulness.\n"
   ]
  },
  {
   "cell_type": "code",
   "execution_count": 9,
   "id": "7dd9b7c1",
   "metadata": {
    "id": "7dd9b7c1"
   },
   "outputs": [],
   "source": [
    "import torch\n",
    "import torch.nn as nn\n",
    "import torch.nn.functional as F\n",
    "import torch.optim as optim\n"
   ]
  },
  {
   "cell_type": "code",
   "execution_count": 47,
   "id": "4ec1e03a",
   "metadata": {
    "id": "4ec1e03a"
   },
   "outputs": [],
   "source": [
    "simulation_train_tensor_no_padding = torch.zeros(800, 90, 1, 2)\n",
    "simulation_train_tensor_with_padding = torch.zeros(800, 110, 1, 2)\n",
    "simulation_train_no_nothing = []\n",
    "for i in range(800):\n",
    "  tensor = torch.Tensor(simulation_train[i])\n",
    "  simulation_train_no_nothing.append(tensor)\n",
    "  simulation_train_tensor_with_padding[i] = F.pad(tensor, (0,0,0,110 - tensor.shape[0])).unsqueeze(dim=1)\n",
    "  simulation_train_tensor_no_padding[i] = tensor[-90:, :].unsqueeze(dim=1)\n",
    "\n",
    "simulation_eval = torch.zeros(100, 90, 1, 2)\n",
    "simulation_eval_no_nothing = []\n",
    "for i in range(100):\n",
    "  tensor = torch.Tensor(simulation_valid[i])\n",
    "  simulation_eval_no_nothing.append(tensor)\n",
    "  simulation_eval[i] = tensor[-90:, :].unsqueeze(dim=1)\n"
   ]
  },
  {
   "cell_type": "code",
   "execution_count": 48,
   "id": "lyraAkKykAbz",
   "metadata": {
    "id": "lyraAkKykAbz"
   },
   "outputs": [],
   "source": [
    "from torch.utils.data import Dataset\n",
    "from torch.utils.data import DataLoader\n",
    "\n",
    "class CustomDataset(Dataset):\n",
    "    def __init__(self, input_tensor, output_tensor):\n",
    "        self.input_tensor = input_tensor\n",
    "        self.output_tensor = output_tensor\n",
    "\n",
    "    def __len__(self):\n",
    "        return len(self.input_tensor)\n",
    "\n",
    "    def __getitem__(self, idx):\n",
    "        return self.input_tensor[idx], self.output_tensor[idx].unsqueeze(dim=0)\n",
    "\n",
    "train_dataset = CustomDataset(simulation_train_tensor_no_padding, torch.Tensor(charges_train))\n",
    "train_dataloader = DataLoader(train_dataset, batch_size=1, shuffle=True)\n",
    "\n",
    "train_dataset_padding = CustomDataset(simulation_train_tensor_with_padding, torch.Tensor(charges_train))\n",
    "train_dataloader_padding = DataLoader(train_dataset_padding, batch_size=1, shuffle=True)\n",
    "\n",
    "eval_dataset = CustomDataset(simulation_eval_no_nothing, torch.Tensor(charges_valid))\n",
    "eval_dataloader = DataLoader(eval_dataset, batch_size=1, shuffle=False)\n",
    "\n",
    "train_no_nothing = CustomDataset(simulation_train_no_nothing, torch.Tensor(charges_train))\n",
    "train_no_nothing_dataloader = DataLoader(train_no_nothing, batch_size=1, shuffle=True)"
   ]
  },
  {
   "cell_type": "markdown",
   "id": "cc8853f6",
   "metadata": {
    "id": "cc8853f6"
   },
   "source": [
    "## Model Implementation"
   ]
  },
  {
   "cell_type": "code",
   "execution_count": 49,
   "id": "UR1mwYsYl7hW",
   "metadata": {
    "id": "UR1mwYsYl7hW"
   },
   "outputs": [],
   "source": [
    "class LSTM1(nn.Module):\n",
    "    def __init__(self, input_dim, hidden_dim):\n",
    "        super(LSTM1, self).__init__()\n",
    "        self.input_dim = input_dim\n",
    "        self.hidden_dim = hidden_dim\n",
    "        \n",
    "        # Define LSTM layer\n",
    "        self.lstm = nn.LSTM(input_size=input_dim, hidden_size=hidden_dim, batch_first=True)\n",
    "        \n",
    "        # Define a fully connected layer\n",
    "        self.fc =  nn.Linear(hidden_dim, hidden_dim)\n",
    "        \n",
    "    def forward(self, inputs):\n",
    "        # Forward through lstm layer\n",
    "        _, (h_n, c_n) = self.lstm(inputs)\n",
    "        \n",
    "        # Forward through dense layer\n",
    "        hidden = self.fc(h_n)\n",
    "        \n",
    "        return hidden"
   ]
  },
  {
   "cell_type": "code",
   "execution_count": null,
   "id": "d62b5aa6",
   "metadata": {
    "id": "d62b5aa6"
   },
   "outputs": [],
   "source": []
  },
  {
   "cell_type": "code",
   "execution_count": null,
   "id": "5192ee18",
   "metadata": {
    "id": "5192ee18"
   },
   "outputs": [],
   "source": []
  },
  {
   "cell_type": "markdown",
   "id": "0e443b7f",
   "metadata": {
    "id": "0e443b7f"
   },
   "source": [
    "## Model Training"
   ]
  },
  {
   "cell_type": "code",
   "execution_count": 61,
   "id": "5a5b0aca",
   "metadata": {
    "colab": {
     "base_uri": "https://localhost:8080/",
     "height": 1000
    },
    "id": "5a5b0aca",
    "outputId": "564ad6ca-90d9-404c-e4bd-f87af2be7472"
   },
   "outputs": [
    {
     "name": "stdout",
     "output_type": "stream",
     "text": [
      "epoch: 1, mean training loss: 0.39023364926921206, mean eval loss: 0.26108822245150803, \n",
      "epoch: 1, training error: [-0.60726875 -0.6839371  -0.135501  ], \n",
      "epoch: 1, validation error: [-0.5327942  -0.47084486 -0.08360086]\n",
      "epoch: 2, mean training loss: 0.17967650505292113, mean eval loss: 0.14435267492197454, \n",
      "epoch: 2, training error: [-0.33161464 -0.36638343 -0.07470553], \n",
      "epoch: 2, validation error: [-0.32803795 -0.24169363 -0.04198   ]\n",
      "epoch: 3, mean training loss: 0.11571810012479546, mean eval loss: 0.10741833449341356, \n",
      "epoch: 3, training error: [-0.18125744 -0.1970292  -0.04965178], \n",
      "epoch: 3, validation error: [-0.21293728 -0.11842234 -0.01400599]\n",
      "epoch: 4, mean training loss: 0.0958899811230367, mean eval loss: 0.0955533923022449, \n",
      "epoch: 4, training error: [-0.09466012 -0.10737768 -0.02900478], \n",
      "epoch: 4, validation error: [-0.1505854  -0.05258471  0.00285847]\n",
      "epoch: 5, mean training loss: 0.08953998229582794, mean eval loss: 0.09149853797629476, \n",
      "epoch: 5, training error: [-0.04799085 -0.05556953 -0.01412688], \n",
      "epoch: 5, validation error: [-0.11733937 -0.0204132   0.01153344]\n",
      "epoch: 6, mean training loss: 0.08712897860998055, mean eval loss: 0.08985875643789769, \n",
      "epoch: 6, training error: [-0.02375069 -0.03129801 -0.00546941], \n",
      "epoch: 6, validation error: [-0.09953501 -0.00402238  0.01524346]\n",
      "epoch: 7, mean training loss: 0.08591346828412498, mean eval loss: 0.08916495637968183, \n",
      "epoch: 7, training error: [-0.00959079 -0.01981585 -0.00387043], \n",
      "epoch: 7, validation error: [-0.09090891  0.00492497  0.01815297]\n",
      "epoch: 8, mean training loss: 0.08512381574189931, mean eval loss: 0.08880395382642746, \n",
      "epoch: 8, training error: [-0.0039454  -0.01305293 -0.00270906], \n",
      "epoch: 8, validation error: [-0.08612841  0.00964246  0.02038798]\n",
      "epoch: 9, mean training loss: 0.08451971163165581, mean eval loss: 0.08857590213418007, \n",
      "epoch: 9, training error: [-0.00132634 -0.00612487 -0.00197864], \n",
      "epoch: 9, validation error: [-0.0832887   0.0100639   0.02217625]\n",
      "epoch: 10, mean training loss: 0.08402639991276374, mean eval loss: 0.08847897242754697, \n",
      "epoch: 10, training error: [ 0.00119173 -0.00735923 -0.00130948], \n",
      "epoch: 10, validation error: [-0.08220444  0.01148397  0.02344332]\n",
      "epoch: 11, mean training loss: 0.08360077458128216, mean eval loss: 0.08835217874497175, \n",
      "epoch: 11, training error: [ 0.00051582 -0.00351516  0.000719  ], \n",
      "epoch: 11, validation error: [-0.08091336  0.01066482  0.02337145]\n",
      "epoch: 12, mean training loss: 0.08324493858242932, mean eval loss: 0.08834246272221208, \n",
      "epoch: 12, training error: [ 0.0028612  -0.00729816  0.00075834], \n",
      "epoch: 12, validation error: [-0.08119483  0.01246063  0.02315383]\n",
      "epoch: 13, mean training loss: 0.08292575411382132, mean eval loss: 0.08832178361713887, \n",
      "epoch: 13, training error: [ 0.00220267 -0.00460992  0.00031924], \n",
      "epoch: 13, validation error: [-0.08124369  0.01269393  0.02316122]\n",
      "epoch: 14, mean training loss: 0.08263828605544404, mean eval loss: 0.08822869446128606, \n",
      "epoch: 14, training error: [ 0.00037425 -0.00515099  0.00303055], \n",
      "epoch: 14, validation error: [-0.08025224  0.01345789  0.02137413]\n",
      "epoch: 15, mean training loss: 0.08238485999863769, mean eval loss: 0.08829135332256556, \n",
      "epoch: 15, training error: [ 0.00368882 -0.00085907 -0.00149794], \n",
      "epoch: 15, validation error: [-0.0815144   0.01148345  0.02251555]\n",
      "epoch: 16, mean training loss: 0.08216660412581404, mean eval loss: 0.08832558093592524, \n",
      "epoch: 16, training error: [ 0.00166461 -0.00609458 -0.00178006], \n",
      "epoch: 16, validation error: [-0.08156806  0.01304304  0.02372357]\n",
      "epoch: 17, mean training loss: 0.08196008210969012, mean eval loss: 0.0882882385700941, \n",
      "epoch: 17, training error: [-0.00024544 -0.00294095 -0.00151831], \n",
      "epoch: 17, validation error: [-0.08056374  0.01271421  0.02472366]\n",
      "epoch: 18, mean training loss: 0.0817834834543828, mean eval loss: 0.08831243751570582, \n",
      "epoch: 18, training error: [ 0.00171397 -0.00344001 -0.00092377], \n",
      "epoch: 18, validation error: [-0.08084039  0.01281915  0.02528773]\n",
      "epoch: 19, mean training loss: 0.08161733414766786, mean eval loss: 0.08832570923492312, \n",
      "epoch: 19, training error: [ 0.00221226 -0.00124242  0.00084081], \n",
      "epoch: 19, validation error: [-0.08147649  0.01161338  0.02471501]\n",
      "epoch: 20, mean training loss: 0.08146079921243654, mean eval loss: 0.08842311268672347, \n",
      "epoch: 20, training error: [ 0.00385571 -0.00203422 -0.00084337], \n",
      "epoch: 20, validation error: [-0.08317561  0.0109899   0.02520126]\n",
      "epoch: 21, mean training loss: 0.08133092208554445, mean eval loss: 0.08835259405896068, \n",
      "epoch: 21, training error: [-0.00061779 -0.00565617  0.00217875], \n",
      "epoch: 21, validation error: [-0.08213252  0.01282816  0.02367299]\n",
      "epoch: 22, mean training loss: 0.08120534241850691, mean eval loss: 0.08830931400880218, \n",
      "epoch: 22, training error: [-0.00012926 -0.00172442  0.00037773], \n",
      "epoch: 22, validation error: [-0.08151603  0.01219511  0.0233006 ]\n",
      "epoch: 23, mean training loss: 0.08108303285602232, mean eval loss: 0.0883762981928885, \n",
      "epoch: 23, training error: [ 0.00205521 -0.00507229 -0.00123267], \n",
      "epoch: 23, validation error: [-0.08224085  0.01374312  0.02396623]\n",
      "epoch: 24, mean training loss: 0.08098001509859387, mean eval loss: 0.08838292682543397, \n",
      "epoch: 24, training error: [ 0.00145719 -0.00091941  0.00089218], \n",
      "epoch: 24, validation error: [-0.08266954  0.01270468  0.02329354]\n",
      "epoch: 25, mean training loss: 0.08087659780321702, mean eval loss: 0.08840614320710301, \n",
      "epoch: 25, training error: [ 0.00079652 -0.00106923 -0.00190179], \n",
      "epoch: 25, validation error: [-0.08277283  0.0118196   0.02438209]\n",
      "epoch: 26, mean training loss: 0.08078543118528614, mean eval loss: 0.0884491460956633, \n",
      "epoch: 26, training error: [ 0.00210323 -0.00293693  0.00067318], \n",
      "epoch: 26, validation error: [-0.08366077  0.01219535  0.02381287]\n",
      "epoch: 27, mean training loss: 0.08069562336917442, mean eval loss: 0.08848198067396879, \n",
      "epoch: 27, training error: [ 0.00194879 -0.00190996  0.00089344], \n",
      "epoch: 27, validation error: [-0.0844781   0.01197867  0.02309176]\n",
      "epoch: 28, mean training loss: 0.08061688874523497, mean eval loss: 0.08848515691235662, \n",
      "epoch: 28, training error: [ 0.00076804 -0.00214617  0.00041515], \n",
      "epoch: 28, validation error: [-0.08462226  0.01196601  0.0226688 ]\n",
      "epoch: 29, mean training loss: 0.0805373448669161, mean eval loss: 0.08845807073637843, \n",
      "epoch: 29, training error: [-0.00132478 -0.0023425  -0.00259719], \n",
      "epoch: 29, validation error: [-0.08356448  0.01213452  0.02415095]\n",
      "epoch: 30, mean training loss: 0.08046982795167423, mean eval loss: 0.08849395813420415, \n",
      "epoch: 30, training error: [ 0.00189296 -0.00089245  0.00073781], \n",
      "epoch: 30, validation error: [-0.08446393  0.01140285  0.02355155]\n",
      "epoch: 31, mean training loss: 0.08040080378547827, mean eval loss: 0.08844821892678738, \n",
      "epoch: 31, training error: [-0.00082267 -0.0027781   0.0008233 ], \n",
      "epoch: 31, validation error: [-0.08371701  0.01194133  0.02288125]\n",
      "epoch: 32, mean training loss: 0.08033579370116058, mean eval loss: 0.0885024756193161, \n",
      "epoch: 32, training error: [ 0.00214577 -0.00273211  0.00071329], \n",
      "epoch: 32, validation error: [-0.08480042  0.01246354  0.02228692]\n",
      "epoch: 33, mean training loss: 0.0802783177622041, mean eval loss: 0.0884566199965775, \n",
      "epoch: 33, training error: [-0.00060894  0.0001519   0.00064337], \n",
      "epoch: 33, validation error: [-0.08426996  0.01120557  0.02172638]\n",
      "epoch: 34, mean training loss: 0.08021819233679707, mean eval loss: 0.08846129193902015, \n",
      "epoch: 34, training error: [-0.00049871 -0.00101738 -0.00246387], \n",
      "epoch: 34, validation error: [-0.08384483  0.01070955  0.02319115]\n",
      "epoch: 35, mean training loss: 0.08016652534704917, mean eval loss: 0.08843744158744812, \n",
      "epoch: 35, training error: [-0.0006238  -0.00074785 -0.0005687 ], \n",
      "epoch: 35, validation error: [-0.0833498   0.01009662  0.02342288]\n",
      "epoch: 36, mean training loss: 0.08011395344241463, mean eval loss: 0.08844068327918649, \n",
      "epoch: 36, training error: [ 7.1815324e-05 -3.9593559e-03 -2.1235197e-05], \n",
      "epoch: 36, validation error: [-0.08326928  0.01156166  0.02330326]\n",
      "epoch: 37, mean training loss: 0.08006739804885, mean eval loss: 0.08843520261347294, \n",
      "epoch: 37, training error: [-0.00033062 -0.00031334 -0.00104742], \n",
      "epoch: 37, validation error: [-0.08299956  0.01072912  0.02388171]\n"
     ]
    },
    {
     "name": "stdout",
     "output_type": "stream",
     "text": [
      "epoch: 38, mean training loss: 0.08001858146035375, mean eval loss: 0.08847059631720185, \n",
      "epoch: 38, training error: [ 0.00074714  0.00015372 -0.00145632], \n",
      "epoch: 38, validation error: [-0.08340552  0.0096235   0.02473232]\n",
      "epoch: 39, mean training loss: 0.07997567541129684, mean eval loss: 0.08844666089862585, \n",
      "epoch: 39, training error: [-0.00012111 -0.0007026   0.00107162], \n",
      "epoch: 39, validation error: [-0.08326241  0.0091156   0.02394333]\n",
      "epoch: 40, mean training loss: 0.07992899563367245, mean eval loss: 0.08840089209377766, \n",
      "epoch: 40, training error: [-1.2425549e-03 -2.0615388e-04  9.2620256e-05], \n",
      "epoch: 40, validation error: [-0.08248633  0.00831775  0.02379218]\n",
      "epoch: 41, mean training loss: 0.07989604022433923, mean eval loss: 0.08841162016615271, \n",
      "epoch: 41, training error: [ 0.00083303 -0.00162776  0.00115888], \n",
      "epoch: 41, validation error: [-0.08295982  0.00845082  0.02296648]\n",
      "epoch: 42, mean training loss: 0.07985560659519252, mean eval loss: 0.08845025550574065, \n",
      "epoch: 42, training error: [ 0.00142194 -0.00252175  0.00062327], \n",
      "epoch: 42, validation error: [-0.0837969   0.00918149  0.02247819]\n",
      "epoch: 43, mean training loss: 0.07981627688313893, mean eval loss: 0.08851411767303943, \n",
      "epoch: 43, training error: [ 0.00179193 -0.00237944 -0.00022225], \n",
      "epoch: 43, validation error: [-0.08488484  0.0098279   0.02255904]\n",
      "epoch: 44, mean training loss: 0.07977651802495529, mean eval loss: 0.08846013810485602, \n",
      "epoch: 44, training error: [-0.00219013 -0.00220145 -0.00138646], \n",
      "epoch: 44, validation error: [-0.08358219  0.01041738  0.02335983]\n",
      "epoch: 45, mean training loss: 0.07974540787188744, mean eval loss: 0.08848425082862377, \n",
      "epoch: 45, training error: [ 0.0006652  -0.00128511 -0.00018156], \n",
      "epoch: 45, validation error: [-0.08401779  0.01043259  0.02342033]\n",
      "epoch: 46, mean training loss: 0.07970971329261374, mean eval loss: 0.08844995230436326, \n",
      "epoch: 46, training error: [-0.00097566 -0.00145764  0.00040046], \n",
      "epoch: 46, validation error: [-0.08345797  0.0105965   0.02313103]\n",
      "epoch: 47, mean training loss: 0.07967662151815602, mean eval loss: 0.08849396048113704, \n",
      "epoch: 47, training error: [ 0.00078841 -0.00159963 -0.00119038], \n",
      "epoch: 47, validation error: [-0.08400616  0.01084782  0.02386836]\n",
      "epoch: 48, mean training loss: 0.07964463165229972, mean eval loss: 0.08853965293616056, \n",
      "epoch: 48, training error: [0.00162503 0.00019284 0.00053539], \n",
      "epoch: 48, validation error: [-0.08504667  0.00998693  0.02352364]\n",
      "epoch: 49, mean training loss: 0.07960694240209705, mean eval loss: 0.0885486469976604, \n",
      "epoch: 49, training error: [-6.2595814e-04 -8.6963584e-05 -2.2259506e-03], \n",
      "epoch: 49, validation error: [-0.08476069  0.00932722  0.02495127]\n",
      "epoch: 50, mean training loss: 0.079576328378389, mean eval loss: 0.08862280545756221, \n",
      "epoch: 50, training error: [ 0.00272585 -0.00124653  0.00150496], \n",
      "epoch: 50, validation error: [-0.0864757   0.00941718  0.02398231]\n",
      "epoch: 51, mean training loss: 0.07954804493398114, mean eval loss: 0.08856894286349416, \n",
      "epoch: 51, training error: [-0.0013684  -0.00342467  0.00124449], \n",
      "epoch: 51, validation error: [-0.0857112   0.01094642  0.0231426 ]\n",
      "epoch: 52, mean training loss: 0.07951403607519751, mean eval loss: 0.08863671936094761, \n",
      "epoch: 52, training error: [ 0.00199221 -0.00138036  0.00036573], \n",
      "epoch: 52, validation error: [-0.08700656  0.01115077  0.02293449]\n",
      "epoch: 53, mean training loss: 0.07948824950908602, mean eval loss: 0.0885024575702846, \n",
      "epoch: 53, training error: [-3.2504795e-03  7.3138624e-05  1.9062113e-03], \n",
      "epoch: 53, validation error: [-0.08514257  0.01050041  0.02167165]\n",
      "epoch: 54, mean training loss: 0.07945242935442366, mean eval loss: 0.08850934412330388, \n",
      "epoch: 54, training error: [1.3627511e-03 1.3465062e-05 3.3586950e-03], \n",
      "epoch: 54, validation error: [-0.08605941  0.00987743  0.01952353]\n",
      "epoch: 55, mean training loss: 0.07942847305406758, mean eval loss: 0.08844795368611813, \n",
      "epoch: 55, training error: [-0.00340272 -0.00134787 -0.00379864], \n",
      "epoch: 55, validation error: [-0.08416167  0.01013564  0.02200086]\n",
      "epoch: 56, mean training loss: 0.07940616871208477, mean eval loss: 0.0884363379701972, \n",
      "epoch: 56, training error: [-0.00065299 -0.00189894 -0.0002118 ], \n",
      "epoch: 56, validation error: [-0.08388624  0.01076532  0.02216841]\n",
      "epoch: 57, mean training loss: 0.07937419347930699, mean eval loss: 0.08851581055670976, \n",
      "epoch: 57, training error: [ 0.00298055 -0.00019232  0.00172595], \n",
      "epoch: 57, validation error: [-0.08581765  0.0103118   0.02110697]\n",
      "epoch: 58, mean training loss: 0.07935198166422197, mean eval loss: 0.08851423496380448, \n",
      "epoch: 58, training error: [-0.00043247  0.00215201 -0.00132943], \n",
      "epoch: 58, validation error: [-0.08573291  0.00839534  0.02200397]\n",
      "epoch: 59, mean training loss: 0.07932353623058588, mean eval loss: 0.08844033332541584, \n",
      "epoch: 59, training error: [-0.00207988 -0.0013085   0.00084125], \n",
      "epoch: 59, validation error: [-0.08461762  0.00871289  0.02148764]\n",
      "epoch: 60, mean training loss: 0.079297287969639, mean eval loss: 0.08850030159577728, \n",
      "epoch: 60, training error: [ 0.00144291 -0.00060366 -0.00049154], \n",
      "epoch: 60, validation error: [-0.08564538  0.00855588  0.02189266]\n",
      "epoch: 61, mean training loss: 0.07927233228831028, mean eval loss: 0.0885499674268067, \n",
      "epoch: 61, training error: [ 0.00087937 -0.0011289  -0.00115762], \n",
      "epoch: 61, validation error: [-0.08633833  0.0087605   0.0227121 ]\n",
      "epoch: 62, mean training loss: 0.0792456222858891, mean eval loss: 0.0884676120057702, \n",
      "epoch: 62, training error: [-2.6919004e-03 -1.3442680e-03 -9.1704984e-05], \n",
      "epoch: 62, validation error: [-0.08488461  0.00913518  0.02282279]\n",
      "epoch: 63, mean training loss: 0.07921880374255125, mean eval loss: 0.08842912074178458, \n",
      "epoch: 63, training error: [-0.00141463  0.00010737 -0.00027271], \n",
      "epoch: 63, validation error: [-0.08420119  0.00859418  0.02308716]\n",
      "epoch: 64, mean training loss: 0.0791929619127768, mean eval loss: 0.08838510654866695, \n",
      "epoch: 64, training error: [-0.00075807  0.00029498  0.00171202], \n",
      "epoch: 64, validation error: [-0.08391591  0.00795649  0.0220451 ]\n",
      "epoch: 65, mean training loss: 0.07916621140306233, mean eval loss: 0.08846134223043918, \n",
      "epoch: 65, training error: [ 0.00200816  0.00090242 -0.00081085], \n",
      "epoch: 65, validation error: [-0.08530228  0.00692806  0.02265645]\n",
      "epoch: 66, mean training loss: 0.07914248004795808, mean eval loss: 0.08841935174539685, \n",
      "epoch: 66, training error: [-0.00119618  0.00080151  0.00037577], \n",
      "epoch: 66, validation error: [-0.08477307  0.00598586  0.02248697]\n",
      "epoch: 67, mean training loss: 0.0791211127126735, mean eval loss: 0.08845801524817944, \n",
      "epoch: 67, training error: [ 0.00097446 -0.00180082 -0.00017458], \n",
      "epoch: 67, validation error: [-0.08553307  0.00668965  0.02267513]\n",
      "epoch: 68, mean training loss: 0.07908849623054266, mean eval loss: 0.08848299749195576, \n",
      "epoch: 68, training error: [ 0.00046528 -0.00333799 -0.00030117], \n",
      "epoch: 68, validation error: [-0.08597609  0.00838245  0.02293012]\n",
      "epoch: 69, mean training loss: 0.07906267229875084, mean eval loss: 0.08851855518296362, \n",
      "epoch: 69, training error: [0.00179085 0.00029826 0.00201   ], \n",
      "epoch: 69, validation error: [-0.08722446  0.00778391  0.02171215]\n",
      "epoch: 70, mean training loss: 0.07904189656030212, mean eval loss: 0.08843875570222735, \n",
      "epoch: 70, training error: [-0.00331893 -0.00026153 -0.00220837], \n",
      "epoch: 70, validation error: [-0.08543359  0.00756672  0.02324375]\n",
      "epoch: 71, mean training loss: 0.07901426376927702, mean eval loss: 0.08841572476550937, \n",
      "epoch: 71, training error: [0.00015851 0.00193817 0.00223278], \n",
      "epoch: 71, validation error: [-0.08571601  0.00595675  0.02190092]\n",
      "epoch: 72, mean training loss: 0.07899302753947268, mean eval loss: 0.088354161567986, \n",
      "epoch: 72, training error: [-0.00233435 -0.0018632  -0.00088607], \n",
      "epoch: 72, validation error: [-0.08450563  0.00677044  0.0225754 ]\n",
      "epoch: 73, mean training loss: 0.07896729456522734, mean eval loss: 0.0884254753217101, \n",
      "epoch: 73, training error: [ 0.00181312 -0.00198546 -0.00070469], \n",
      "epoch: 73, validation error: [-0.08578049  0.00764241  0.02313104]\n",
      "epoch: 74, mean training loss: 0.07894087782326097, mean eval loss: 0.08842423452064395, \n",
      "epoch: 74, training error: [-0.00068261 -0.00143208 -0.00102806], \n",
      "epoch: 74, validation error: [-0.08557155  0.0081783   0.02395645]\n"
     ]
    },
    {
     "name": "stdout",
     "output_type": "stream",
     "text": [
      "epoch: 75, mean training loss: 0.07891938668864895, mean eval loss: 0.08840068077668548, \n",
      "epoch: 75, training error: [-5.616844e-04  7.447414e-06  6.289053e-04], \n",
      "epoch: 75, validation error: [-0.08542661  0.00781893  0.0236929 ]\n",
      "epoch: 76, mean training loss: 0.07889177547636791, mean eval loss: 0.0883943310752511, \n",
      "epoch: 76, training error: [-0.00048502 -0.00110221 -0.00038651], \n",
      "epoch: 76, validation error: [-0.08533739  0.00817036  0.024087  ]\n",
      "epoch: 77, mean training loss: 0.0788686869382218, mean eval loss: 0.0883733263425529, \n",
      "epoch: 77, training error: [-0.00027019  0.00078015  0.00098756], \n",
      "epoch: 77, validation error: [-0.0853664   0.00734182  0.02358243]\n",
      "epoch: 78, mean training loss: 0.07884089659513847, mean eval loss: 0.08836823176592588, \n",
      "epoch: 78, training error: [0.00047594 0.00094328 0.00157495], \n",
      "epoch: 78, validation error: [-0.08584623  0.00641487  0.02268409]\n",
      "epoch: 79, mean training loss: 0.07881219637631148, mean eval loss: 0.08845203643664717, \n",
      "epoch: 79, training error: [ 0.00214885 -0.00252662 -0.00065805], \n",
      "epoch: 79, validation error: [-0.08731614  0.00768587  0.02325281]\n",
      "epoch: 80, mean training loss: 0.07879356411212939, mean eval loss: 0.08837054699659347, \n",
      "epoch: 80, training error: [-0.00221083  0.00032085  0.00049113], \n",
      "epoch: 80, validation error: [-0.08619111  0.00717594  0.02305085]\n",
      "epoch: 81, mean training loss: 0.07876812649308704, mean eval loss: 0.0883508476614952, \n",
      "epoch: 81, training error: [-0.00045329  0.00025228  0.00032159], \n",
      "epoch: 81, validation error: [-0.086117    0.00670489  0.02298475]\n",
      "epoch: 82, mean training loss: 0.0787268814889103, mean eval loss: 0.08844053061679005, \n",
      "epoch: 82, training error: [ 0.0013591   0.00173036 -0.00354457], \n",
      "epoch: 82, validation error: [-0.08713683  0.00529629  0.02543216]\n",
      "epoch: 83, mean training loss: 0.07871640354263945, mean eval loss: 0.08843969913199544, \n",
      "epoch: 83, training error: [ 0.00034381 -0.00165648  0.00084195], \n",
      "epoch: 83, validation error: [-0.08752088  0.00603778  0.0250103 ]\n",
      "epoch: 84, mean training loss: 0.0786877074923541, mean eval loss: 0.08826238771900535, \n",
      "epoch: 84, training error: [-0.00428733 -0.00110387  0.0025572 ], \n",
      "epoch: 84, validation error: [-0.08514275  0.00646985  0.02346868]\n",
      "epoch: 85, mean training loss: 0.07866092434793245, mean eval loss: 0.0882281893864274, \n",
      "epoch: 85, training error: [-5.9967449e-05 -2.4178631e-03  2.6801662e-03], \n",
      "epoch: 85, validation error: [-0.08527816  0.00771559  0.021872  ]\n",
      "epoch: 86, mean training loss: 0.07863895455629973, mean eval loss: 0.08815439756959677, \n",
      "epoch: 86, training error: [-0.00245347  0.00037844 -0.00053795], \n",
      "epoch: 86, validation error: [-0.08401462  0.00720074  0.02239891]\n",
      "epoch: 87, mean training loss: 0.0786095792936976, mean eval loss: 0.0880595538765192, \n",
      "epoch: 87, training error: [-0.00270766  0.00056262  0.00049123], \n",
      "epoch: 87, validation error: [-0.08259395  0.00658001  0.02225062]\n",
      "epoch: 88, mean training loss: 0.07859134353107948, mean eval loss: 0.08808825699612498, \n",
      "epoch: 88, training error: [0.00141376 0.00020713 0.00093095], \n",
      "epoch: 88, validation error: [-0.08362605  0.00617072  0.02179277]\n",
      "epoch: 89, mean training loss: 0.07856354891744559, mean eval loss: 0.08816780395805836, \n",
      "epoch: 89, training error: [ 2.3139738e-03  4.8258604e-05 -4.3013477e-04], \n",
      "epoch: 89, validation error: [-0.08518223  0.00585261  0.02226881]\n",
      "epoch: 90, mean training loss: 0.07853932103855187, mean eval loss: 0.08820683192461728, \n",
      "epoch: 90, training error: [ 0.00105528 -0.00036092 -0.00040544], \n",
      "epoch: 90, validation error: [-0.08598913  0.0057999   0.02272816]\n",
      "epoch: 91, mean training loss: 0.0785066127553, mean eval loss: 0.08824849078431725, \n",
      "epoch: 91, training error: [ 0.00069968  0.00151495 -0.00163992], \n",
      "epoch: 91, validation error: [-0.08659407  0.00457342  0.02399432]\n",
      "epoch: 92, mean training loss: 0.07848473391539301, mean eval loss: 0.08816950095817447, \n",
      "epoch: 92, training error: [-0.00126543  0.00029272  0.00246938], \n",
      "epoch: 92, validation error: [-0.08602307  0.00414061  0.02254268]\n",
      "epoch: 93, mean training loss: 0.07845906505586754, mean eval loss: 0.08813694182783366, \n",
      "epoch: 93, training error: [-0.00136936 -0.00049117 -0.00116826], \n",
      "epoch: 93, validation error: [-0.08539543  0.004186    0.02348824]\n",
      "epoch: 94, mean training loss: 0.07842610534258711, mean eval loss: 0.08802908608689904, \n",
      "epoch: 94, training error: [-0.00338329 -0.0030462  -0.00030006], \n",
      "epoch: 94, validation error: [-0.08355363  0.00586164  0.02385975]\n",
      "epoch: 95, mean training loss: 0.07840799557387072, mean eval loss: 0.08806405941024423, \n",
      "epoch: 95, training error: [ 1.8769488e-03 -5.9268103e-05  1.5909228e-03], \n",
      "epoch: 95, validation error: [-0.08483125  0.005643    0.02301791]\n",
      "epoch: 96, mean training loss: 0.07838078373388271, mean eval loss: 0.08804725270718336, \n",
      "epoch: 96, training error: [ 0.00045035 -0.00067803  0.00166805], \n",
      "epoch: 96, validation error: [-0.08525817  0.00583405  0.02205463]\n",
      "epoch: 97, mean training loss: 0.0783524348323408, mean eval loss: 0.08798010898754001, \n",
      "epoch: 97, training error: [-0.00201122  0.00080858 -0.00017738], \n",
      "epoch: 97, validation error: [-0.08423319  0.00507092  0.02238342]\n",
      "epoch: 98, mean training loss: 0.07832376934697095, mean eval loss: 0.08792634351179003, \n",
      "epoch: 98, training error: [-1.4898938e-03 -3.1706300e-03  2.1192469e-05], \n",
      "epoch: 98, validation error: [-0.0835133   0.00682614  0.0225173 ]\n",
      "epoch: 99, mean training loss: 0.07830157845230133, mean eval loss: 0.08802170423790813, \n",
      "epoch: 99, training error: [ 0.00247305  0.00179206 -0.00187592], \n",
      "epoch: 99, validation error: [-0.08514463  0.00545068  0.0239324 ]\n",
      "epoch: 100, mean training loss: 0.07827785189656425, mean eval loss: 0.08801015509292483, \n",
      "epoch: 100, training error: [-0.0001888  0.0001743  0.0001358], \n",
      "epoch: 100, validation error: [-0.08518576  0.00509777  0.02407558]\n"
     ]
    }
   ],
   "source": [
    "# Define runtime device\n",
    "dev = torch.device(\"cuda\") if torch.cuda.is_available() else torch.device(\"cpu\")\n",
    "\n",
    "# Hyper parameter and model definition\n",
    "input_dim = 2\n",
    "hidden_dim = 3\n",
    "lstm = LSTM1(input_dim, hidden_dim).to(dev)\n",
    "\n",
    "criterion = nn.MSELoss()\n",
    "learning_rate = 0.001\n",
    "optimizer = torch.optim.SGD(lstm.parameters(), lr = learning_rate)\n",
    "num_epochs = 100\n",
    "dataloader = train_no_nothing_dataloader\n",
    "\n",
    "lossPerEpoch = np.empty((num_epochs, 1))\n",
    "errorPerEpoch = np.empty((num_epochs, 3))\n",
    "\n",
    "for epoch in range(num_epochs):\n",
    "  total_loss = 0\n",
    "  total_eval_loss = 0\n",
    "  total_error = 0\n",
    "  total_validation_error = 0\n",
    "\n",
    "  # Set in train mode\n",
    "  lstm.train()\n",
    "\n",
    "  # Train the model\n",
    "  iterator = iter(dataloader)\n",
    "  for i in range(len(iterator)):\n",
    "    x, y = next(iterator)\n",
    "    \n",
    "    # Move to GPU\n",
    "    x = x.to(dev)\n",
    "    y = y.to(dev)\n",
    "\n",
    "    # Propagate forward\n",
    "    hidden = lstm(x[0])\n",
    "    \n",
    "    # Compute loss\n",
    "    loss = criterion(hidden[0], y[0])\n",
    "    total_loss += loss.item()\n",
    "    \n",
    "    # Store error per for each prediction [c2 c3 c4]\n",
    "    expected = y[0][0].cpu().numpy()\n",
    "    predicted = hidden[0].cpu().detach().numpy()\n",
    "    total_error += expected - predicted\n",
    "    \n",
    "    # Backward propagate\n",
    "    optimizer.zero_grad()\n",
    "    loss.backward()\n",
    "    optimizer.step()\n",
    "  \n",
    "  \n",
    "  # Set in eval mode\n",
    "  lstm.eval()\n",
    "\n",
    "  # Evaluate loss on verification set\n",
    "  eval_iterator = iter(eval_dataloader)\n",
    "  for i in range(len(eval_iterator)):\n",
    "    with torch.no_grad():\n",
    "      x, y = next(eval_iterator)\n",
    "    \n",
    "      # Move to GPU\n",
    "      x = x.to(dev)\n",
    "      y = y.to(dev)\n",
    "    \n",
    "      # Propagate forward\n",
    "      hidden = lstm(x[0])\n",
    "    \n",
    "      # Compute loss\n",
    "      loss = criterion(hidden[0], y[0])\n",
    "      total_eval_loss += loss.item()\n",
    "        \n",
    "      # Store error per for each prediction [c2 c3 c4]\n",
    "      expected = y[0][0].cpu().numpy()\n",
    "      predicted = hidden[0].cpu().detach().numpy()\n",
    "      total_validation_error += expected - predicted\n",
    "        \n",
    "  average_training_loss = total_loss / len(iterator)\n",
    "  average_eval_loss = total_eval_loss / len(eval_iterator)\n",
    "  average_training_error = total_error / len(iterator)\n",
    "  average_validation_error = total_validation_error / len(eval_iterator)\n",
    "    \n",
    "  lossPerEpoch[epoch] = average_training_loss\n",
    "  errorPerEpoch[epoch] = average_training_error\n",
    "\n",
    "  print(f'epoch: {epoch+1}, mean training loss: {average_training_loss}, mean eval loss: {average_eval_loss}, \\nepoch: {epoch+1}, training error: {average_training_error}, \\nepoch: {epoch+1}, validation error: {average_validation_error}')\n",
    "\n",
    "  \n",
    "\n",
    "#TODO: Might need to zero out the hidden state of lstm, but maybe not\n",
    "#TODO: Experiment with num_layers\n"
   ]
  },
  {
   "cell_type": "code",
   "execution_count": null,
   "id": "58348edd",
   "metadata": {
    "id": "58348edd"
   },
   "outputs": [],
   "source": [
    "# without padding :epoch: 25, mean training loss: 0.08195400983095169, mean eval loss: 0.09817712453918324\n",
    "# epoch: 100, mean training loss: 0.0861954316496849, mean eval loss: 0.10278522804379463"
   ]
  },
  {
   "cell_type": "code",
   "execution_count": 59,
   "id": "176b3ea3",
   "metadata": {
    "id": "176b3ea3"
   },
   "outputs": [
    {
     "name": "stdout",
     "output_type": "stream",
     "text": [
      "100\n",
      "torch.Size([90, 2])\n",
      "torch.Size([1, 3])\n",
      "torch.Size([1, 3])\n",
      "[[ 1.37617710e-001]\n",
      " [ 1.03145512e-001]\n",
      " [ 9.09960244e-002]\n",
      " [ 8.62773863e-002]\n",
      " [ 8.41564260e-002]\n",
      " [ 8.30388695e-002]\n",
      " [ 8.23234814e-002]\n",
      " [ 8.18147473e-002]\n",
      " [ 8.13935770e-002]\n",
      " [ 8.10367036e-002]\n",
      " [ 8.07145817e-002]\n",
      " [ 8.04284701e-002]\n",
      " [ 8.01707036e-002]\n",
      " [ 7.99361079e-002]\n",
      " [ 7.97122108e-002]\n",
      " [ 7.95047811e-002]\n",
      " [ 7.93089470e-002]\n",
      " [ 7.91227658e-002]\n",
      " [ 7.89446403e-002]\n",
      " [ 7.87710788e-002]\n",
      " [ 7.85969794e-002]\n",
      " [ 7.84279244e-002]\n",
      " [ 7.82416258e-002]\n",
      " [ 7.80633770e-002]\n",
      " [ 7.79175562e-002]\n",
      " [ 7.77740116e-002]\n",
      " [ 7.76474982e-002]\n",
      " [ 7.75329442e-002]\n",
      " [ 7.74089746e-002]\n",
      " [ 7.72877330e-002]\n",
      " [-9.36955831e+000]\n",
      " [-1.26553783e+001]\n",
      " [-1.55632992e+001]\n",
      " [-2.01773033e+001]\n",
      " [-2.44566154e+001]\n",
      " [-2.79603691e+001]\n",
      " [-3.06858177e+001]\n",
      " [-3.32624739e+001]\n",
      " [-3.55911177e+001]\n",
      " [-3.63565291e+001]\n",
      " [-3.55585250e+001]\n",
      " [-3.31978377e+001]\n",
      " [-3.06381187e+001]\n",
      " [-2.78984947e+001]\n",
      " [-2.43826713e+001]\n",
      " [-2.00946616e+001]\n",
      " [-1.55202541e+001]\n",
      " [-1.26144619e+001]\n",
      " [-9.33619495e+000]\n",
      " [-6.84707544e+000]\n",
      " [-4.85011575e+000]\n",
      " [-3.34258603e+000]\n",
      " [-2.18129109e+000]\n",
      " [-9.73837729e-001]\n",
      " [-4.12401614e-001]\n",
      " [-1.62023691e-001]\n",
      " [-5.92952740e-002]\n",
      " [-2.28721386e-002]\n",
      " [-7.85543950e-003]\n",
      " [-1.03863538e-003]\n",
      " [-1.34393950e-004]\n",
      " [-9.69062417e-006]\n",
      " [-1.60695236e-007]\n",
      " [-6.46854183e-012]\n",
      " [ 1.01705325e-010]\n",
      " [ 3.09033623e-007]\n",
      " [ 1.73203770e-005]\n",
      " [ 1.80277653e-004]\n",
      " [ 1.34124164e-003]\n",
      " [ 8.78936981e-003]\n",
      " [ 2.41590030e-002]\n",
      " [ 6.05785920e-002]\n",
      " [ 1.60791665e-001]\n",
      " [ 3.92901003e-001]\n",
      " [ 8.88325332e-001]\n",
      " [ 1.88632226e+000]\n",
      " [ 2.88889169e+000]\n",
      " [ 3.77586984e+000]\n",
      " [ 5.08263873e+000]\n",
      " [ 6.36224459e+000]\n",
      " [ 7.38474749e+000]\n",
      " [ 8.29171940e+000]\n",
      " [ 9.28440280e+000]\n",
      " [ 9.74174685e+000]\n",
      " [ 9.65838807e+000]\n",
      " [ 9.02906217e+000]\n",
      " [ 7.92424675e+000]\n",
      " [ 7.05576608e+000]\n",
      " [ 5.90679452e+000]\n",
      " [ 4.47588632e+000]\n",
      " [ 3.38174199e+000]\n",
      " [ 2.38700818e+000]\n",
      " [ 1.25975966e+000]\n",
      " [ 1.48933453e-313]\n",
      " [ 1.48933453e-313]\n",
      " [ 1.48933453e-313]\n",
      " [ 1.48933453e-313]\n",
      " [ 1.48933453e-313]\n",
      " [ 1.48933454e-313]\n",
      " [ 1.48933454e-313]]\n"
     ]
    }
   ],
   "source": [
    "# without any cutting : epoch: 56, mean training loss: 0.07555700838565826, mean eval loss: 0.08626986091025174\n",
    "# With linear layer: epoch: 56, mean training loss: 0.07898687571287155, mean eval loss: 0.08656595157459378\n",
    "# With reLU + linear layer: epoch: 56, mean training loss: 0.08114010095596313, mean eval loss: 0.09263360679149628\n",
    "print(len(eval_iterator))\n",
    "print(x[0].shape)\n",
    "print(hidden.shape)\n",
    "print(y[0].shape)\n",
    "print(lossPerEpoch)"
   ]
  },
  {
   "cell_type": "markdown",
   "id": "da139d5b",
   "metadata": {
    "id": "da139d5b"
   },
   "source": [
    "## Evaluation"
   ]
  },
  {
   "cell_type": "code",
   "execution_count": 62,
   "id": "ebed03ba",
   "metadata": {
    "id": "ebed03ba"
   },
   "outputs": [
    {
     "data": {
      "image/png": "[encoded data removed]",
      "text/plain": [
       "<Figure size 432x288 with 1 Axes>"
      ]
     },
     "metadata": {
      "needs_background": "light"
     },
     "output_type": "display_data"
    }
   ],
   "source": [
    "# Plot the loss curve\n",
    "plt.figure()\n",
    "plt.plot(range(num_epochs), lossPerEpoch, \"b-\", label=\"Loss\")\n",
    "#plt.plot(range(num_epochs), stdPerEpoch, \"g-\", label=\"Standard Deviation\")\n",
    "plt.legend(loc=\"upper right\")\n",
    "plt.xlabel(\"Epoch\")\n",
    "plt.ylabel(\"Observed loss\")\n",
    "plt.title(\"Model training\")\n",
    "plt.show()"
   ]
  },
  {
   "cell_type": "code",
   "execution_count": 65,
   "id": "e0cfa328",
   "metadata": {},
   "outputs": [
    {
     "data": {
      "image/png": "[encoded data removed]",
      "text/plain": [
       "<Figure size 432x288 with 1 Axes>"
      ]
     },
     "metadata": {
      "needs_background": "light"
     },
     "output_type": "display_data"
    }
   ],
   "source": [
    "# Plot the error\n",
    "plt.figure()\n",
    "plt.boxplot(errorPerEpoch)\n",
    "plt.xlabel(\"Negative charges (1 = c_2, 2 = c_3, 3 = c_4)\")\n",
    "plt.ylabel(\"Observed dispersion\")\n",
    "plt.title(\"Model error on training\")\n",
    "plt.show()"
   ]
  },
  {
   "cell_type": "code",
   "execution_count": 74,
   "id": "17af7ec3",
   "metadata": {
    "id": "17af7ec3"
   },
   "outputs": [
    {
     "name": "stdout",
     "output_type": "stream",
     "text": [
      "Predicted charges: [-0.49339905 -0.4461894  -0.4868246 ], Actual charges: [-0.4197311  -0.34731492 -0.2703901 ]\n",
      "Predicted charges: [-0.48252317 -0.49439093 -0.6094045 ], Actual charges: [-0.2275447  -0.03446217 -0.5137834 ]\n",
      "Predicted charges: [-0.49134013 -0.4622479  -0.60600996], Actual charges: [-0.16873121 -0.1138682  -0.8036771 ]\n",
      "Predicted charges: [-0.47797674 -0.48136562 -0.6100431 ], Actual charges: [-0.81953406 -0.00904059 -0.85725117]\n",
      "Predicted charges: [-0.43037876 -0.53177047 -0.56224495], Actual charges: [-0.23508035 -0.7717988  -0.19564694]\n"
     ]
    }
   ],
   "source": [
    "import random\n",
    "\n",
    "# number of example predictions\n",
    "nrExamplePredictions = 5\n",
    "\n",
    "# Set model to eval mode\n",
    "lstm.eval()\n",
    "\n",
    "predictionError = np.empty((nrExamplePredictions, 3))\n",
    "for examplePrediction in range(nrExamplePredictions):\n",
    "    # Get a random index\n",
    "    index = random.choice(range(len(simulation_test)))\n",
    "    \n",
    "    # Get corresponding tensors\n",
    "    particlePositions = torch.tensor(simulation_test[index]).type(torch.FloatTensor).to(dev)\n",
    "    particleCharges = torch.tensor(charges_test[index]).type(torch.FloatTensor).to(dev)\n",
    "    \n",
    "    # Forward propagate the particle positions through the model\n",
    "    with torch.no_grad():\n",
    "        predictedCharges = lstm(particlePositions)\n",
    "        \n",
    "        # Store prediction result in error\n",
    "        prediction = predictedCharges[0].cpu().numpy()\n",
    "        expected = particleCharges.cpu().numpy()\n",
    "        predictionError[examplePrediction] = expected - prediction\n",
    "    \n",
    "    # Print results\n",
    "    print(f'Predicted charges: {prediction}, Actual charges: {expected}')"
   ]
  },
  {
   "cell_type": "code",
   "execution_count": 76,
   "id": "43a3422e",
   "metadata": {
    "id": "43a3422e"
   },
   "outputs": [
    {
     "data": {
      "image/png": "[encoded data removed]",
      "text/plain": [
       "<Figure size 432x288 with 1 Axes>"
      ]
     },
     "metadata": {
      "needs_background": "light"
     },
     "output_type": "display_data"
    }
   ],
   "source": [
    "# Plot model error on test set\n",
    "plt.figure()\n",
    "plt.boxplot(predictions)\n",
    "plt.xlabel(\"Negative charges (1 = c_2, 2 = c_3, 3 = c_4)\")\n",
    "plt.ylabel(\"Observed dispersion\")\n",
    "plt.title(\"Model error on test set\")\n",
    "plt.show()"
   ]
  },
  {
   "cell_type": "markdown",
   "id": "9a59808b",
   "metadata": {
    "id": "9a59808b"
   },
   "source": [
    "# Task 3.2"
   ]
  },
  {
   "cell_type": "markdown",
   "id": "f64a855d",
   "metadata": {
    "id": "f64a855d"
   },
   "source": [
    "## Data Handling and Preprocessing"
   ]
  },
  {
   "cell_type": "code",
   "execution_count": null,
   "id": "5b935865",
   "metadata": {
    "id": "5b935865"
   },
   "outputs": [],
   "source": [
    "#todo\n",
    "# Let's add the static input at every call of the model, or design it in a way that has a seperate method for the static data (per simulation) for 3.2"
   ]
  },
  {
   "cell_type": "code",
   "execution_count": null,
   "id": "0ec19a8d",
   "metadata": {
    "id": "0ec19a8d"
   },
   "outputs": [],
   "source": []
  },
  {
   "cell_type": "code",
   "execution_count": null,
   "id": "8f189d19",
   "metadata": {
    "id": "8f189d19"
   },
   "outputs": [],
   "source": []
  },
  {
   "cell_type": "markdown",
   "id": "867aabb3",
   "metadata": {
    "id": "867aabb3"
   },
   "source": [
    "## Model Implementation"
   ]
  },
  {
   "cell_type": "code",
   "execution_count": null,
   "id": "36fe2739",
   "metadata": {
    "id": "36fe2739"
   },
   "outputs": [],
   "source": [
    "#todo"
   ]
  },
  {
   "cell_type": "code",
   "execution_count": null,
   "id": "f80b1ca2",
   "metadata": {
    "id": "f80b1ca2"
   },
   "outputs": [],
   "source": []
  },
  {
   "cell_type": "code",
   "execution_count": null,
   "id": "fdbf2800",
   "metadata": {
    "id": "fdbf2800"
   },
   "outputs": [],
   "source": []
  },
  {
   "cell_type": "markdown",
   "id": "826fae3f",
   "metadata": {
    "id": "826fae3f"
   },
   "source": [
    "## Model Training"
   ]
  },
  {
   "cell_type": "code",
   "execution_count": null,
   "id": "db3fce95",
   "metadata": {
    "id": "db3fce95"
   },
   "outputs": [],
   "source": [
    "#todo"
   ]
  },
  {
   "cell_type": "code",
   "execution_count": null,
   "id": "41ddb47d",
   "metadata": {
    "id": "41ddb47d"
   },
   "outputs": [],
   "source": []
  },
  {
   "cell_type": "code",
   "execution_count": null,
   "id": "4ee069fc",
   "metadata": {
    "id": "4ee069fc"
   },
   "outputs": [],
   "source": []
  },
  {
   "cell_type": "markdown",
   "id": "c87278a2",
   "metadata": {
    "id": "c87278a2"
   },
   "source": [
    "## Evaluation"
   ]
  },
  {
   "cell_type": "code",
   "execution_count": null,
   "id": "2cbb6137",
   "metadata": {
    "id": "2cbb6137"
   },
   "outputs": [],
   "source": [
    "#todo"
   ]
  },
  {
   "cell_type": "code",
   "execution_count": null,
   "id": "2cf6f4b7",
   "metadata": {
    "id": "2cf6f4b7"
   },
   "outputs": [],
   "source": []
  },
  {
   "cell_type": "code",
   "execution_count": null,
   "id": "736c10d8",
   "metadata": {
    "id": "736c10d8"
   },
   "outputs": [],
   "source": []
  }
 ],
 "metadata": {
  "colab": {
   "collapsed_sections": [
    "f64a855d",
    "867aabb3",
    "826fae3f",
    "c87278a2"
   ],
   "name": "Copy of Copy of a3_skeleton.ipynb",
   "provenance": []
  },
  "kernelspec": {
   "display_name": "Python 3 (ipykernel)",
   "language": "python",
   "name": "python3"
  },
  "language_info": {
   "codemirror_mode": {
    "name": "ipython",
    "version": 3
   },
   "file_extension": ".py",
   "mimetype": "text/x-python",
   "name": "python",
   "nbconvert_exporter": "python",
   "pygments_lexer": "ipython3",
   "version": "3.10.4"
  }
 },
 "nbformat": 4,
 "nbformat_minor": 5
}
