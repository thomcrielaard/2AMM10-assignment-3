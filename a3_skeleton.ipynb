{
 "cells": [
  {
   "cell_type": "markdown",
   "id": "963690b2",
   "metadata": {
    "id": "963690b2"
   },
   "source": [
    "<a href=\"https://colab.research.google.com/github/vlamen/tue-deeplearning/blob/main/assignments/assignment_2_3/a3_skeleton.ipynb\" target=\"_parent\"><img src=\"https://colab.research.google.com/assets/colab-badge.svg\" alt=\"Open In Colab\"/></a>"
   ]
  },
  {
   "cell_type": "markdown",
   "id": "bd8459f1",
   "metadata": {
    "id": "bd8459f1"
   },
   "source": [
    "# Group Number:\n",
    "\n",
    "# Student 1:\n",
    "\n",
    "# Student 2:\n",
    "\n",
    "# Student 3:"
   ]
  },
  {
   "cell_type": "markdown",
   "id": "dde28458",
   "metadata": {
    "id": "dde28458"
   },
   "source": [
    "# Downloading Data and Preliminaries"
   ]
  },
  {
   "cell_type": "code",
   "execution_count": 39,
   "id": "7d0580a5",
   "metadata": {
    "id": "7d0580a5"
   },
   "outputs": [],
   "source": [
    "import pickle\n",
    "import matplotlib.pyplot as plt\n",
    "import matplotlib\n",
    "import numpy as np\n",
    "import torch\n",
    "from torch import nn\n",
    "\n",
    "from zipfile import ZipFile\n",
    "import requests\n",
    "import io"
   ]
  },
  {
   "cell_type": "code",
   "execution_count": 40,
   "id": "8ce00edc",
   "metadata": {
    "id": "8ce00edc"
   },
   "outputs": [],
   "source": [
    "def load_zip(url):\n",
    "    response = requests.get(url)\n",
    "    response.raise_for_status()\n",
    "    zipf = ZipFile(io.BytesIO(response.content))\n",
    "    return {name: zipf.read(name) for name in zipf.namelist()}\n",
    "\n",
    "def load_pickle(zipfile, fn):\n",
    "    return pickle.load(io.BytesIO(zipfile[fn]))"
   ]
  },
  {
   "cell_type": "code",
   "execution_count": 41,
   "id": "bb77a4be",
   "metadata": {
    "id": "bb77a4be"
   },
   "outputs": [],
   "source": [
    "data = load_zip('https://surfdrive.surf.nl/files/index.php/s/cwqGaS22KXgnXtg/download')\n",
    "\n",
    "    \n",
    "\"\"\"\n",
    "simulation_{train, valid, test} is stored as a list of simulations. \n",
    "Each simulation is a numpy array of size (t, 2): For t timesteps an x and y coordinate of our particle.\n",
    "\"\"\"\n",
    "simulation_train = load_pickle(data, 'data/train/simulation.pickle')  # 3.1 + 3.2\n",
    "simulation_valid = load_pickle(data, 'data/valid/simulation.pickle')  # 3.1 + 3.2\n",
    "simulation_test = load_pickle(data, 'data/test/simulation.pickle')  # 3.1 + 3.2\n",
    "\n",
    "\"\"\"\n",
    "charges_{train, valid, test} is stored as a list of simulation-charges. \n",
    "These charges are stored as numpy arrays of size (3,): One value for each charge.\n",
    "\"\"\"\n",
    "charges_train = load_pickle(data, 'data/train/charges.pickle')  # 3.1\n",
    "charges_valid = load_pickle(data, 'data/valid/charges.pickle')  # 3.1\n",
    "charges_test = load_pickle(data, 'data/test/charges.pickle')  # 3.1\n",
    "\n",
    "\"\"\"\n",
    "simulation_continued_{train, valid, test} is stored as a list of simulations. \n",
    "Each simulation is a numpy array of size (t, 2): For t timesteps an x and y coordinate of our particle.\n",
    "\"\"\"\n",
    "simulation_continued_train = load_pickle(data, 'data/train/simulation_continued.pickle')  # 3.2\n",
    "simulation_continued_valid = load_pickle(data, 'data/valid/simulation_continued.pickle')  # 3.2\n",
    "simulation_continued_test = load_pickle(data, 'data/test/simulation_continued.pickle')  # 3.2\n",
    "\n",
    "\"\"\"\n",
    "Note that the indices are shared throughout the different lists, e.g., for the 4th training simulation:\n",
    "simulation_train[3] contains its initial simulation\n",
    "charges_train[3] contains the charges associated with the simulation\n",
    "simulation_continued_train[3] contains the continuation of the simulation \n",
    "                --> simulation_continued_train[3][0] is the state after simulation_train[3][-1]\n",
    "\"\"\"\n",
    "pass"
   ]
  },
  {
   "cell_type": "code",
   "execution_count": 42,
   "id": "10a3438a",
   "metadata": {
    "colab": {
     "base_uri": "https://localhost:8080/"
    },
    "id": "10a3438a",
    "outputId": "6035e76d-b4f9-4422-f58e-9e931083920c"
   },
   "outputs": [
    {
     "name": "stdout",
     "output_type": "stream",
     "text": [
      "Overview of no. datapoints:\n",
      "\n",
      "Task 3.1:\n",
      "800 train, 100 validation, 100 test simulations\n",
      "800 train, 100 validation, 100 test charge pairs\n",
      "\n",
      "Task 3.2:\n",
      "Since len(simulation_continued_train) < len(simulation_train), we can only use a subset of initial simulations\n",
      "We cut simulation_train down to the first 150 samples in simulation_train_task32\n",
      "150 train, 100 validation, 100 test simulations\n",
      "150 train, 100 validation, 100 test continuations\n",
      "\n",
      "For task 3.1, use:\n",
      "simulation_train + charges_train\n",
      "simulation_valid + charges_valid\n",
      "simulation_test + charges_test\n",
      "\n",
      "For task 3.2, use:\n",
      "simulation_train_task32 + simulation_continued_train\n",
      "simulation_valid + simulation_continued_valid\n",
      "simulation_test + simulation_continued_test\n",
      "\n"
     ]
    }
   ],
   "source": [
    "print('Overview of no. datapoints:\\n')\n",
    "\n",
    "print('Task 3.1:')\n",
    "print(f'{len(simulation_train)} train, {len(simulation_valid)} validation, {len(simulation_test)} test simulations')\n",
    "print(f'{len(charges_train)} train, {len(charges_valid)} validation, {len(charges_test)} test charge pairs')\n",
    "print()\n",
    "\n",
    "print('Task 3.2:')\n",
    "print('Since len(simulation_continued_train) < len(simulation_train), we can only use a subset of initial simulations')\n",
    "print('We cut simulation_train down to the first 150 samples in simulation_train_task32')\n",
    "simulation_train_task32 = simulation_train[:150]\n",
    "print(f'{len(simulation_train_task32)} train, {len(simulation_valid)} validation, {len(simulation_test)} test simulations')\n",
    "print(f'{len(simulation_continued_train)} train, {len(simulation_continued_valid)} validation, {len(simulation_continued_test)} test continuations')\n",
    "\n",
    "print(f\"\"\"\n",
    "For task 3.1, use:\n",
    "{chr(10).join([\"simulation_{} + charges_{}\".format(t, t) for t in [\"train\", \"valid\", \"test\"]])}\n",
    "\n",
    "For task 3.2, use:\n",
    "{chr(10).join([\"simulation_{} + simulation_continued_{}\".format(*((t[0], t[1]) if isinstance(t, tuple) else (t, t))) for t in [(\"train_task32\", \"train\"), \"valid\", \"test\"]])}\n",
    "\"\"\")\n"
   ]
  },
  {
   "cell_type": "code",
   "execution_count": 43,
   "id": "3cfafdb3",
   "metadata": {
    "colab": {
     "base_uri": "https://localhost:8080/"
    },
    "id": "3cfafdb3",
    "outputId": "cefc2526-dba6-489e-e726-38c61b696b10"
   },
   "outputs": [
    {
     "name": "stdout",
     "output_type": "stream",
     "text": [
      "Print some shapes:\n",
      "\n",
      "simulation_train[0].shape: (103, 2) -> (t, 2), (x, y) at every t)\n",
      "charges_train[0].shape: (3,) -> charges for the simulation\n",
      "simulation_continued_train[0].shape: (54, 2) -> (t, 2), (x, y) at every t)\n",
      "----\n",
      "\n",
      "simulation_train[1].shape: (97, 2) -> (t, 2), (x, y) at every t)\n",
      "charges_train[1].shape: (3,) -> charges for the simulation\n",
      "simulation_continued_train[1].shape: (45, 2) -> (t, 2), (x, y) at every t)\n",
      "----\n",
      "\n",
      "simulation_train[2].shape: (99, 2) -> (t, 2), (x, y) at every t)\n",
      "charges_train[2].shape: (3,) -> charges for the simulation\n",
      "simulation_continued_train[2].shape: (47, 2) -> (t, 2), (x, y) at every t)\n",
      "----\n",
      "\n"
     ]
    }
   ],
   "source": [
    "print('Print some shapes:\\n')\n",
    "for i in range(3):\n",
    "    print('simulation_train[{}].shape:'.format(i), simulation_train[i].shape, '-> (t, 2), (x, y) at every t)')\n",
    "    print('charges_train[{}].shape:'.format(i), charges_train[i].shape, '-> charges for the simulation')\n",
    "    print('simulation_continued_train[{}].shape:'.format(i), simulation_continued_train[i].shape, '-> (t, 2), (x, y) at every t)')\n",
    "    print('----\\n')"
   ]
  },
  {
   "cell_type": "code",
   "execution_count": 44,
   "id": "f9106543",
   "metadata": {
    "id": "f9106543"
   },
   "outputs": [],
   "source": [
    "def plot_example(x, x_gt=None, x_pred=None, fn=None):\n",
    "    charge_locations = np.array([[-1.53846154, -1.53846154],\n",
    "                                 [ 1.53846154, -1.53846154],\n",
    "                                 [ 0.        ,  1.53846154]])  # charge locations are fixed\n",
    "    fig = plt.figure()\n",
    "    axes = plt.gca()\n",
    "    axes.set_xlim([-5., 5.])\n",
    "    axes.set_ylim([-5., 5.])\n",
    "    cmap = matplotlib.cm.get_cmap('tab20')\n",
    "    plt.plot(x[:, 0], x[:, 1], color=cmap(0))\n",
    "    plt.plot(x[0, 0], x[0, 1], 'd', color=cmap(1))\n",
    "    fig.set_size_inches(5, 5)\n",
    "    for charge in charge_locations:\n",
    "        plt.plot(charge[0], charge[1], 'd', color='black')\n",
    "    if x_gt is not None:\n",
    "        plt.plot(x_gt[:, 0], x_gt[:, 1], color='red', linewidth=.5)\n",
    "    if x_pred is not None:\n",
    "        plt.plot(x_pred[:, 0], x_pred[:, 1], color='green', linestyle='--')\n",
    "    if fn is None:\n",
    "        plt.show()\n",
    "    else:\n",
    "        plt.savefig(fn)"
   ]
  },
  {
   "cell_type": "code",
   "execution_count": 45,
   "id": "d28681a6",
   "metadata": {
    "colab": {
     "base_uri": "https://localhost:8080/",
     "height": 337
    },
    "id": "d28681a6",
    "outputId": "9b44cd40-5d2e-4ba9-b165-4023f183b135"
   },
   "outputs": [
    {
     "data": {
      "image/png": "[encoded data removed]",
      "text/plain": [
       "<Figure size 360x360 with 1 Axes>"
      ]
     },
     "metadata": {
      "needs_background": "light"
     },
     "output_type": "display_data"
    },
    {
     "name": "stdout",
     "output_type": "stream",
     "text": [
      "Charges are [-0.48758687 -0.84045168 -0.15073235]\n"
     ]
    }
   ],
   "source": [
    "test_idx = np.random.randint(150)\n",
    "plot_example(simulation_train[test_idx], simulation_continued_train[test_idx])\n",
    "print(f'Charges are {charges_train[test_idx]}')"
   ]
  },
  {
   "cell_type": "markdown",
   "id": "883762b1",
   "metadata": {
    "id": "883762b1"
   },
   "source": [
    "# Task 3.1"
   ]
  },
  {
   "cell_type": "markdown",
   "id": "4c1ddabe",
   "metadata": {
    "id": "4c1ddabe"
   },
   "source": [
    "## Data Handling and Preprocessing"
   ]
  },
  {
   "cell_type": "code",
   "execution_count": 46,
   "id": "bd9df856",
   "metadata": {
    "id": "bd9df856"
   },
   "outputs": [],
   "source": [
    "# The inputs for this model would be the location of each particle (p1, p2, p3, p4), the initial charges for p2, p3, and p4\n",
    "# The output is a set of charges at every t, for the maximum\n",
    "\n",
    "# 1. Sort the input sequences by length <- Saving this for optimization later\n",
    "# 2. Pad the input sequences to the maximum length per batch, thus minimizing the amount of padding in the input\n",
    "  # This is 110\n",
    "# 3. Put the input sequences into a dataloader, for shuffling and batching\n",
    "\n",
    "# Maybe sorting isn't even necessary, because the sequences are not that long to begin with.\n",
    "# Padding with 0s is usually done, but this could reduce accuracy for longer sequences, as most examples will have 0 at the end.\n",
    "# I think we can combat this by not calculating loss for the sequence past its usefulness.\n"
   ]
  },
  {
   "cell_type": "code",
   "execution_count": 47,
   "id": "7dd9b7c1",
   "metadata": {
    "id": "7dd9b7c1"
   },
   "outputs": [],
   "source": [
    "import torch\n",
    "import torch.nn as nn\n",
    "import torch.nn.functional as F\n",
    "import torch.optim as optim\n"
   ]
  },
  {
   "cell_type": "code",
   "execution_count": 48,
   "id": "4ec1e03a",
   "metadata": {
    "id": "4ec1e03a"
   },
   "outputs": [],
   "source": [
    "simulation_train_tensor_no_padding = torch.zeros(800, 90, 1, 2)\n",
    "simulation_train_tensor_with_padding = torch.zeros(800, 110, 1, 2)\n",
    "simulation_train_no_nothing = []\n",
    "for i in range(800):\n",
    "  tensor = torch.Tensor(simulation_train[i])\n",
    "  simulation_train_no_nothing.append(tensor)\n",
    "  simulation_train_tensor_with_padding[i] = F.pad(tensor, (0,0,0,110 - tensor.shape[0])).unsqueeze(dim=1)\n",
    "  simulation_train_tensor_no_padding[i] = tensor[-90:, :].unsqueeze(dim=1)\n",
    "\n",
    "simulation_eval = torch.zeros(100, 90, 1, 2)\n",
    "simulation_eval_no_nothing = []\n",
    "for i in range(100):\n",
    "  tensor = torch.Tensor(simulation_valid[i])\n",
    "  simulation_eval_no_nothing.append(tensor)\n",
    "  simulation_eval[i] = tensor[-90:, :].unsqueeze(dim=1)\n",
    "\n",
    "simulation_test_no_nothing = []\n",
    "for i in range(100):\n",
    "    tensor = torch.Tensor(simulation_test[i])\n",
    "    simulation_test_no_nothing.append(tensor)"
   ]
  },
  {
   "cell_type": "code",
   "execution_count": 50,
   "id": "lyraAkKykAbz",
   "metadata": {
    "id": "lyraAkKykAbz"
   },
   "outputs": [],
   "source": [
    "from torch.utils.data import Dataset\n",
    "from torch.utils.data import DataLoader\n",
    "\n",
    "class CustomDataset(Dataset):\n",
    "    def __init__(self, input_tensor, output_tensor):\n",
    "        self.input_tensor = input_tensor\n",
    "        self.output_tensor = output_tensor\n",
    "\n",
    "    def __len__(self):\n",
    "        return len(self.input_tensor)\n",
    "\n",
    "    def __getitem__(self, idx):\n",
    "        return self.input_tensor[idx], self.output_tensor[idx].unsqueeze(dim=0)\n",
    "\n",
    "train_dataset = CustomDataset(simulation_train_tensor_no_padding, torch.Tensor(charges_train))\n",
    "train_dataloader = DataLoader(train_dataset, batch_size=1, shuffle=True)\n",
    "\n",
    "train_dataset_padding = CustomDataset(simulation_train_tensor_with_padding, torch.Tensor(charges_train))\n",
    "train_dataloader_padding = DataLoader(train_dataset_padding, batch_size=1, shuffle=True)\n",
    "\n",
    "eval_dataset = CustomDataset(simulation_eval_no_nothing, torch.Tensor(charges_valid))\n",
    "eval_dataloader = DataLoader(eval_dataset, batch_size=1, shuffle=False)\n",
    "\n",
    "test_dataset = CustomDataset(simulation_test_no_nothing, torch.Tensor(charges_test))\n",
    "test_dataloader = DataLoader(test_dataset, batch_size=1, shuffle=False)\n",
    "\n",
    "train_no_nothing = CustomDataset(simulation_train_no_nothing, torch.Tensor(charges_train))\n",
    "train_no_nothing_dataloader = DataLoader(train_no_nothing, batch_size=1, shuffle=True)"
   ]
  },
  {
   "cell_type": "markdown",
   "id": "cc8853f6",
   "metadata": {
    "id": "cc8853f6"
   },
   "source": [
    "## Model Implementation"
   ]
  },
  {
   "cell_type": "code",
   "execution_count": 51,
   "id": "UR1mwYsYl7hW",
   "metadata": {
    "id": "UR1mwYsYl7hW"
   },
   "outputs": [],
   "source": [
    "class LSTM1(nn.Module):\n",
    "    def __init__(self, input_dim, hidden_dim):\n",
    "        super(LSTM1, self).__init__()\n",
    "        self.input_dim = input_dim\n",
    "        self.hidden_dim = hidden_dim\n",
    "        \n",
    "        # Define LSTM layer\n",
    "        self.lstm = nn.LSTM(input_size=input_dim, hidden_size=hidden_dim, batch_first=True)\n",
    "        \n",
    "        # Define a fully connected layer\n",
    "        self.fc =  nn.Linear(hidden_dim, hidden_dim)\n",
    "        #self.out = nn.Linear(128, hidden_dim)\n",
    "        \n",
    "        # Define dropout layer\n",
    "        #self.dropout = nn.Dropout(p=0.5)\n",
    "        \n",
    "    def forward(self, inputs):\n",
    "        # Forward through lstm layer\n",
    "        _, (h_n, c_n) = self.lstm(inputs)\n",
    "        \n",
    "        # Forward through dense layer\n",
    "        hidden = self.fc(h_n)\n",
    "        #hidden = self.dropout(hidden) # Apply drop-out \n",
    "        #hidden = self.out(hidden)\n",
    "        \n",
    "        return hidden"
   ]
  },
  {
   "cell_type": "code",
   "execution_count": null,
   "id": "d62b5aa6",
   "metadata": {
    "id": "d62b5aa6"
   },
   "outputs": [],
   "source": []
  },
  {
   "cell_type": "code",
   "execution_count": null,
   "id": "5192ee18",
   "metadata": {
    "id": "5192ee18"
   },
   "outputs": [],
   "source": []
  },
  {
   "cell_type": "markdown",
   "id": "0e443b7f",
   "metadata": {
    "id": "0e443b7f"
   },
   "source": [
    "## Model Training"
   ]
  },
  {
   "cell_type": "code",
   "execution_count": 52,
   "id": "5a5b0aca",
   "metadata": {
    "colab": {
     "base_uri": "https://localhost:8080/",
     "height": 1000
    },
    "id": "5a5b0aca",
    "outputId": "564ad6ca-90d9-404c-e4bd-f87af2be7472"
   },
   "outputs": [
    {
     "name": "stdout",
     "output_type": "stream",
     "text": [
      "epoch: 1, mean training loss: 0.3807266805670224, mean eval loss: 0.27300089626573026, \n",
      "epoch: 1, training error: [-0.55745953 -0.37543905 -0.5984379 ], \n",
      "epoch: 1, validation error: [-0.509201   -0.2646414  -0.39478347]\n",
      "epoch: 2, mean training loss: 0.18756431355752284, mean eval loss: 0.16541947349905967, \n",
      "epoch: 2, training error: [-0.32265407 -0.20692772 -0.3253155 ], \n",
      "epoch: 2, validation error: [-0.32953265 -0.1430285  -0.19984934]\n",
      "epoch: 3, mean training loss: 0.12565511359018275, mean eval loss: 0.12836050648242237, \n",
      "epoch: 3, training error: [-0.18429326 -0.12198849 -0.18164366], \n",
      "epoch: 3, validation error: [-0.22766903 -0.07543202 -0.09682575]\n",
      "epoch: 4, mean training loss: 0.10414819069992517, mean eval loss: 0.11373626636341214, \n",
      "epoch: 4, training error: [-0.10984867 -0.06977203 -0.10405465], \n",
      "epoch: 4, validation error: [-0.16894335 -0.04026895 -0.04246012]\n",
      "epoch: 5, mean training loss: 0.09533961731154704, mean eval loss: 0.1069355620071292, \n",
      "epoch: 5, training error: [-0.06440855 -0.04194357 -0.06080335], \n",
      "epoch: 5, validation error: [-0.13707364 -0.02166637 -0.01444578]\n",
      "epoch: 6, mean training loss: 0.0909433535093558, mean eval loss: 0.10305987775325776, \n",
      "epoch: 6, training error: [-0.04072614 -0.02783881 -0.03949931], \n",
      "epoch: 6, validation error: [-0.1189757  -0.01097259  0.00151548]\n",
      "epoch: 7, mean training loss: 0.08828001184025197, mean eval loss: 0.10062050269916653, \n",
      "epoch: 7, training error: [-0.02560149 -0.01840295 -0.03202184], \n",
      "epoch: 7, validation error: [-0.10966522 -0.00529308  0.01401114]\n",
      "epoch: 8, mean training loss: 0.0865007499732019, mean eval loss: 0.09888649697881192, \n",
      "epoch: 8, training error: [-0.01782994 -0.01444858 -0.01799745], \n",
      "epoch: 8, validation error: [-0.10450646 -0.00124681  0.01871784]\n",
      "epoch: 9, mean training loss: 0.08520564184771501, mean eval loss: 0.09749364979099483, \n",
      "epoch: 9, training error: [-0.01518032 -0.01039534 -0.01197458], \n",
      "epoch: 9, validation error: [-0.10014477  0.00078383  0.02037093]\n",
      "epoch: 10, mean training loss: 0.08421941110675107, mean eval loss: 0.09640560156665742, \n",
      "epoch: 10, training error: [-0.01412089 -0.01052511 -0.01291124], \n",
      "epoch: 10, validation error: [-0.09607831  0.00363005  0.02357082]\n",
      "epoch: 11, mean training loss: 0.0834513581986539, mean eval loss: 0.09559223296120763, \n",
      "epoch: 11, training error: [-0.00874765 -0.00485766 -0.01075536], \n",
      "epoch: 11, validation error: [-0.0948856   0.00345495  0.02605756]\n",
      "epoch: 12, mean training loss: 0.08283780742778618, mean eval loss: 0.0950022275513038, \n",
      "epoch: 12, training error: [-0.00666192 -0.00723043 -0.00921566], \n",
      "epoch: 12, validation error: [-0.09468239  0.00542013  0.02819848]\n",
      "epoch: 13, mean training loss: 0.08233962824924675, mean eval loss: 0.09427718250080944, \n",
      "epoch: 13, training error: [-0.01067106 -0.00371161 -0.00372056], \n",
      "epoch: 13, validation error: [-0.09123772  0.00538584  0.02709156]\n",
      "epoch: 14, mean training loss: 0.08193090575397946, mean eval loss: 0.09379112677183002, \n",
      "epoch: 14, training error: [-0.00578322 -0.00303351 -0.00405789], \n",
      "epoch: 14, validation error: [-0.09078202  0.00539285  0.02682286]\n",
      "epoch: 15, mean training loss: 0.08158939675471628, mean eval loss: 0.09337513793259859, \n",
      "epoch: 15, training error: [-0.00632606 -0.00481841 -0.00550146], \n",
      "epoch: 15, validation error: [-0.08966899  0.0068789   0.0278125 ]\n",
      "epoch: 16, mean training loss: 0.0812864592311962, mean eval loss: 0.09309490809217096, \n",
      "epoch: 16, training error: [-0.00323054 -0.00457171 -0.00407327], \n",
      "epoch: 16, validation error: [-0.0903003   0.00856433  0.02827334]\n",
      "epoch: 17, mean training loss: 0.08103338883476681, mean eval loss: 0.09273534609936178, \n",
      "epoch: 17, training error: [-0.00614854 -0.00223748 -0.00543072], \n",
      "epoch: 17, validation error: [-0.08868898  0.00895291  0.02984886]\n",
      "epoch: 18, mean training loss: 0.08080121696097194, mean eval loss: 0.0924772507417947, \n",
      "epoch: 18, training error: [-0.00260143 -0.00021784 -0.00344785], \n",
      "epoch: 18, validation error: [-0.0891808   0.00826437  0.03042386]\n",
      "epoch: 19, mean training loss: 0.08060100747854448, mean eval loss: 0.09215105166658759, \n",
      "epoch: 19, training error: [-0.00524551 -0.00167711 -0.00192427], \n",
      "epoch: 19, validation error: [-0.08773112  0.00865215  0.03015178]\n",
      "epoch: 20, mean training loss: 0.08041513906719047, mean eval loss: 0.09186823258176446, \n",
      "epoch: 20, training error: [-0.00418827 -0.00113625 -0.00230622], \n",
      "epoch: 20, validation error: [-0.08683962  0.00875877  0.0302691 ]\n",
      "epoch: 21, mean training loss: 0.08024200262305385, mean eval loss: 0.09158746785018593, \n",
      "epoch: 21, training error: [-0.00426432 -0.0009741  -0.00200602], \n",
      "epoch: 21, validation error: [-0.08567044  0.00890614  0.03033417]\n",
      "epoch: 22, mean training loss: 0.08008073982666247, mean eval loss: 0.09139775961171835, \n",
      "epoch: 22, training error: [-0.00240877 -0.00146439 -0.00304135], \n",
      "epoch: 22, validation error: [-0.08560562  0.00958411  0.03117248]\n",
      "epoch: 23, mean training loss: 0.07992640985830804, mean eval loss: 0.09116233548149466, \n",
      "epoch: 23, training error: [-0.00305626 -0.00138759 -0.00094396], \n",
      "epoch: 23, validation error: [-0.0850946   0.01020611  0.03064484]\n",
      "epoch: 24, mean training loss: 0.07977254729834385, mean eval loss: 0.09096921318676322, \n",
      "epoch: 24, training error: [-0.00073494 -0.0009942  -0.00013992], \n",
      "epoch: 24, validation error: [-0.08582619  0.01069185  0.02975169]\n",
      "epoch: 25, mean training loss: 0.0796219533567637, mean eval loss: 0.09075932685285806, \n",
      "epoch: 25, training error: [-0.00226624  0.00097467 -0.00189735], \n",
      "epoch: 25, validation error: [-0.08545095  0.01020649  0.03005831]\n",
      "epoch: 26, mean training loss: 0.07947333666350459, mean eval loss: 0.09067108531482518, \n",
      "epoch: 26, training error: [ 0.00055742  0.00330327 -0.00179439], \n",
      "epoch: 26, validation error: [-0.08668897  0.00827746  0.03060716]\n",
      "epoch: 27, mean training loss: 0.07937377383379499, mean eval loss: 0.09062649342697114, \n",
      "epoch: 27, training error: [ 0.00018729 -0.00113742 -0.00099605], \n",
      "epoch: 27, validation error: [-0.08778942  0.00912385  0.03078553]\n",
      "epoch: 28, mean training loss: 0.0792841703745944, mean eval loss: 0.09042986702173948, \n",
      "epoch: 28, training error: [-4.1959947e-03 -2.1745274e-03 -6.8189467e-05], \n",
      "epoch: 28, validation error: [-0.08590865  0.01061156  0.03037076]\n",
      "epoch: 29, mean training loss: 0.07918630500302243, mean eval loss: 0.09023704364895821, \n",
      "epoch: 29, training error: [-0.00312788  0.0025479  -0.00156746], \n",
      "epoch: 29, validation error: [-0.08466752  0.00905369  0.03099626]\n",
      "epoch: 30, mean training loss: 0.07908350399469782, mean eval loss: 0.09012317959219217, \n",
      "epoch: 30, training error: [-1.0206032e-03  6.7014138e-05  3.4730826e-03], \n",
      "epoch: 30, validation error: [-0.08478144  0.00925701  0.02845319]\n",
      "epoch: 31, mean training loss: 0.07899947977086413, mean eval loss: 0.08997838984243572, \n",
      "epoch: 31, training error: [-0.00248004 -0.00020058  0.00128562], \n",
      "epoch: 31, validation error: [-0.08394313  0.00966452  0.02729326]\n",
      "epoch: 32, mean training loss: 0.07892186016499181, mean eval loss: 0.0899424323393032, \n",
      "epoch: 32, training error: [-0.00040019  0.00022611 -0.00297488], \n",
      "epoch: 32, validation error: [-0.0845385   0.00978934  0.02889768]\n",
      "epoch: 33, mean training loss: 0.07883665080167702, mean eval loss: 0.08988462689332664, \n",
      "epoch: 33, training error: [-0.0006218   0.00029851 -0.00190481], \n",
      "epoch: 33, validation error: [-0.08491635  0.00992383  0.02979643]\n",
      "epoch: 34, mean training loss: 0.07875652777482173, mean eval loss: 0.08970315204933285, \n",
      "epoch: 34, training error: [-0.00376076  0.0017949  -0.00046299], \n",
      "epoch: 34, validation error: [-0.08319053  0.00899937  0.02982128]\n",
      "epoch: 35, mean training loss: 0.07867596688993217, mean eval loss: 0.08957109415903687, \n",
      "epoch: 35, training error: [-0.00288545 -0.00037298 -0.00192002], \n",
      "epoch: 35, validation error: [-0.08207637  0.00953902  0.03076804]\n",
      "epoch: 36, mean training loss: 0.07859623228781856, mean eval loss: 0.0895649467362091, \n",
      "epoch: 36, training error: [ 0.00167269  0.00137703 -0.00091745], \n",
      "epoch: 36, validation error: [-0.083882    0.00904533  0.03111392]\n",
      "epoch: 37, mean training loss: 0.07852638221724191, mean eval loss: 0.08939670175779611, \n",
      "epoch: 37, training error: [-0.00303229  0.00108512  0.00134083], \n",
      "epoch: 37, validation error: [-0.08259534  0.00863373  0.02997337]\n"
     ]
    },
    {
     "name": "stdout",
     "output_type": "stream",
     "text": [
      "epoch: 38, mean training loss: 0.07845263006107416, mean eval loss: 0.08924747588112951, \n",
      "epoch: 38, training error: [-0.00301908  0.00043711 -0.00078653], \n",
      "epoch: 38, validation error: [-0.08128196  0.00857923  0.03030329]\n",
      "epoch: 39, mean training loss: 0.07837569065406569, mean eval loss: 0.08905614224262536, \n",
      "epoch: 39, training error: [-0.0030266   0.00255368  0.00209219], \n",
      "epoch: 39, validation error: [-0.07998019  0.00728311  0.02870242]\n",
      "epoch: 40, mean training loss: 0.07830916917213472, mean eval loss: 0.08911000456195324, \n",
      "epoch: 40, training error: [ 0.00188778 -0.00045    -0.00028023], \n",
      "epoch: 40, validation error: [-0.08196814  0.00807602  0.02871835]\n",
      "epoch: 41, mean training loss: 0.07824032972654095, mean eval loss: 0.08891068233177066, \n",
      "epoch: 41, training error: [-0.00386647  0.00250535 -0.00098883], \n",
      "epoch: 41, validation error: [-0.08005252  0.00676995  0.02912591]\n",
      "epoch: 42, mean training loss: 0.07817560389514255, mean eval loss: 0.08883294112049044, \n",
      "epoch: 42, training error: [-0.00071438  0.00157162 -0.00037153], \n",
      "epoch: 42, validation error: [-0.08030061  0.0061021   0.02928296]\n",
      "epoch: 43, mean training loss: 0.07810459691398136, mean eval loss: 0.08885486274957657, \n",
      "epoch: 43, training error: [ 0.00023823 -0.00134201 -0.00349952], \n",
      "epoch: 43, validation error: [-0.08126815  0.00749978  0.03149002]\n",
      "epoch: 44, mean training loss: 0.07804705090515199, mean eval loss: 0.08874853320419789, \n",
      "epoch: 44, training error: [-0.00193615 -0.00051303  0.00165988], \n",
      "epoch: 44, validation error: [-0.0807102   0.00824858  0.03039392]\n",
      "epoch: 45, mean training loss: 0.0779836631056969, mean eval loss: 0.08869280830025673, \n",
      "epoch: 45, training error: [-0.00082884  0.00180596 -0.00082386], \n",
      "epoch: 45, validation error: [-0.08092366  0.00751489  0.03079951]\n",
      "epoch: 46, mean training loss: 0.07791918041795726, mean eval loss: 0.08861428081057966, \n",
      "epoch: 46, training error: [-0.00083041  0.00013937  0.00310484], \n",
      "epoch: 46, validation error: [-0.08099987  0.0077977   0.02879168]\n",
      "epoch: 47, mean training loss: 0.07786186873563565, mean eval loss: 0.08861063182353973, \n",
      "epoch: 47, training error: [ 0.00068084  0.00102902 -0.00153921], \n",
      "epoch: 47, validation error: [-0.08216027  0.0076429   0.02966167]\n",
      "epoch: 48, mean training loss: 0.07780533766672307, mean eval loss: 0.08847963676322251, \n",
      "epoch: 48, training error: [-0.00247131  0.00145903 -0.00078142], \n",
      "epoch: 48, validation error: [-0.08122029  0.00709637  0.0300632 ]\n",
      "epoch: 49, mean training loss: 0.07774108851779601, mean eval loss: 0.08848225807305425, \n",
      "epoch: 49, training error: [0.0015476  0.0018006  0.00038349], \n",
      "epoch: 49, validation error: [-0.08293762  0.0064654   0.02979073]\n",
      "epoch: 50, mean training loss: 0.07769193339503545, mean eval loss: 0.08836211654357612, \n",
      "epoch: 50, training error: [-0.00280135  0.00186786 -0.00124457], \n",
      "epoch: 50, validation error: [-0.08176476  0.00565322  0.03052572]\n",
      "epoch: 51, mean training loss: 0.07763147146361007, mean eval loss: 0.08823672079946845, \n",
      "epoch: 51, training error: [-0.00273048  0.00062019  0.00331195], \n",
      "epoch: 51, validation error: [-0.08069359  0.00568767  0.02841788]\n",
      "epoch: 52, mean training loss: 0.07757822910971299, mean eval loss: 0.08815696097444743, \n",
      "epoch: 52, training error: [-0.00092765  0.00083759  0.002667  ], \n",
      "epoch: 52, validation error: [-0.0807403   0.00558038  0.02661907]\n",
      "epoch: 53, mean training loss: 0.07752911514260631, mean eval loss: 0.0881173690687865, \n",
      "epoch: 53, training error: [-3.4710442e-04  7.4946292e-04  2.5137701e-05], \n",
      "epoch: 53, validation error: [-0.08114965  0.00577618  0.02659116]\n",
      "epoch: 54, mean training loss: 0.07747876056615496, mean eval loss: 0.08807070645503699, \n",
      "epoch: 54, training error: [-0.00163402  0.00016911 -0.00173384], \n",
      "epoch: 54, validation error: [-0.08090476  0.00614106  0.02782341]\n",
      "epoch: 55, mean training loss: 0.07742771552948398, mean eval loss: 0.0879732815735042, \n",
      "epoch: 55, training error: [-0.00208404  0.00093306 -0.0012455 ], \n",
      "epoch: 55, validation error: [-0.08025877  0.00598859  0.02854253]\n",
      "epoch: 56, mean training loss: 0.07737077367070015, mean eval loss: 0.08790911403950304, \n",
      "epoch: 56, training error: [-0.00177848 -0.00099721  0.00247178], \n",
      "epoch: 56, validation error: [-0.07973548  0.00714844  0.02709308]\n",
      "epoch: 57, mean training loss: 0.07733052747345937, mean eval loss: 0.08780823965556919, \n",
      "epoch: 57, training error: [-0.00177948  0.00156974 -0.00053244], \n",
      "epoch: 57, validation error: [-0.07930455  0.00654299  0.02740416]\n",
      "epoch: 58, mean training loss: 0.07727495734332479, mean eval loss: 0.08772221607156098, \n",
      "epoch: 58, training error: [-0.00214233  0.00115526  0.00089908], \n",
      "epoch: 58, validation error: [-0.07860042  0.00626755  0.02684372]\n",
      "epoch: 59, mean training loss: 0.07723144142837554, mean eval loss: 0.08769022348336876, \n",
      "epoch: 59, training error: [-0.00065099  0.00099504  0.00018955], \n",
      "epoch: 59, validation error: [-0.0788129   0.00619601  0.02676515]\n",
      "epoch: 60, mean training loss: 0.07718758230374079, mean eval loss: 0.08765585529617965, \n",
      "epoch: 60, training error: [-2.5601522e-04 -4.2653046e-05 -9.9532108e-04], \n",
      "epoch: 60, validation error: [-0.07938408  0.00672423  0.02740495]\n",
      "epoch: 61, mean training loss: 0.07713548289248137, mean eval loss: 0.08751802119426429, \n",
      "epoch: 61, training error: [-0.00342975  0.00117064  0.0015433 ], \n",
      "epoch: 61, validation error: [-0.07771381  0.00637335  0.02647183]\n",
      "epoch: 62, mean training loss: 0.07709534519301087, mean eval loss: 0.08752113982103765, \n",
      "epoch: 62, training error: [ 9.1164860e-05  1.4348857e-03 -2.7622727e-03], \n",
      "epoch: 62, validation error: [-0.07846802  0.00602569  0.02840073]\n",
      "epoch: 63, mean training loss: 0.07704821830862783, mean eval loss: 0.08752559770829976, \n",
      "epoch: 63, training error: [0.00134816 0.00118168 0.00252231], \n",
      "epoch: 63, validation error: [-0.07992714  0.00588946  0.02690387]\n",
      "epoch: 64, mean training loss: 0.07700137247891689, mean eval loss: 0.08749772459734231, \n",
      "epoch: 64, training error: [0.00030503 0.00239486 0.00238554], \n",
      "epoch: 64, validation error: [-0.0807042   0.00494765  0.02549951]\n",
      "epoch: 65, mean training loss: 0.0769671030569225, mean eval loss: 0.08738887115381658, \n",
      "epoch: 65, training error: [-2.3416197e-03  1.7173283e-03 -5.2097737e-05], \n",
      "epoch: 65, validation error: [-0.07980659  0.00427724  0.02555482]\n",
      "epoch: 66, mean training loss: 0.07692270036393893, mean eval loss: 0.08735881514381617, \n",
      "epoch: 66, training error: [-0.00109161 -0.00112566 -0.00014601], \n",
      "epoch: 66, validation error: [-0.07986806  0.00561515  0.02579031]\n",
      "epoch: 67, mean training loss: 0.07687878798828024, mean eval loss: 0.08725357111077756, \n",
      "epoch: 67, training error: [-0.00226432  0.00232156  0.00025049], \n",
      "epoch: 67, validation error: [-0.07901541  0.00458172  0.02573557]\n",
      "epoch: 68, mean training loss: 0.07683710035820696, mean eval loss: 0.08726634000893682, \n",
      "epoch: 68, training error: [ 0.00029664 -0.00025512  0.00199182], \n",
      "epoch: 68, validation error: [-0.07991863  0.00537648  0.02473312]\n",
      "epoch: 69, mean training loss: 0.07680114803304605, mean eval loss: 0.08718505030497908, \n",
      "epoch: 69, training error: [-0.00225871  0.00126703  0.00028334], \n",
      "epoch: 69, validation error: [-0.07906844  0.00506323  0.02480353]\n",
      "epoch: 70, mean training loss: 0.07675998614551645, mean eval loss: 0.08719344966113568, \n",
      "epoch: 70, training error: [ 0.00049461  0.0029549  -0.00153939], \n",
      "epoch: 70, validation error: [-0.08004571  0.00386255  0.02608907]\n",
      "epoch: 71, mean training loss: 0.0767228863206401, mean eval loss: 0.0871525905560702, \n",
      "epoch: 71, training error: [-0.00069802 -0.00067981  0.00046988], \n",
      "epoch: 71, validation error: [-0.08020872  0.0048515   0.02593972]\n",
      "epoch: 72, mean training loss: 0.07667639034705644, mean eval loss: 0.0871573618799448, \n",
      "epoch: 72, training error: [-0.00089483 -0.00269276 -0.00180439], \n",
      "epoch: 72, validation error: [-0.08041038  0.00727189  0.02743638]\n",
      "epoch: 73, mean training loss: 0.07664596249924216, mean eval loss: 0.08702905524522066, \n",
      "epoch: 73, training error: [-0.00354014  0.00137749  0.00125387], \n",
      "epoch: 73, validation error: [-0.07865808  0.0068714   0.02671207]\n",
      "epoch: 74, mean training loss: 0.07660867898419382, mean eval loss: 0.08698608329519629, \n",
      "epoch: 74, training error: [-0.00150377  0.00116006 -0.00157145], \n",
      "epoch: 74, validation error: [-0.07839012  0.00674567  0.028014  ]\n"
     ]
    },
    {
     "name": "stdout",
     "output_type": "stream",
     "text": [
      "epoch: 75, mean training loss: 0.07657606535249215, mean eval loss: 0.08697804590687155, \n",
      "epoch: 75, training error: [ 2.8292759e-05  1.9519100e-03 -5.3052395e-04], \n",
      "epoch: 75, validation error: [-0.07905068  0.0061111   0.02867614]\n",
      "epoch: 76, mean training loss: 0.0765364401730767, mean eval loss: 0.08695722576230765, \n",
      "epoch: 76, training error: [-2.4962754e-04  6.0489028e-06  5.5809738e-04], \n",
      "epoch: 76, validation error: [-0.07953533  0.00665932  0.02861756]\n",
      "epoch: 77, mean training loss: 0.07650419326459086, mean eval loss: 0.08689932028762996, \n",
      "epoch: 77, training error: [-0.00082442  0.00109     0.00226201], \n",
      "epoch: 77, validation error: [-0.07956935  0.00647972  0.02734413]\n",
      "epoch: 78, mean training loss: 0.07647100810845586, mean eval loss: 0.08681477127596736, \n",
      "epoch: 78, training error: [-0.00145972  0.00300577  0.00207632], \n",
      "epoch: 78, validation error: [-0.07910036  0.0049995   0.02619187]\n",
      "epoch: 79, mean training loss: 0.0764292109843518, mean eval loss: 0.08683849011547863, \n",
      "epoch: 79, training error: [-0.00045232 -0.00044809 -0.00252168], \n",
      "epoch: 79, validation error: [-0.07943957  0.00605554  0.02823918]\n",
      "epoch: 80, mean training loss: 0.07639692306049256, mean eval loss: 0.08669882060959935, \n",
      "epoch: 80, training error: [-0.00326321  0.003421    0.001602  ], \n",
      "epoch: 80, validation error: [-0.07771448  0.00427207  0.02746946]\n",
      "epoch: 81, mean training loss: 0.07636469215431134, mean eval loss: 0.08666995436884463, \n",
      "epoch: 81, training error: [-0.00115901 -0.00057694  0.00189038], \n",
      "epoch: 81, validation error: [-0.07762845  0.00530344  0.02651377]\n",
      "epoch: 82, mean training loss: 0.0763358220981172, mean eval loss: 0.086616977090016, \n",
      "epoch: 82, training error: [-0.00045174  0.00213855  0.00142577], \n",
      "epoch: 82, validation error: [-0.07779899  0.00429261  0.02574717]\n",
      "epoch: 83, mean training loss: 0.07630216514407948, mean eval loss: 0.08660488359630109, \n",
      "epoch: 83, training error: [-0.00015304  0.00054609  0.000821  ], \n",
      "epoch: 83, validation error: [-0.07829469  0.00455931  0.0254627 ]\n",
      "epoch: 84, mean training loss: 0.07627203255724453, mean eval loss: 0.08659306958317757, \n",
      "epoch: 84, training error: [0.00050832 0.00274223 0.00117098], \n",
      "epoch: 84, validation error: [-0.07908121  0.003305    0.0250144 ]\n",
      "epoch: 85, mean training loss: 0.07624123919977137, mean eval loss: 0.08657253010198473, \n",
      "epoch: 85, training error: [-0.0009552   0.00013012 -0.000205  ], \n",
      "epoch: 85, validation error: [-0.07914315  0.00390176  0.02554397]\n",
      "epoch: 86, mean training loss: 0.07620712666095641, mean eval loss: 0.08651166251860559, \n",
      "epoch: 86, training error: [-0.00160505  0.00281513 -0.00048812], \n",
      "epoch: 86, validation error: [-0.07854132  0.00264692  0.02622877]\n",
      "epoch: 87, mean training loss: 0.07617324521270348, mean eval loss: 0.0864720849879086, \n",
      "epoch: 87, training error: [-0.00180722  0.00184376 -0.00201415], \n",
      "epoch: 87, validation error: [-0.07791577  0.00212443  0.02799099]\n",
      "epoch: 88, mean training loss: 0.07613665113389288, mean eval loss: 0.08636495618149638, \n",
      "epoch: 88, training error: [-0.00429086 -0.00174367 -0.00098032], \n",
      "epoch: 88, validation error: [-0.07575376  0.00381768  0.02895976]\n",
      "epoch: 89, mean training loss: 0.07612268871147534, mean eval loss: 0.08640405603684485, \n",
      "epoch: 89, training error: [0.00220282 0.00153062 0.00286136], \n",
      "epoch: 89, validation error: [-0.07763492  0.00344951  0.02743657]\n",
      "epoch: 90, mean training loss: 0.07609190158545971, mean eval loss: 0.08636585933156311, \n",
      "epoch: 90, training error: [-0.00047499  0.00253718  0.00235014], \n",
      "epoch: 90, validation error: [-0.07778386  0.00237023  0.02625226]\n",
      "epoch: 91, mean training loss: 0.07606192248544176, mean eval loss: 0.08637726660817861, \n",
      "epoch: 91, training error: [ 0.00068717 -0.00047432  0.00278735], \n",
      "epoch: 91, validation error: [-0.07878274  0.00325668  0.02474578]\n",
      "epoch: 92, mean training loss: 0.0760340607445687, mean eval loss: 0.08641816661693155, \n",
      "epoch: 92, training error: [0.00101176 0.0006383  0.00029068], \n",
      "epoch: 92, validation error: [-0.08006862  0.00363434  0.02506397]\n",
      "epoch: 93, mean training loss: 0.0760078045892078, mean eval loss: 0.0863219190016389, \n",
      "epoch: 93, training error: [-0.00287385  0.00109454  0.0005717 ], \n",
      "epoch: 93, validation error: [-0.07874149  0.00343916  0.02502138]\n",
      "epoch: 94, mean training loss: 0.07596999568933825, mean eval loss: 0.08633383302018047, \n",
      "epoch: 94, training error: [-0.00089284 -0.00113474 -0.00190683], \n",
      "epoch: 94, validation error: [-0.07883277  0.0049932   0.02697576]\n",
      "epoch: 95, mean training loss: 0.07595328634180987, mean eval loss: 0.08624480082653463, \n",
      "epoch: 95, training error: [-0.00155445  0.00202485  0.00327757], \n",
      "epoch: 95, validation error: [-0.0781486   0.00394975  0.02497539]\n",
      "epoch: 96, mean training loss: 0.0759153418585629, mean eval loss: 0.08632253419607877, \n",
      "epoch: 96, training error: [ 0.00275683  0.00289169 -0.00146334], \n",
      "epoch: 96, validation error: [-0.0803461   0.00275535  0.02623787]\n",
      "epoch: 97, mean training loss: 0.0758982945554817, mean eval loss: 0.08628215963952243, \n",
      "epoch: 97, training error: [-0.00158688  0.00152998 -0.00141015], \n",
      "epoch: 97, validation error: [-0.07978991  0.00241246  0.02767701]\n",
      "epoch: 98, mean training loss: 0.07587590159360844, mean eval loss: 0.086192183829844, \n",
      "epoch: 98, training error: [-0.00255375 -0.00017236  0.00156472], \n",
      "epoch: 98, validation error: [-0.07850015  0.00297216  0.02708852]\n",
      "epoch: 99, mean training loss: 0.07584734534020754, mean eval loss: 0.08609799204394221, \n",
      "epoch: 99, training error: [-0.0021111   0.00151536  0.00358533], \n",
      "epoch: 99, validation error: [-0.07753423  0.00237185  0.02491529]\n",
      "epoch: 100, mean training loss: 0.07582093330018325, mean eval loss: 0.08613909823819994, \n",
      "epoch: 100, training error: [ 0.00047194 -0.00213953 -0.00048058], \n",
      "epoch: 100, validation error: [-0.07840642  0.00442303  0.02567794]\n"
     ]
    }
   ],
   "source": [
    "# Define runtime device\n",
    "dev = torch.device(\"cuda\") if torch.cuda.is_available() else torch.device(\"cpu\")\n",
    "\n",
    "# Hyper parameter and model definition\n",
    "input_dim = 2\n",
    "hidden_dim = 3\n",
    "lstm = LSTM1(input_dim, hidden_dim).to(dev)\n",
    "\n",
    "criterion = nn.MSELoss()\n",
    "learning_rate = 0.001\n",
    "optimizer = torch.optim.SGD(lstm.parameters(), lr = learning_rate)\n",
    "num_epochs = 100\n",
    "dataloader = train_no_nothing_dataloader\n",
    "\n",
    "lossPerEpoch = np.empty((num_epochs, 1))\n",
    "lossEvalPerEpoch = np.empty((num_epochs, 1))\n",
    "lossTestPerEpoch = np.empty((num_epochs, 1))\n",
    "errorPerEpoch = np.empty((num_epochs, 3))\n",
    "\n",
    "for epoch in range(num_epochs):\n",
    "  total_loss = 0\n",
    "  total_eval_loss = 0\n",
    "  total_test_loss = 0\n",
    "  total_error = 0\n",
    "  total_validation_error = 0\n",
    "\n",
    "  # Set in train mode\n",
    "  lstm.train()\n",
    "\n",
    "  # Train the model\n",
    "  iterator = iter(dataloader)\n",
    "  for i in range(len(iterator)):\n",
    "    x, y = next(iterator)\n",
    "    \n",
    "    # Move to GPU\n",
    "    x = x.to(dev)\n",
    "    y = y.to(dev)\n",
    "\n",
    "    # Propagate forward\n",
    "    hidden = lstm(x[0])\n",
    "    \n",
    "    # Compute loss\n",
    "    loss = criterion(hidden, y[0])\n",
    "    total_loss += loss.item()\n",
    "    \n",
    "    # Store error per for each prediction [c2 c3 c4]\n",
    "    expected = y[0][0].cpu().numpy()\n",
    "    predicted = hidden[0].cpu().detach().numpy()\n",
    "    total_error += expected - predicted\n",
    "    \n",
    "    # Backward propagate\n",
    "    optimizer.zero_grad()\n",
    "    loss.backward()\n",
    "    optimizer.step()\n",
    "  \n",
    "  # Set in eval mode\n",
    "  lstm.eval()\n",
    "\n",
    "  # Evaluate loss on verification set\n",
    "  eval_iterator = iter(eval_dataloader)\n",
    "  for i in range(len(eval_iterator)):\n",
    "    with torch.no_grad():\n",
    "      x, y = next(eval_iterator)\n",
    "    \n",
    "      # Move to GPU\n",
    "      x = x.to(dev)\n",
    "      y = y.to(dev)\n",
    "    \n",
    "      # Propagate forward\n",
    "      hidden = lstm(x[0])\n",
    "    \n",
    "      # Compute loss\n",
    "      loss = criterion(hidden, y[0])\n",
    "      total_eval_loss += loss.item()\n",
    "        \n",
    "      # Store error per for each prediction [c2 c3 c4]\n",
    "      expected = y[0][0].cpu().numpy()\n",
    "      predicted = hidden[0].cpu().detach().numpy()\n",
    "      total_validation_error += expected - predicted\n",
    "        \n",
    "  # Evaluate loss on test set\n",
    "  test_iterator = iter(test_dataloader)\n",
    "  for i in range(len(test_iterator)):\n",
    "    with torch.no_grad():\n",
    "      x, y = next(test_iterator)\n",
    "    \n",
    "      # Move to GPU\n",
    "      x = x.to(dev)\n",
    "      y = y.to(dev)\n",
    "    \n",
    "      # Propagate forward\n",
    "      hidden = lstm(x[0])\n",
    "    \n",
    "      # Compute loss\n",
    "      loss = criterion(hidden, y[0])\n",
    "      total_test_loss += loss.item()\n",
    "        \n",
    "      # Store error per for each prediction [c2 c3 c4]\n",
    "      #expected = y[0][0].cpu().numpy()\n",
    "      #predicted = hidden[0].cpu().detach().numpy()\n",
    "      #total_test_error += expected - predicted\n",
    "    \n",
    "        \n",
    "  average_training_loss = total_loss / len(iterator)\n",
    "  average_eval_loss = total_eval_loss / len(eval_iterator)\n",
    "  average_test_loss = total_test_loss / len(test_iterator)\n",
    "  average_training_error = total_error / len(iterator)\n",
    "  average_validation_error = total_validation_error / len(eval_iterator)\n",
    "    \n",
    "  lossPerEpoch[epoch] = average_training_loss\n",
    "  lossEvalPerEpoch[epoch] = average_eval_loss\n",
    "  lossTestPerEpoch[epoch] = average_test_loss\n",
    "  errorPerEpoch[epoch] = average_training_error\n",
    "\n",
    "  print(f'epoch: {epoch+1}, mean training loss: {average_training_loss}, mean eval loss: {average_eval_loss}, \\nepoch: {epoch+1}, training error: {average_training_error}, \\nepoch: {epoch+1}, validation error: {average_validation_error}')\n",
    "\n",
    "  \n",
    "\n",
    "#TODO: Might need to zero out the hidden state of lstm, but maybe not\n",
    "#TODO: Experiment with num_layers\n"
   ]
  },
  {
   "cell_type": "code",
   "execution_count": 53,
   "id": "58348edd",
   "metadata": {
    "id": "58348edd"
   },
   "outputs": [],
   "source": [
    "# without padding :epoch: 25, mean training loss: 0.08195400983095169, mean eval loss: 0.09817712453918324\n",
    "# epoch: 100, mean training loss: 0.0861954316496849, mean eval loss: 0.10278522804379463"
   ]
  },
  {
   "cell_type": "code",
   "execution_count": 54,
   "id": "176b3ea3",
   "metadata": {
    "id": "176b3ea3"
   },
   "outputs": [
    {
     "name": "stdout",
     "output_type": "stream",
     "text": [
      "100\n",
      "torch.Size([1, 3])\n",
      "torch.Size([1, 3])\n"
     ]
    }
   ],
   "source": [
    "# without any cutting : epoch: 56, mean training loss: 0.07555700838565826, mean eval loss: 0.08626986091025174\n",
    "# With linear layer: epoch: 56, mean training loss: 0.07898687571287155, mean eval loss: 0.08656595157459378\n",
    "# With reLU + linear layer: epoch: 56, mean training loss: 0.08114010095596313, mean eval loss: 0.09263360679149628"
   ]
  },
  {
   "cell_type": "markdown",
   "id": "da139d5b",
   "metadata": {
    "id": "da139d5b"
   },
   "source": [
    "## Evaluation"
   ]
  },
  {
   "cell_type": "code",
   "execution_count": 55,
   "id": "ebed03ba",
   "metadata": {
    "id": "ebed03ba"
   },
   "outputs": [
    {
     "data": {
      "image/png": "[encoded data removed]",
      "text/plain": [
       "<Figure size 432x288 with 1 Axes>"
      ]
     },
     "metadata": {
      "needs_background": "light"
     },
     "output_type": "display_data"
    }
   ],
   "source": [
    "# Plot the loss curve\n",
    "plt.figure()\n",
    "plt.plot(range(num_epochs), lossPerEpoch, \"b-\", label=\"Training loss\")\n",
    "plt.plot(range(num_epochs), lossEvalPerEpoch, \"g-\", label=\"Validation loss\")\n",
    "plt.plot(range(num_epochs), lossTestPerEpoch, \"r-\", label=\"Test loss\")\n",
    "plt.legend(loc=\"upper right\")\n",
    "plt.xlabel(\"Epoch\")\n",
    "plt.ylabel(\"Observed loss\")\n",
    "plt.title(\"Model training\")\n",
    "plt.show()"
   ]
  },
  {
   "cell_type": "code",
   "execution_count": 56,
   "id": "e0cfa328",
   "metadata": {},
   "outputs": [
    {
     "data": {
      "image/png": "[encoded data removed]",
      "text/plain": [
       "<Figure size 432x288 with 1 Axes>"
      ]
     },
     "metadata": {
      "needs_background": "light"
     },
     "output_type": "display_data"
    }
   ],
   "source": [
    "# Plot the error\n",
    "plt.figure()\n",
    "plt.boxplot(errorPerEpoch)\n",
    "plt.xlabel(\"Negative charges (1 = c_2, 2 = c_3, 3 = c_4)\")\n",
    "plt.ylabel(\"Observed dispersion\")\n",
    "plt.title(\"Model error on training\")\n",
    "plt.show()"
   ]
  },
  {
   "cell_type": "code",
   "execution_count": 60,
   "id": "17af7ec3",
   "metadata": {
    "id": "17af7ec3"
   },
   "outputs": [
    {
     "name": "stdout",
     "output_type": "stream",
     "text": [
      "Predicted charges: [-0.53045017 -0.45372543 -0.581346  ], Actual charges: [-0.70485425 -0.66174406 -0.45352829]\n",
      "Predicted charges: [-0.30917373 -0.6047821  -0.30067468], Actual charges: [-0.20928842 -0.60037655 -0.04810857]\n",
      "Predicted charges: [-0.41392642 -0.5519421  -0.4889437 ], Actual charges: [-0.30983463 -0.89006585 -0.01796825]\n",
      "Predicted charges: [-0.5114611  -0.48019767 -0.591058  ], Actual charges: [-0.8288317  -0.25308523 -0.43637314]\n",
      "Predicted charges: [-0.5047661  -0.49541333 -0.6148417 ], Actual charges: [-0.16873121 -0.1138682  -0.8036771 ]\n",
      "Predicted charges: [-0.5504794  -0.39722735 -0.48049384], Actual charges: [-0.6185554  -0.5891298  -0.42420405]\n",
      "Predicted charges: [-0.4891028  -0.5163381  -0.60805166], Actual charges: [-0.41475084 -0.22706938 -0.5925099 ]\n",
      "Predicted charges: [-0.4624562  -0.53690684 -0.56578803], Actual charges: [-0.16006294 -0.9131096  -0.5270913 ]\n",
      "Predicted charges: [-0.4840592  -0.50628424 -0.58247674], Actual charges: [-0.5206636  -0.62429523 -0.15938587]\n",
      "Predicted charges: [-0.50894594 -0.48470902 -0.5964508 ], Actual charges: [-0.95846313 -0.67919016 -0.75830525]\n",
      "Predicted charges: [-0.5109527  -0.48124963 -0.5923958 ], Actual charges: [-0.8034049 -0.5412855 -0.6818174]\n",
      "Predicted charges: [-0.5162099  -0.481521   -0.60636455], Actual charges: [-0.11109301 -0.05086418 -0.62879497]\n",
      "Predicted charges: [-0.47174147 -0.52962303 -0.5831084 ], Actual charges: [-0.08629394 -0.16477877 -0.55650014]\n",
      "Predicted charges: [-0.47719985 -0.5110817  -0.53179765], Actual charges: [-0.52877843 -0.42367262 -0.4962724 ]\n",
      "Predicted charges: [-0.30917373 -0.6047821  -0.30067468], Actual charges: [-0.20928842 -0.60037655 -0.04810857]\n",
      "Predicted charges: [-0.500494   -0.49823847 -0.61007965], Actual charges: [-0.9124747 -0.6231933 -0.8679962]\n",
      "Predicted charges: [-0.43341818 -0.53565645 -0.5012067 ], Actual charges: [-0.5532922  -0.41946065 -0.80242974]\n",
      "Predicted charges: [-0.39302367 -0.5551478  -0.4313359 ], Actual charges: [-0.3728974  -0.47021964 -0.13290901]\n",
      "Predicted charges: [-0.29454654 -0.6221981  -0.3006149 ], Actual charges: [-0.04642796 -0.75142026 -0.0066733 ]\n",
      "Predicted charges: [-0.57151943 -0.36894563 -0.46554816], Actual charges: [-0.12278833 -0.09665291 -0.27836427]\n",
      "Predicted charges: [-0.4974539  -0.49334887 -0.5857092 ], Actual charges: [-0.8941739  -0.78428704 -0.8214629 ]\n",
      "Predicted charges: [-0.47064918 -0.532498   -0.584892  ], Actual charges: [-0.2834421 -0.9243951 -0.6924802]\n",
      "Predicted charges: [-0.49233058 -0.49635682 -0.57809037], Actual charges: [-0.12497959 -0.9313844  -0.17135863]\n",
      "Predicted charges: [-0.36396518 -0.5811236  -0.4121213 ], Actual charges: [-0.38935432 -0.48996845 -0.08618085]\n",
      "Predicted charges: [-0.36396518 -0.5811236  -0.4121213 ], Actual charges: [-0.38935432 -0.48996845 -0.08618085]\n",
      "Predicted charges: [-0.5047661  -0.49541333 -0.6148417 ], Actual charges: [-0.16873121 -0.1138682  -0.8036771 ]\n",
      "Predicted charges: [-0.47711283 -0.52794826 -0.5996889 ], Actual charges: [-0.7859152  -0.9122234  -0.74412394]\n",
      "Predicted charges: [-0.47719985 -0.5110817  -0.53179765], Actual charges: [-0.52877843 -0.42367262 -0.4962724 ]\n",
      "Predicted charges: [-0.39302367 -0.5551478  -0.4313359 ], Actual charges: [-0.3728974  -0.47021964 -0.13290901]\n",
      "Predicted charges: [-0.48756987 -0.51423913 -0.5969115 ], Actual charges: [-0.22984149 -0.3395736  -0.72089595]\n",
      "Predicted charges: [-0.5109527  -0.48124963 -0.5923958 ], Actual charges: [-0.8034049 -0.5412855 -0.6818174]\n",
      "Predicted charges: [-0.4840592  -0.50628424 -0.58247674], Actual charges: [-0.5206636  -0.62429523 -0.15938587]\n",
      "Predicted charges: [-0.37137672 -0.5778967  -0.42352226], Actual charges: [-0.75982606 -0.84482783 -0.06847417]\n",
      "Predicted charges: [-0.39550835 -0.56210923 -0.45582235], Actual charges: [-0.9276323  -0.81764734 -0.37524036]\n",
      "Predicted charges: [-0.35764158 -0.5792028  -0.3860078 ], Actual charges: [-0.06704309 -0.12076204 -0.27023166]\n",
      "Predicted charges: [-0.43656576 -0.5400239  -0.5276684 ], Actual charges: [-0.05756876 -0.9796797  -0.8640522 ]\n",
      "Predicted charges: [-0.43930215 -0.53069    -0.50500387], Actual charges: [-0.68700284 -0.9281987  -0.09667127]\n",
      "Predicted charges: [-0.37137672 -0.5778967  -0.42352226], Actual charges: [-0.75982606 -0.84482783 -0.06847417]\n",
      "Predicted charges: [-0.4790305  -0.511504   -0.58275735], Actual charges: [-0.40716252 -0.48094618 -0.37515762]\n",
      "Predicted charges: [-0.5085277  -0.49764508 -0.6262195 ], Actual charges: [-0.8761782  -0.0335471  -0.10635067]\n",
      "Predicted charges: [-0.47920063 -0.5104157  -0.53737384], Actual charges: [-0.5242448 -0.6315054 -0.6609763]\n",
      "Predicted charges: [-0.5044636 -0.4953645 -0.6146433], Actual charges: [-0.4411438  -0.07289914 -0.28445038]\n",
      "Predicted charges: [-0.5614423 -0.4088205 -0.5064716], Actual charges: [-0.43282238 -0.4325906  -0.8419478 ]\n",
      "Predicted charges: [-0.38705057 -0.5545307  -0.41046304], Actual charges: [-0.8615594  -0.10516876 -0.4602609 ]\n",
      "Predicted charges: [-0.47174147 -0.52962303 -0.5831084 ], Actual charges: [-0.08629394 -0.16477877 -0.55650014]\n",
      "Predicted charges: [-0.482026  -0.5091759 -0.5843021], Actual charges: [-0.12848495 -0.95639795 -0.13101207]\n",
      "Predicted charges: [-0.36396518 -0.5811236  -0.4121213 ], Actual charges: [-0.38935432 -0.48996845 -0.08618085]\n",
      "Predicted charges: [-0.5116152  -0.480788   -0.59326744], Actual charges: [-0.4109794 -0.4959333 -0.9825246]\n",
      "Predicted charges: [-0.4251272  -0.5457001  -0.50777245], Actual charges: [-0.32130128 -0.7680519  -0.1655971 ]\n",
      "Predicted charges: [-0.48697615 -0.5039356  -0.5840705 ], Actual charges: [-0.8903967  -0.8459716  -0.69113445]\n",
      "Predicted charges: [-0.48539102 -0.5178789  -0.5988381 ], Actual charges: [-0.7155514  -0.46735096 -0.7161213 ]\n",
      "Predicted charges: [-0.3833211 -0.5689011 -0.4352196], Actual charges: [-0.6472032  -0.7587219  -0.05025694]\n",
      "Predicted charges: [-0.47442436 -0.5134618  -0.57212   ], Actual charges: [-0.861279   -0.6510275  -0.97197485]\n",
      "Predicted charges: [-0.48539102 -0.5178789  -0.5988381 ], Actual charges: [-0.7155514  -0.46735096 -0.7161213 ]\n",
      "Predicted charges: [-0.51175797 -0.48759475 -0.6108777 ], Actual charges: [-0.2275447  -0.03446217 -0.5137834 ]\n",
      "Predicted charges: [-0.4875981 -0.4979054 -0.5667827], Actual charges: [-0.9731834 -0.1922968 -0.4088826]\n",
      "Predicted charges: [-0.5114611  -0.48019767 -0.591058  ], Actual charges: [-0.8288317  -0.25308523 -0.43637314]\n",
      "Predicted charges: [-0.5614423 -0.4088205 -0.5064716], Actual charges: [-0.43282238 -0.4325906  -0.8419478 ]\n",
      "Predicted charges: [-0.51742584 -0.45782652 -0.5021379 ], Actual charges: [-0.78167963 -0.3411705  -0.8381497 ]\n",
      "Predicted charges: [-0.4251272  -0.5457001  -0.50777245], Actual charges: [-0.32130128 -0.7680519  -0.1655971 ]\n",
      "Predicted charges: [-0.37965566 -0.56075567 -0.40450904], Actual charges: [-0.63293535 -0.1991621  -0.2756137 ]\n",
      "Predicted charges: [-0.37965566 -0.56075567 -0.40450904], Actual charges: [-0.63293535 -0.1991621  -0.2756137 ]\n",
      "Predicted charges: [-0.4624562  -0.53690684 -0.56578803], Actual charges: [-0.16006294 -0.9131096  -0.5270913 ]\n",
      "Predicted charges: [-0.4914981  -0.51202327 -0.59467626], Actual charges: [-0.23844086 -0.7982437  -0.96373665]\n",
      "Predicted charges: [-0.47247246 -0.5052839  -0.5439775 ], Actual charges: [-0.4197311  -0.34731492 -0.2703901 ]\n",
      "Predicted charges: [-0.49233058 -0.49635682 -0.57809037], Actual charges: [-0.12497959 -0.9313844  -0.17135863]\n",
      "Predicted charges: [-0.37478217 -0.56957734 -0.4143024 ], Actual charges: [-0.52291113 -0.16238636 -0.03167761]\n",
      "Predicted charges: [-0.51646876 -0.47957808 -0.60421485], Actual charges: [-0.9034711  -0.25056812 -0.611861  ]\n",
      "Predicted charges: [-0.51646876 -0.47957808 -0.60421485], Actual charges: [-0.9034711  -0.25056812 -0.611861  ]\n",
      "Predicted charges: [-0.4240052  -0.548885   -0.51377475], Actual charges: [-0.03399318 -0.08961437 -0.9840343 ]\n",
      "Predicted charges: [-0.5044636 -0.4953645 -0.6146433], Actual charges: [-0.4411438  -0.07289914 -0.28445038]\n",
      "Predicted charges: [-0.37137672 -0.5778967  -0.42352226], Actual charges: [-0.75982606 -0.84482783 -0.06847417]\n",
      "Predicted charges: [-0.4813364 -0.5013103 -0.5559001], Actual charges: [-0.76720685 -0.23745348 -0.7093544 ]\n",
      "Predicted charges: [-0.49618685 -0.5092312  -0.6154918 ], Actual charges: [-0.97888136 -0.6780894  -0.24558435]\n",
      "Predicted charges: [-0.482026  -0.5091759 -0.5843021], Actual charges: [-0.12848495 -0.95639795 -0.13101207]\n",
      "Predicted charges: [-0.43711805 -0.5367378  -0.5222762 ], Actual charges: [-0.38919482 -0.2812407  -0.2140717 ]\n",
      "Predicted charges: [-0.482026  -0.5091759 -0.5843021], Actual charges: [-0.12848495 -0.95639795 -0.13101207]\n",
      "Predicted charges: [-0.41392642 -0.5519421  -0.4889437 ], Actual charges: [-0.30983463 -0.89006585 -0.01796825]\n",
      "Predicted charges: [-0.5130148  -0.48455453 -0.60760164], Actual charges: [-0.81953406 -0.00904059 -0.85725117]\n",
      "Predicted charges: [-0.5047661  -0.49541333 -0.6148417 ], Actual charges: [-0.16873121 -0.1138682  -0.8036771 ]\n",
      "Predicted charges: [-0.5116152  -0.480788   -0.59326744], Actual charges: [-0.4109794 -0.4959333 -0.9825246]\n",
      "Predicted charges: [-0.4807003 -0.5238048 -0.6011987], Actual charges: [-0.5122477 -0.5047246 -0.5907416]\n",
      "Predicted charges: [-0.46464506 -0.5381297  -0.58247864], Actual charges: [-0.16389808 -0.7365732  -0.5592653 ]\n",
      "Predicted charges: [-0.3763407  -0.57540303 -0.43337846], Actual charges: [-0.25634468 -0.17093244 -0.19580886]\n",
      "Predicted charges: [-0.5044636 -0.4953645 -0.6146433], Actual charges: [-0.4411438  -0.07289914 -0.28445038]\n",
      "Predicted charges: [-0.47247246 -0.5052839  -0.5439775 ], Actual charges: [-0.4197311  -0.34731492 -0.2703901 ]\n",
      "Predicted charges: [-0.39302367 -0.5551478  -0.4313359 ], Actual charges: [-0.3728974  -0.47021964 -0.13290901]\n",
      "Predicted charges: [-0.462352   -0.51955956 -0.54991645], Actual charges: [-0.9430645  -0.94473404 -0.5994704 ]\n",
      "Predicted charges: [-0.36396518 -0.5811236  -0.4121213 ], Actual charges: [-0.38935432 -0.48996845 -0.08618085]\n",
      "Predicted charges: [-0.44358617 -0.5282683  -0.51790226], Actual charges: [-0.3013866 -0.2226545 -0.381314 ]\n",
      "Predicted charges: [-0.49618685 -0.5092312  -0.6154918 ], Actual charges: [-0.97888136 -0.6780894  -0.24558435]\n",
      "Predicted charges: [-0.462352   -0.51955956 -0.54991645], Actual charges: [-0.9430645  -0.94473404 -0.5994704 ]\n",
      "Predicted charges: [-0.46464506 -0.5381297  -0.58247864], Actual charges: [-0.16389808 -0.7365732  -0.5592653 ]\n",
      "Predicted charges: [-0.462352   -0.51955956 -0.54991645], Actual charges: [-0.9430645  -0.94473404 -0.5994704 ]\n",
      "Predicted charges: [-0.5044636 -0.4953645 -0.6146433], Actual charges: [-0.4411438  -0.07289914 -0.28445038]\n",
      "Predicted charges: [-0.30917373 -0.6047821  -0.30067468], Actual charges: [-0.20928842 -0.60037655 -0.04810857]\n",
      "Predicted charges: [-0.37965566 -0.56075567 -0.40450904], Actual charges: [-0.63293535 -0.1991621  -0.2756137 ]\n",
      "Predicted charges: [-0.4875981 -0.4979054 -0.5667827], Actual charges: [-0.9731834 -0.1922968 -0.4088826]\n",
      "Predicted charges: [-0.5614423 -0.4088205 -0.5064716], Actual charges: [-0.43282238 -0.4325906  -0.8419478 ]\n",
      "Predicted charges: [-0.5130133 -0.4834187 -0.6045524], Actual charges: [-0.9143324  -0.5480513  -0.64857656]\n"
     ]
    }
   ],
   "source": [
    "import random\n",
    "\n",
    "# number of example predictions\n",
    "nrExamplePredictions = 100\n",
    "\n",
    "# Set model to eval mode\n",
    "lstm.eval()\n",
    "\n",
    "predictionError = np.empty((nrExamplePredictions, 3))\n",
    "for examplePrediction in range(nrExamplePredictions):\n",
    "    # Get a random index\n",
    "    index = random.choice(range(len(simulation_test)))\n",
    "    \n",
    "    # Get corresponding tensors\n",
    "    particlePositions = torch.tensor(simulation_test[index]).type(torch.FloatTensor).to(dev)\n",
    "    particleCharges = torch.tensor(charges_test[index]).type(torch.FloatTensor).to(dev)\n",
    "    \n",
    "    # Forward propagate the particle positions through the model\n",
    "    with torch.no_grad():\n",
    "        predictedCharges = lstm(particlePositions)\n",
    "        \n",
    "        # Store prediction result in error\n",
    "        prediction = predictedCharges[0].cpu().numpy()\n",
    "        expected = particleCharges.cpu().numpy()\n",
    "        predictionError[examplePrediction] = expected - prediction\n",
    "    \n",
    "    # Print results\n",
    "    print(f'Predicted charges: {prediction}, Actual charges: {expected}')"
   ]
  },
  {
   "cell_type": "code",
   "execution_count": 58,
   "id": "43a3422e",
   "metadata": {
    "id": "43a3422e"
   },
   "outputs": [
    {
     "data": {
      "image/png": "[encoded data removed]",
      "text/plain": [
       "<Figure size 432x288 with 1 Axes>"
      ]
     },
     "metadata": {
      "needs_background": "light"
     },
     "output_type": "display_data"
    }
   ],
   "source": [
    "# Plot model error on test set\n",
    "plt.figure()\n",
    "plt.boxplot(predictionError)\n",
    "plt.xlabel(\"Negative charges (1 = c_2, 2 = c_3, 3 = c_4)\")\n",
    "plt.ylabel(\"Observed dispersion\")\n",
    "plt.title(\"Model error on test set\")\n",
    "plt.show()"
   ]
  },
  {
   "cell_type": "markdown",
   "id": "9a59808b",
   "metadata": {
    "id": "9a59808b"
   },
   "source": [
    "# Task 3.2"
   ]
  },
  {
   "cell_type": "markdown",
   "id": "f64a855d",
   "metadata": {
    "id": "f64a855d"
   },
   "source": [
    "## Data Handling and Preprocessing"
   ]
  },
  {
   "cell_type": "code",
   "execution_count": null,
   "id": "5b935865",
   "metadata": {
    "id": "5b935865"
   },
   "outputs": [],
   "source": [
    "#todo\n",
    "# Let's add the static input at every call of the model, or design it in a way that has a seperate method for the static data (per simulation) for 3.2"
   ]
  },
  {
   "cell_type": "code",
   "execution_count": null,
   "id": "0ec19a8d",
   "metadata": {
    "id": "0ec19a8d"
   },
   "outputs": [],
   "source": [
    "\n",
    "simulation_train_task32 = []\n",
    "simulation_continued_train\n",
    "\n",
    "simulation_train_task32_no_nothing = []\n",
    "simulation_train_task32\n",
    "for i in range(150):\n",
    "    tensor = torch.Tensor(simulation_train_task32[i])\n",
    "    simulation_test_no_nothing.append(tensor)"
   ]
  },
  {
   "cell_type": "code",
   "execution_count": null,
   "id": "8f189d19",
   "metadata": {
    "id": "8f189d19"
   },
   "outputs": [],
   "source": []
  },
  {
   "cell_type": "markdown",
   "id": "867aabb3",
   "metadata": {
    "id": "867aabb3"
   },
   "source": [
    "## Model Implementation"
   ]
  },
  {
   "cell_type": "code",
   "execution_count": null,
   "id": "36fe2739",
   "metadata": {
    "id": "36fe2739"
   },
   "outputs": [],
   "source": [
    "#todo"
   ]
  },
  {
   "cell_type": "code",
   "execution_count": null,
   "id": "f80b1ca2",
   "metadata": {
    "id": "f80b1ca2"
   },
   "outputs": [],
   "source": []
  },
  {
   "cell_type": "code",
   "execution_count": null,
   "id": "fdbf2800",
   "metadata": {
    "id": "fdbf2800"
   },
   "outputs": [],
   "source": []
  },
  {
   "cell_type": "markdown",
   "id": "826fae3f",
   "metadata": {
    "id": "826fae3f"
   },
   "source": [
    "## Model Training"
   ]
  },
  {
   "cell_type": "code",
   "execution_count": null,
   "id": "db3fce95",
   "metadata": {
    "id": "db3fce95"
   },
   "outputs": [],
   "source": [
    "#todo"
   ]
  },
  {
   "cell_type": "code",
   "execution_count": null,
   "id": "41ddb47d",
   "metadata": {
    "id": "41ddb47d"
   },
   "outputs": [],
   "source": []
  },
  {
   "cell_type": "code",
   "execution_count": null,
   "id": "4ee069fc",
   "metadata": {
    "id": "4ee069fc"
   },
   "outputs": [],
   "source": []
  },
  {
   "cell_type": "markdown",
   "id": "c87278a2",
   "metadata": {
    "id": "c87278a2"
   },
   "source": [
    "## Evaluation"
   ]
  },
  {
   "cell_type": "code",
   "execution_count": null,
   "id": "2cbb6137",
   "metadata": {
    "id": "2cbb6137"
   },
   "outputs": [],
   "source": [
    "#todo"
   ]
  },
  {
   "cell_type": "code",
   "execution_count": null,
   "id": "2cf6f4b7",
   "metadata": {
    "id": "2cf6f4b7"
   },
   "outputs": [],
   "source": []
  },
  {
   "cell_type": "code",
   "execution_count": null,
   "id": "736c10d8",
   "metadata": {
    "id": "736c10d8"
   },
   "outputs": [],
   "source": []
  }
 ],
 "metadata": {
  "colab": {
   "collapsed_sections": [
    "f64a855d",
    "867aabb3",
    "826fae3f",
    "c87278a2"
   ],
   "name": "Copy of Copy of a3_skeleton.ipynb",
   "provenance": []
  },
  "kernelspec": {
   "display_name": "Python 3 (ipykernel)",
   "language": "python",
   "name": "python3"
  },
  "language_info": {
   "codemirror_mode": {
    "name": "ipython",
    "version": 3
   },
   "file_extension": ".py",
   "mimetype": "text/x-python",
   "name": "python",
   "nbconvert_exporter": "python",
   "pygments_lexer": "ipython3",
   "version": "3.10.4"
  }
 },
 "nbformat": 4,
 "nbformat_minor": 5
}
